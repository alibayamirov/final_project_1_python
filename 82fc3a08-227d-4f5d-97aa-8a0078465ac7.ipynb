{
 "cells": [
  {
   "cell_type": "markdown",
   "metadata": {},
   "source": [
    "# Цель проекта: Используя исторические данные о продажах компьютерных игр, оценки пользователей и экспертов, жанры и платформы, выявить закономерности, определяющие успешность игры"
   ]
  },
  {
   "cell_type": "markdown",
   "metadata": {},
   "source": [
    "# Описание проекта: Выявлены параметры, определяющие успешность игры в разных регионах мира. На основании этого подготовлен отчет для магазина компьютерных игр для планирования рекламных кампаний. Проведена предобработка данных, анализ. Выбран актуальный период для анализа. Составлены портреты пользователей каждого региона. Проверены гипотезы: средние пользовательские рейтинги платформ Xbox One и PC одинаковые; средние пользовательские рейтинги жанров Action и Sports разные. При анализе использовал критерий Стьюдента для независимых выборок."
   ]
  },
  {
   "cell_type": "markdown",
   "metadata": {},
   "source": [
    "# Описание данных\n",
    "* Name — название игры\n",
    "* Platform — платформа\n",
    "* Year_of_Release — год выпуска\n",
    "* Genre — жанр игры\n",
    "* NA_sales — продажи в Северной Америке (миллионы проданных копий)\n",
    "* EU_sales — продажи в Европе (миллионы проданных копий)\n",
    "* JP_sales — продажи в Японии (миллионы проданных копий)\n",
    "* Other_sales — продажи в других странах (миллионы проданных копий)\n",
    "* Critic_Score — оценка критиков (максимум 100)\n",
    "* User_Score — оценка пользователей (максимум 10)\n",
    "* Rating — рейтинг от организации ESRB (англ. Entertainment Software Rating Board). Эта ассоциация определяет рейтинг компьютерных игр и присваивает им подходящую возрастную категорию."
   ]
  },
  {
   "cell_type": "markdown",
   "metadata": {},
   "source": [
    "# Шаг 1. Открыть файл с данными и изучить общую информацию"
   ]
  },
  {
   "cell_type": "code",
   "execution_count": 4,
   "metadata": {},
   "outputs": [],
   "source": [
    "import pandas as pd"
   ]
  },
  {
   "cell_type": "code",
   "execution_count": 5,
   "metadata": {},
   "outputs": [],
   "source": [
    "import matplotlib.pyplot as plt"
   ]
  },
  {
   "cell_type": "code",
   "execution_count": 6,
   "metadata": {},
   "outputs": [],
   "source": [
    "import seaborn as sns"
   ]
  },
  {
   "cell_type": "code",
   "execution_count": 7,
   "metadata": {},
   "outputs": [],
   "source": [
    "import numpy as np"
   ]
  },
  {
   "cell_type": "code",
   "execution_count": 8,
   "metadata": {},
   "outputs": [],
   "source": [
    "from scipy import stats as st"
   ]
  },
  {
   "cell_type": "code",
   "execution_count": 9,
   "metadata": {},
   "outputs": [
    {
     "data": {
      "text/html": [
       "<div>\n",
       "<style scoped>\n",
       "    .dataframe tbody tr th:only-of-type {\n",
       "        vertical-align: middle;\n",
       "    }\n",
       "\n",
       "    .dataframe tbody tr th {\n",
       "        vertical-align: top;\n",
       "    }\n",
       "\n",
       "    .dataframe thead th {\n",
       "        text-align: right;\n",
       "    }\n",
       "</style>\n",
       "<table border=\"1\" class=\"dataframe\">\n",
       "  <thead>\n",
       "    <tr style=\"text-align: right;\">\n",
       "      <th></th>\n",
       "      <th>Name</th>\n",
       "      <th>Platform</th>\n",
       "      <th>Year_of_Release</th>\n",
       "      <th>Genre</th>\n",
       "      <th>NA_sales</th>\n",
       "      <th>EU_sales</th>\n",
       "      <th>JP_sales</th>\n",
       "      <th>Other_sales</th>\n",
       "      <th>Critic_Score</th>\n",
       "      <th>User_Score</th>\n",
       "      <th>Rating</th>\n",
       "    </tr>\n",
       "  </thead>\n",
       "  <tbody>\n",
       "    <tr>\n",
       "      <th>0</th>\n",
       "      <td>Wii Sports</td>\n",
       "      <td>Wii</td>\n",
       "      <td>2006.0</td>\n",
       "      <td>Sports</td>\n",
       "      <td>41.36</td>\n",
       "      <td>28.96</td>\n",
       "      <td>3.77</td>\n",
       "      <td>8.45</td>\n",
       "      <td>76.0</td>\n",
       "      <td>8</td>\n",
       "      <td>E</td>\n",
       "    </tr>\n",
       "    <tr>\n",
       "      <th>1</th>\n",
       "      <td>Super Mario Bros.</td>\n",
       "      <td>NES</td>\n",
       "      <td>1985.0</td>\n",
       "      <td>Platform</td>\n",
       "      <td>29.08</td>\n",
       "      <td>3.58</td>\n",
       "      <td>6.81</td>\n",
       "      <td>0.77</td>\n",
       "      <td>NaN</td>\n",
       "      <td>NaN</td>\n",
       "      <td>NaN</td>\n",
       "    </tr>\n",
       "    <tr>\n",
       "      <th>2</th>\n",
       "      <td>Mario Kart Wii</td>\n",
       "      <td>Wii</td>\n",
       "      <td>2008.0</td>\n",
       "      <td>Racing</td>\n",
       "      <td>15.68</td>\n",
       "      <td>12.76</td>\n",
       "      <td>3.79</td>\n",
       "      <td>3.29</td>\n",
       "      <td>82.0</td>\n",
       "      <td>8.3</td>\n",
       "      <td>E</td>\n",
       "    </tr>\n",
       "    <tr>\n",
       "      <th>3</th>\n",
       "      <td>Wii Sports Resort</td>\n",
       "      <td>Wii</td>\n",
       "      <td>2009.0</td>\n",
       "      <td>Sports</td>\n",
       "      <td>15.61</td>\n",
       "      <td>10.93</td>\n",
       "      <td>3.28</td>\n",
       "      <td>2.95</td>\n",
       "      <td>80.0</td>\n",
       "      <td>8</td>\n",
       "      <td>E</td>\n",
       "    </tr>\n",
       "    <tr>\n",
       "      <th>4</th>\n",
       "      <td>Pokemon Red/Pokemon Blue</td>\n",
       "      <td>GB</td>\n",
       "      <td>1996.0</td>\n",
       "      <td>Role-Playing</td>\n",
       "      <td>11.27</td>\n",
       "      <td>8.89</td>\n",
       "      <td>10.22</td>\n",
       "      <td>1.00</td>\n",
       "      <td>NaN</td>\n",
       "      <td>NaN</td>\n",
       "      <td>NaN</td>\n",
       "    </tr>\n",
       "    <tr>\n",
       "      <th>...</th>\n",
       "      <td>...</td>\n",
       "      <td>...</td>\n",
       "      <td>...</td>\n",
       "      <td>...</td>\n",
       "      <td>...</td>\n",
       "      <td>...</td>\n",
       "      <td>...</td>\n",
       "      <td>...</td>\n",
       "      <td>...</td>\n",
       "      <td>...</td>\n",
       "      <td>...</td>\n",
       "    </tr>\n",
       "    <tr>\n",
       "      <th>16710</th>\n",
       "      <td>Samurai Warriors: Sanada Maru</td>\n",
       "      <td>PS3</td>\n",
       "      <td>2016.0</td>\n",
       "      <td>Action</td>\n",
       "      <td>0.00</td>\n",
       "      <td>0.00</td>\n",
       "      <td>0.01</td>\n",
       "      <td>0.00</td>\n",
       "      <td>NaN</td>\n",
       "      <td>NaN</td>\n",
       "      <td>NaN</td>\n",
       "    </tr>\n",
       "    <tr>\n",
       "      <th>16711</th>\n",
       "      <td>LMA Manager 2007</td>\n",
       "      <td>X360</td>\n",
       "      <td>2006.0</td>\n",
       "      <td>Sports</td>\n",
       "      <td>0.00</td>\n",
       "      <td>0.01</td>\n",
       "      <td>0.00</td>\n",
       "      <td>0.00</td>\n",
       "      <td>NaN</td>\n",
       "      <td>NaN</td>\n",
       "      <td>NaN</td>\n",
       "    </tr>\n",
       "    <tr>\n",
       "      <th>16712</th>\n",
       "      <td>Haitaka no Psychedelica</td>\n",
       "      <td>PSV</td>\n",
       "      <td>2016.0</td>\n",
       "      <td>Adventure</td>\n",
       "      <td>0.00</td>\n",
       "      <td>0.00</td>\n",
       "      <td>0.01</td>\n",
       "      <td>0.00</td>\n",
       "      <td>NaN</td>\n",
       "      <td>NaN</td>\n",
       "      <td>NaN</td>\n",
       "    </tr>\n",
       "    <tr>\n",
       "      <th>16713</th>\n",
       "      <td>Spirits &amp; Spells</td>\n",
       "      <td>GBA</td>\n",
       "      <td>2003.0</td>\n",
       "      <td>Platform</td>\n",
       "      <td>0.01</td>\n",
       "      <td>0.00</td>\n",
       "      <td>0.00</td>\n",
       "      <td>0.00</td>\n",
       "      <td>NaN</td>\n",
       "      <td>NaN</td>\n",
       "      <td>NaN</td>\n",
       "    </tr>\n",
       "    <tr>\n",
       "      <th>16714</th>\n",
       "      <td>Winning Post 8 2016</td>\n",
       "      <td>PSV</td>\n",
       "      <td>2016.0</td>\n",
       "      <td>Simulation</td>\n",
       "      <td>0.00</td>\n",
       "      <td>0.00</td>\n",
       "      <td>0.01</td>\n",
       "      <td>0.00</td>\n",
       "      <td>NaN</td>\n",
       "      <td>NaN</td>\n",
       "      <td>NaN</td>\n",
       "    </tr>\n",
       "  </tbody>\n",
       "</table>\n",
       "<p>16715 rows × 11 columns</p>\n",
       "</div>"
      ],
      "text/plain": [
       "                                Name Platform  Year_of_Release         Genre  \\\n",
       "0                         Wii Sports      Wii           2006.0        Sports   \n",
       "1                  Super Mario Bros.      NES           1985.0      Platform   \n",
       "2                     Mario Kart Wii      Wii           2008.0        Racing   \n",
       "3                  Wii Sports Resort      Wii           2009.0        Sports   \n",
       "4           Pokemon Red/Pokemon Blue       GB           1996.0  Role-Playing   \n",
       "...                              ...      ...              ...           ...   \n",
       "16710  Samurai Warriors: Sanada Maru      PS3           2016.0        Action   \n",
       "16711               LMA Manager 2007     X360           2006.0        Sports   \n",
       "16712        Haitaka no Psychedelica      PSV           2016.0     Adventure   \n",
       "16713               Spirits & Spells      GBA           2003.0      Platform   \n",
       "16714            Winning Post 8 2016      PSV           2016.0    Simulation   \n",
       "\n",
       "       NA_sales  EU_sales  JP_sales  Other_sales  Critic_Score User_Score  \\\n",
       "0         41.36     28.96      3.77         8.45          76.0          8   \n",
       "1         29.08      3.58      6.81         0.77           NaN        NaN   \n",
       "2         15.68     12.76      3.79         3.29          82.0        8.3   \n",
       "3         15.61     10.93      3.28         2.95          80.0          8   \n",
       "4         11.27      8.89     10.22         1.00           NaN        NaN   \n",
       "...         ...       ...       ...          ...           ...        ...   \n",
       "16710      0.00      0.00      0.01         0.00           NaN        NaN   \n",
       "16711      0.00      0.01      0.00         0.00           NaN        NaN   \n",
       "16712      0.00      0.00      0.01         0.00           NaN        NaN   \n",
       "16713      0.01      0.00      0.00         0.00           NaN        NaN   \n",
       "16714      0.00      0.00      0.01         0.00           NaN        NaN   \n",
       "\n",
       "      Rating  \n",
       "0          E  \n",
       "1        NaN  \n",
       "2          E  \n",
       "3          E  \n",
       "4        NaN  \n",
       "...      ...  \n",
       "16710    NaN  \n",
       "16711    NaN  \n",
       "16712    NaN  \n",
       "16713    NaN  \n",
       "16714    NaN  \n",
       "\n",
       "[16715 rows x 11 columns]"
      ]
     },
     "execution_count": 9,
     "metadata": {},
     "output_type": "execute_result"
    }
   ],
   "source": [
    "data = pd.read_csv('/datasets/games.csv')\n",
    "data"
   ]
  },
  {
   "cell_type": "code",
   "execution_count": 10,
   "metadata": {},
   "outputs": [
    {
     "name": "stdout",
     "output_type": "stream",
     "text": [
      "<class 'pandas.core.frame.DataFrame'>\n",
      "RangeIndex: 16715 entries, 0 to 16714\n",
      "Data columns (total 11 columns):\n",
      " #   Column           Non-Null Count  Dtype  \n",
      "---  ------           --------------  -----  \n",
      " 0   Name             16713 non-null  object \n",
      " 1   Platform         16715 non-null  object \n",
      " 2   Year_of_Release  16446 non-null  float64\n",
      " 3   Genre            16713 non-null  object \n",
      " 4   NA_sales         16715 non-null  float64\n",
      " 5   EU_sales         16715 non-null  float64\n",
      " 6   JP_sales         16715 non-null  float64\n",
      " 7   Other_sales      16715 non-null  float64\n",
      " 8   Critic_Score     8137 non-null   float64\n",
      " 9   User_Score       10014 non-null  object \n",
      " 10  Rating           9949 non-null   object \n",
      "dtypes: float64(6), object(5)\n",
      "memory usage: 1.4+ MB\n"
     ]
    }
   ],
   "source": [
    "data.info()"
   ]
  },
  {
   "cell_type": "code",
   "execution_count": 11,
   "metadata": {},
   "outputs": [
    {
     "data": {
      "text/plain": [
       "Name                object\n",
       "Platform            object\n",
       "Year_of_Release    float64\n",
       "Genre               object\n",
       "NA_sales           float64\n",
       "EU_sales           float64\n",
       "JP_sales           float64\n",
       "Other_sales        float64\n",
       "Critic_Score       float64\n",
       "User_Score          object\n",
       "Rating              object\n",
       "dtype: object"
      ]
     },
     "execution_count": 11,
     "metadata": {},
     "output_type": "execute_result"
    }
   ],
   "source": [
    "data.dtypes"
   ]
  },
  {
   "cell_type": "code",
   "execution_count": 12,
   "metadata": {},
   "outputs": [
    {
     "data": {
      "text/html": [
       "<div>\n",
       "<style scoped>\n",
       "    .dataframe tbody tr th:only-of-type {\n",
       "        vertical-align: middle;\n",
       "    }\n",
       "\n",
       "    .dataframe tbody tr th {\n",
       "        vertical-align: top;\n",
       "    }\n",
       "\n",
       "    .dataframe thead th {\n",
       "        text-align: right;\n",
       "    }\n",
       "</style>\n",
       "<table border=\"1\" class=\"dataframe\">\n",
       "  <thead>\n",
       "    <tr style=\"text-align: right;\">\n",
       "      <th></th>\n",
       "      <th>Year_of_Release</th>\n",
       "      <th>NA_sales</th>\n",
       "      <th>EU_sales</th>\n",
       "      <th>JP_sales</th>\n",
       "      <th>Other_sales</th>\n",
       "      <th>Critic_Score</th>\n",
       "    </tr>\n",
       "  </thead>\n",
       "  <tbody>\n",
       "    <tr>\n",
       "      <th>count</th>\n",
       "      <td>16446.000000</td>\n",
       "      <td>16715.000000</td>\n",
       "      <td>16715.000000</td>\n",
       "      <td>16715.000000</td>\n",
       "      <td>16715.000000</td>\n",
       "      <td>8137.000000</td>\n",
       "    </tr>\n",
       "    <tr>\n",
       "      <th>mean</th>\n",
       "      <td>2006.484616</td>\n",
       "      <td>0.263377</td>\n",
       "      <td>0.145060</td>\n",
       "      <td>0.077617</td>\n",
       "      <td>0.047342</td>\n",
       "      <td>68.967679</td>\n",
       "    </tr>\n",
       "    <tr>\n",
       "      <th>std</th>\n",
       "      <td>5.877050</td>\n",
       "      <td>0.813604</td>\n",
       "      <td>0.503339</td>\n",
       "      <td>0.308853</td>\n",
       "      <td>0.186731</td>\n",
       "      <td>13.938165</td>\n",
       "    </tr>\n",
       "    <tr>\n",
       "      <th>min</th>\n",
       "      <td>1980.000000</td>\n",
       "      <td>0.000000</td>\n",
       "      <td>0.000000</td>\n",
       "      <td>0.000000</td>\n",
       "      <td>0.000000</td>\n",
       "      <td>13.000000</td>\n",
       "    </tr>\n",
       "    <tr>\n",
       "      <th>25%</th>\n",
       "      <td>2003.000000</td>\n",
       "      <td>0.000000</td>\n",
       "      <td>0.000000</td>\n",
       "      <td>0.000000</td>\n",
       "      <td>0.000000</td>\n",
       "      <td>60.000000</td>\n",
       "    </tr>\n",
       "    <tr>\n",
       "      <th>50%</th>\n",
       "      <td>2007.000000</td>\n",
       "      <td>0.080000</td>\n",
       "      <td>0.020000</td>\n",
       "      <td>0.000000</td>\n",
       "      <td>0.010000</td>\n",
       "      <td>71.000000</td>\n",
       "    </tr>\n",
       "    <tr>\n",
       "      <th>75%</th>\n",
       "      <td>2010.000000</td>\n",
       "      <td>0.240000</td>\n",
       "      <td>0.110000</td>\n",
       "      <td>0.040000</td>\n",
       "      <td>0.030000</td>\n",
       "      <td>79.000000</td>\n",
       "    </tr>\n",
       "    <tr>\n",
       "      <th>max</th>\n",
       "      <td>2016.000000</td>\n",
       "      <td>41.360000</td>\n",
       "      <td>28.960000</td>\n",
       "      <td>10.220000</td>\n",
       "      <td>10.570000</td>\n",
       "      <td>98.000000</td>\n",
       "    </tr>\n",
       "  </tbody>\n",
       "</table>\n",
       "</div>"
      ],
      "text/plain": [
       "       Year_of_Release      NA_sales      EU_sales      JP_sales  \\\n",
       "count     16446.000000  16715.000000  16715.000000  16715.000000   \n",
       "mean       2006.484616      0.263377      0.145060      0.077617   \n",
       "std           5.877050      0.813604      0.503339      0.308853   \n",
       "min        1980.000000      0.000000      0.000000      0.000000   \n",
       "25%        2003.000000      0.000000      0.000000      0.000000   \n",
       "50%        2007.000000      0.080000      0.020000      0.000000   \n",
       "75%        2010.000000      0.240000      0.110000      0.040000   \n",
       "max        2016.000000     41.360000     28.960000     10.220000   \n",
       "\n",
       "        Other_sales  Critic_Score  \n",
       "count  16715.000000   8137.000000  \n",
       "mean       0.047342     68.967679  \n",
       "std        0.186731     13.938165  \n",
       "min        0.000000     13.000000  \n",
       "25%        0.000000     60.000000  \n",
       "50%        0.010000     71.000000  \n",
       "75%        0.030000     79.000000  \n",
       "max       10.570000     98.000000  "
      ]
     },
     "execution_count": 12,
     "metadata": {},
     "output_type": "execute_result"
    }
   ],
   "source": [
    "data.describe()"
   ]
  },
  {
   "cell_type": "code",
   "execution_count": 13,
   "metadata": {},
   "outputs": [
    {
     "data": {
      "text/plain": [
       "16715"
      ]
     },
     "execution_count": 13,
     "metadata": {},
     "output_type": "execute_result"
    }
   ],
   "source": [
    "data.shape[0]"
   ]
  },
  {
   "cell_type": "markdown",
   "metadata": {},
   "source": [
    "# Шаг 2. Подготовить данные"
   ]
  },
  {
   "cell_type": "markdown",
   "metadata": {},
   "source": [
    "##### Замените названия столбцов (приведите к нижнему регистру):"
   ]
  },
  {
   "cell_type": "code",
   "execution_count": 14,
   "metadata": {},
   "outputs": [],
   "source": [
    "data.columns=data.columns.str.lower()"
   ]
  },
  {
   "cell_type": "code",
   "execution_count": 15,
   "metadata": {
    "scrolled": true
   },
   "outputs": [
    {
     "data": {
      "text/html": [
       "<div>\n",
       "<style scoped>\n",
       "    .dataframe tbody tr th:only-of-type {\n",
       "        vertical-align: middle;\n",
       "    }\n",
       "\n",
       "    .dataframe tbody tr th {\n",
       "        vertical-align: top;\n",
       "    }\n",
       "\n",
       "    .dataframe thead th {\n",
       "        text-align: right;\n",
       "    }\n",
       "</style>\n",
       "<table border=\"1\" class=\"dataframe\">\n",
       "  <thead>\n",
       "    <tr style=\"text-align: right;\">\n",
       "      <th></th>\n",
       "      <th>name</th>\n",
       "      <th>platform</th>\n",
       "      <th>year_of_release</th>\n",
       "      <th>genre</th>\n",
       "      <th>na_sales</th>\n",
       "      <th>eu_sales</th>\n",
       "      <th>jp_sales</th>\n",
       "      <th>other_sales</th>\n",
       "      <th>critic_score</th>\n",
       "      <th>user_score</th>\n",
       "      <th>rating</th>\n",
       "    </tr>\n",
       "  </thead>\n",
       "  <tbody>\n",
       "    <tr>\n",
       "      <th>0</th>\n",
       "      <td>Wii Sports</td>\n",
       "      <td>Wii</td>\n",
       "      <td>2006.0</td>\n",
       "      <td>Sports</td>\n",
       "      <td>41.36</td>\n",
       "      <td>28.96</td>\n",
       "      <td>3.77</td>\n",
       "      <td>8.45</td>\n",
       "      <td>76.0</td>\n",
       "      <td>8</td>\n",
       "      <td>E</td>\n",
       "    </tr>\n",
       "    <tr>\n",
       "      <th>1</th>\n",
       "      <td>Super Mario Bros.</td>\n",
       "      <td>NES</td>\n",
       "      <td>1985.0</td>\n",
       "      <td>Platform</td>\n",
       "      <td>29.08</td>\n",
       "      <td>3.58</td>\n",
       "      <td>6.81</td>\n",
       "      <td>0.77</td>\n",
       "      <td>NaN</td>\n",
       "      <td>NaN</td>\n",
       "      <td>NaN</td>\n",
       "    </tr>\n",
       "    <tr>\n",
       "      <th>2</th>\n",
       "      <td>Mario Kart Wii</td>\n",
       "      <td>Wii</td>\n",
       "      <td>2008.0</td>\n",
       "      <td>Racing</td>\n",
       "      <td>15.68</td>\n",
       "      <td>12.76</td>\n",
       "      <td>3.79</td>\n",
       "      <td>3.29</td>\n",
       "      <td>82.0</td>\n",
       "      <td>8.3</td>\n",
       "      <td>E</td>\n",
       "    </tr>\n",
       "    <tr>\n",
       "      <th>3</th>\n",
       "      <td>Wii Sports Resort</td>\n",
       "      <td>Wii</td>\n",
       "      <td>2009.0</td>\n",
       "      <td>Sports</td>\n",
       "      <td>15.61</td>\n",
       "      <td>10.93</td>\n",
       "      <td>3.28</td>\n",
       "      <td>2.95</td>\n",
       "      <td>80.0</td>\n",
       "      <td>8</td>\n",
       "      <td>E</td>\n",
       "    </tr>\n",
       "    <tr>\n",
       "      <th>4</th>\n",
       "      <td>Pokemon Red/Pokemon Blue</td>\n",
       "      <td>GB</td>\n",
       "      <td>1996.0</td>\n",
       "      <td>Role-Playing</td>\n",
       "      <td>11.27</td>\n",
       "      <td>8.89</td>\n",
       "      <td>10.22</td>\n",
       "      <td>1.00</td>\n",
       "      <td>NaN</td>\n",
       "      <td>NaN</td>\n",
       "      <td>NaN</td>\n",
       "    </tr>\n",
       "    <tr>\n",
       "      <th>5</th>\n",
       "      <td>Tetris</td>\n",
       "      <td>GB</td>\n",
       "      <td>1989.0</td>\n",
       "      <td>Puzzle</td>\n",
       "      <td>23.20</td>\n",
       "      <td>2.26</td>\n",
       "      <td>4.22</td>\n",
       "      <td>0.58</td>\n",
       "      <td>NaN</td>\n",
       "      <td>NaN</td>\n",
       "      <td>NaN</td>\n",
       "    </tr>\n",
       "    <tr>\n",
       "      <th>6</th>\n",
       "      <td>New Super Mario Bros.</td>\n",
       "      <td>DS</td>\n",
       "      <td>2006.0</td>\n",
       "      <td>Platform</td>\n",
       "      <td>11.28</td>\n",
       "      <td>9.14</td>\n",
       "      <td>6.50</td>\n",
       "      <td>2.88</td>\n",
       "      <td>89.0</td>\n",
       "      <td>8.5</td>\n",
       "      <td>E</td>\n",
       "    </tr>\n",
       "    <tr>\n",
       "      <th>7</th>\n",
       "      <td>Wii Play</td>\n",
       "      <td>Wii</td>\n",
       "      <td>2006.0</td>\n",
       "      <td>Misc</td>\n",
       "      <td>13.96</td>\n",
       "      <td>9.18</td>\n",
       "      <td>2.93</td>\n",
       "      <td>2.84</td>\n",
       "      <td>58.0</td>\n",
       "      <td>6.6</td>\n",
       "      <td>E</td>\n",
       "    </tr>\n",
       "    <tr>\n",
       "      <th>8</th>\n",
       "      <td>New Super Mario Bros. Wii</td>\n",
       "      <td>Wii</td>\n",
       "      <td>2009.0</td>\n",
       "      <td>Platform</td>\n",
       "      <td>14.44</td>\n",
       "      <td>6.94</td>\n",
       "      <td>4.70</td>\n",
       "      <td>2.24</td>\n",
       "      <td>87.0</td>\n",
       "      <td>8.4</td>\n",
       "      <td>E</td>\n",
       "    </tr>\n",
       "    <tr>\n",
       "      <th>9</th>\n",
       "      <td>Duck Hunt</td>\n",
       "      <td>NES</td>\n",
       "      <td>1984.0</td>\n",
       "      <td>Shooter</td>\n",
       "      <td>26.93</td>\n",
       "      <td>0.63</td>\n",
       "      <td>0.28</td>\n",
       "      <td>0.47</td>\n",
       "      <td>NaN</td>\n",
       "      <td>NaN</td>\n",
       "      <td>NaN</td>\n",
       "    </tr>\n",
       "  </tbody>\n",
       "</table>\n",
       "</div>"
      ],
      "text/plain": [
       "                        name platform  year_of_release         genre  \\\n",
       "0                 Wii Sports      Wii           2006.0        Sports   \n",
       "1          Super Mario Bros.      NES           1985.0      Platform   \n",
       "2             Mario Kart Wii      Wii           2008.0        Racing   \n",
       "3          Wii Sports Resort      Wii           2009.0        Sports   \n",
       "4   Pokemon Red/Pokemon Blue       GB           1996.0  Role-Playing   \n",
       "5                     Tetris       GB           1989.0        Puzzle   \n",
       "6      New Super Mario Bros.       DS           2006.0      Platform   \n",
       "7                   Wii Play      Wii           2006.0          Misc   \n",
       "8  New Super Mario Bros. Wii      Wii           2009.0      Platform   \n",
       "9                  Duck Hunt      NES           1984.0       Shooter   \n",
       "\n",
       "   na_sales  eu_sales  jp_sales  other_sales  critic_score user_score rating  \n",
       "0     41.36     28.96      3.77         8.45          76.0          8      E  \n",
       "1     29.08      3.58      6.81         0.77           NaN        NaN    NaN  \n",
       "2     15.68     12.76      3.79         3.29          82.0        8.3      E  \n",
       "3     15.61     10.93      3.28         2.95          80.0          8      E  \n",
       "4     11.27      8.89     10.22         1.00           NaN        NaN    NaN  \n",
       "5     23.20      2.26      4.22         0.58           NaN        NaN    NaN  \n",
       "6     11.28      9.14      6.50         2.88          89.0        8.5      E  \n",
       "7     13.96      9.18      2.93         2.84          58.0        6.6      E  \n",
       "8     14.44      6.94      4.70         2.24          87.0        8.4      E  \n",
       "9     26.93      0.63      0.28         0.47           NaN        NaN    NaN  "
      ]
     },
     "execution_count": 15,
     "metadata": {},
     "output_type": "execute_result"
    }
   ],
   "source": [
    "data.head(10)"
   ]
  },
  {
   "cell_type": "markdown",
   "metadata": {},
   "source": [
    "##### Преобразуйте данные в нужные типы. Опишите, в каких столбцах заменили тип данных и почему:"
   ]
  },
  {
   "cell_type": "code",
   "execution_count": 16,
   "metadata": {},
   "outputs": [
    {
     "data": {
      "text/plain": [
       "name                object\n",
       "platform            object\n",
       "year_of_release    float64\n",
       "genre               object\n",
       "na_sales           float64\n",
       "eu_sales           float64\n",
       "jp_sales           float64\n",
       "other_sales        float64\n",
       "critic_score       float64\n",
       "user_score          object\n",
       "rating              object\n",
       "dtype: object"
      ]
     },
     "execution_count": 16,
     "metadata": {},
     "output_type": "execute_result"
    }
   ],
   "source": [
    "data.dtypes"
   ]
  },
  {
   "cell_type": "code",
   "execution_count": 17,
   "metadata": {},
   "outputs": [],
   "source": [
    "schedule_of_columns = ['year_of_release']"
   ]
  },
  {
   "cell_type": "code",
   "execution_count": 18,
   "metadata": {},
   "outputs": [
    {
     "data": {
      "text/plain": [
       "name                object\n",
       "platform            object\n",
       "year_of_release      Int64\n",
       "genre               object\n",
       "na_sales           float64\n",
       "eu_sales           float64\n",
       "jp_sales           float64\n",
       "other_sales        float64\n",
       "critic_score       float64\n",
       "user_score          object\n",
       "rating              object\n",
       "dtype: object"
      ]
     },
     "execution_count": 18,
     "metadata": {},
     "output_type": "execute_result"
    }
   ],
   "source": [
    "for col in schedule_of_columns:\n",
    "        data[col] = data[col].astype('Int64')\n",
    " #pd.to_numeric(data[col], errors='ignore')\n",
    "data.dtypes"
   ]
  },
  {
   "cell_type": "code",
   "execution_count": 19,
   "metadata": {},
   "outputs": [],
   "source": [
    "#data['user_score'] = data['user_score'].astype('Float64')\n",
    "data['user_score'] = data['user_score'].replace('tbd', np.nan)"
   ]
  },
  {
   "cell_type": "code",
   "execution_count": 20,
   "metadata": {
    "scrolled": true
   },
   "outputs": [
    {
     "data": {
      "text/plain": [
       "2008    1427\n",
       "2009    1426\n",
       "2010    1255\n",
       "2007    1197\n",
       "2011    1136\n",
       "2006    1006\n",
       "2005     939\n",
       "2002     829\n",
       "2003     775\n",
       "2004     762\n",
       "2012     653\n",
       "2015     606\n",
       "2014     581\n",
       "2013     544\n",
       "2016     502\n",
       "2001     482\n",
       "1998     379\n",
       "2000     350\n",
       "1999     338\n",
       "1997     289\n",
       "1996     263\n",
       "1995     219\n",
       "1994     121\n",
       "1993      62\n",
       "1981      46\n",
       "1992      43\n",
       "1991      41\n",
       "1982      36\n",
       "1986      21\n",
       "1983      17\n",
       "1989      17\n",
       "1990      16\n",
       "1987      16\n",
       "1988      15\n",
       "1985      14\n",
       "1984      14\n",
       "1980       9\n",
       "Name: year_of_release, dtype: Int64"
      ]
     },
     "execution_count": 20,
     "metadata": {},
     "output_type": "execute_result"
    }
   ],
   "source": [
    "data['year_of_release'].value_counts()"
   ]
  },
  {
   "cell_type": "code",
   "execution_count": 21,
   "metadata": {},
   "outputs": [
    {
     "data": {
      "text/plain": [
       "name                  2\n",
       "platform              0\n",
       "year_of_release     269\n",
       "genre                 2\n",
       "na_sales              0\n",
       "eu_sales              0\n",
       "jp_sales              0\n",
       "other_sales           0\n",
       "critic_score       8578\n",
       "user_score         9125\n",
       "rating             6766\n",
       "dtype: int64"
      ]
     },
     "execution_count": 21,
     "metadata": {},
     "output_type": "execute_result"
    }
   ],
   "source": [
    "data.isna().sum()"
   ]
  },
  {
   "cell_type": "code",
   "execution_count": 22,
   "metadata": {},
   "outputs": [
    {
     "data": {
      "text/plain": [
       "name                object\n",
       "platform            object\n",
       "year_of_release      Int64\n",
       "genre               object\n",
       "na_sales           float64\n",
       "eu_sales           float64\n",
       "jp_sales           float64\n",
       "other_sales        float64\n",
       "critic_score       float64\n",
       "user_score         float64\n",
       "rating              object\n",
       "dtype: object"
      ]
     },
     "execution_count": 22,
     "metadata": {},
     "output_type": "execute_result"
    }
   ],
   "source": [
    "data['user_score'] = data['user_score'].astype('float')\n",
    "data.dtypes"
   ]
  },
  {
   "cell_type": "markdown",
   "metadata": {},
   "source": [
    "Вывод:"
   ]
  },
  {
   "cell_type": "code",
   "execution_count": 23,
   "metadata": {
    "scrolled": true
   },
   "outputs": [
    {
     "data": {
      "text/html": [
       "<div>\n",
       "<style scoped>\n",
       "    .dataframe tbody tr th:only-of-type {\n",
       "        vertical-align: middle;\n",
       "    }\n",
       "\n",
       "    .dataframe tbody tr th {\n",
       "        vertical-align: top;\n",
       "    }\n",
       "\n",
       "    .dataframe thead th {\n",
       "        text-align: right;\n",
       "    }\n",
       "</style>\n",
       "<table border=\"1\" class=\"dataframe\">\n",
       "  <thead>\n",
       "    <tr style=\"text-align: right;\">\n",
       "      <th></th>\n",
       "      <th>name</th>\n",
       "      <th>platform</th>\n",
       "      <th>year_of_release</th>\n",
       "      <th>genre</th>\n",
       "      <th>na_sales</th>\n",
       "      <th>eu_sales</th>\n",
       "      <th>jp_sales</th>\n",
       "      <th>other_sales</th>\n",
       "      <th>critic_score</th>\n",
       "      <th>user_score</th>\n",
       "      <th>rating</th>\n",
       "      <th>total_sales</th>\n",
       "    </tr>\n",
       "  </thead>\n",
       "  <tbody>\n",
       "    <tr>\n",
       "      <th>0</th>\n",
       "      <td>Wii Sports</td>\n",
       "      <td>Wii</td>\n",
       "      <td>2006</td>\n",
       "      <td>Sports</td>\n",
       "      <td>41.36</td>\n",
       "      <td>28.96</td>\n",
       "      <td>3.77</td>\n",
       "      <td>8.45</td>\n",
       "      <td>76.0</td>\n",
       "      <td>8.0</td>\n",
       "      <td>E</td>\n",
       "      <td>82.54</td>\n",
       "    </tr>\n",
       "    <tr>\n",
       "      <th>1</th>\n",
       "      <td>Super Mario Bros.</td>\n",
       "      <td>NES</td>\n",
       "      <td>1985</td>\n",
       "      <td>Platform</td>\n",
       "      <td>29.08</td>\n",
       "      <td>3.58</td>\n",
       "      <td>6.81</td>\n",
       "      <td>0.77</td>\n",
       "      <td>NaN</td>\n",
       "      <td>NaN</td>\n",
       "      <td>NaN</td>\n",
       "      <td>40.24</td>\n",
       "    </tr>\n",
       "    <tr>\n",
       "      <th>2</th>\n",
       "      <td>Mario Kart Wii</td>\n",
       "      <td>Wii</td>\n",
       "      <td>2008</td>\n",
       "      <td>Racing</td>\n",
       "      <td>15.68</td>\n",
       "      <td>12.76</td>\n",
       "      <td>3.79</td>\n",
       "      <td>3.29</td>\n",
       "      <td>82.0</td>\n",
       "      <td>8.3</td>\n",
       "      <td>E</td>\n",
       "      <td>35.52</td>\n",
       "    </tr>\n",
       "    <tr>\n",
       "      <th>3</th>\n",
       "      <td>Wii Sports Resort</td>\n",
       "      <td>Wii</td>\n",
       "      <td>2009</td>\n",
       "      <td>Sports</td>\n",
       "      <td>15.61</td>\n",
       "      <td>10.93</td>\n",
       "      <td>3.28</td>\n",
       "      <td>2.95</td>\n",
       "      <td>80.0</td>\n",
       "      <td>8.0</td>\n",
       "      <td>E</td>\n",
       "      <td>32.77</td>\n",
       "    </tr>\n",
       "    <tr>\n",
       "      <th>4</th>\n",
       "      <td>Pokemon Red/Pokemon Blue</td>\n",
       "      <td>GB</td>\n",
       "      <td>1996</td>\n",
       "      <td>Role-Playing</td>\n",
       "      <td>11.27</td>\n",
       "      <td>8.89</td>\n",
       "      <td>10.22</td>\n",
       "      <td>1.00</td>\n",
       "      <td>NaN</td>\n",
       "      <td>NaN</td>\n",
       "      <td>NaN</td>\n",
       "      <td>31.38</td>\n",
       "    </tr>\n",
       "    <tr>\n",
       "      <th>5</th>\n",
       "      <td>Tetris</td>\n",
       "      <td>GB</td>\n",
       "      <td>1989</td>\n",
       "      <td>Puzzle</td>\n",
       "      <td>23.20</td>\n",
       "      <td>2.26</td>\n",
       "      <td>4.22</td>\n",
       "      <td>0.58</td>\n",
       "      <td>NaN</td>\n",
       "      <td>NaN</td>\n",
       "      <td>NaN</td>\n",
       "      <td>30.26</td>\n",
       "    </tr>\n",
       "    <tr>\n",
       "      <th>6</th>\n",
       "      <td>New Super Mario Bros.</td>\n",
       "      <td>DS</td>\n",
       "      <td>2006</td>\n",
       "      <td>Platform</td>\n",
       "      <td>11.28</td>\n",
       "      <td>9.14</td>\n",
       "      <td>6.50</td>\n",
       "      <td>2.88</td>\n",
       "      <td>89.0</td>\n",
       "      <td>8.5</td>\n",
       "      <td>E</td>\n",
       "      <td>29.80</td>\n",
       "    </tr>\n",
       "    <tr>\n",
       "      <th>7</th>\n",
       "      <td>Wii Play</td>\n",
       "      <td>Wii</td>\n",
       "      <td>2006</td>\n",
       "      <td>Misc</td>\n",
       "      <td>13.96</td>\n",
       "      <td>9.18</td>\n",
       "      <td>2.93</td>\n",
       "      <td>2.84</td>\n",
       "      <td>58.0</td>\n",
       "      <td>6.6</td>\n",
       "      <td>E</td>\n",
       "      <td>28.91</td>\n",
       "    </tr>\n",
       "    <tr>\n",
       "      <th>8</th>\n",
       "      <td>New Super Mario Bros. Wii</td>\n",
       "      <td>Wii</td>\n",
       "      <td>2009</td>\n",
       "      <td>Platform</td>\n",
       "      <td>14.44</td>\n",
       "      <td>6.94</td>\n",
       "      <td>4.70</td>\n",
       "      <td>2.24</td>\n",
       "      <td>87.0</td>\n",
       "      <td>8.4</td>\n",
       "      <td>E</td>\n",
       "      <td>28.32</td>\n",
       "    </tr>\n",
       "    <tr>\n",
       "      <th>9</th>\n",
       "      <td>Duck Hunt</td>\n",
       "      <td>NES</td>\n",
       "      <td>1984</td>\n",
       "      <td>Shooter</td>\n",
       "      <td>26.93</td>\n",
       "      <td>0.63</td>\n",
       "      <td>0.28</td>\n",
       "      <td>0.47</td>\n",
       "      <td>NaN</td>\n",
       "      <td>NaN</td>\n",
       "      <td>NaN</td>\n",
       "      <td>28.31</td>\n",
       "    </tr>\n",
       "    <tr>\n",
       "      <th>10</th>\n",
       "      <td>Nintendogs</td>\n",
       "      <td>DS</td>\n",
       "      <td>2005</td>\n",
       "      <td>Simulation</td>\n",
       "      <td>9.05</td>\n",
       "      <td>10.95</td>\n",
       "      <td>1.93</td>\n",
       "      <td>2.74</td>\n",
       "      <td>NaN</td>\n",
       "      <td>NaN</td>\n",
       "      <td>NaN</td>\n",
       "      <td>24.67</td>\n",
       "    </tr>\n",
       "    <tr>\n",
       "      <th>11</th>\n",
       "      <td>Mario Kart DS</td>\n",
       "      <td>DS</td>\n",
       "      <td>2005</td>\n",
       "      <td>Racing</td>\n",
       "      <td>9.71</td>\n",
       "      <td>7.47</td>\n",
       "      <td>4.13</td>\n",
       "      <td>1.90</td>\n",
       "      <td>91.0</td>\n",
       "      <td>8.6</td>\n",
       "      <td>E</td>\n",
       "      <td>23.21</td>\n",
       "    </tr>\n",
       "    <tr>\n",
       "      <th>12</th>\n",
       "      <td>Pokemon Gold/Pokemon Silver</td>\n",
       "      <td>GB</td>\n",
       "      <td>1999</td>\n",
       "      <td>Role-Playing</td>\n",
       "      <td>9.00</td>\n",
       "      <td>6.18</td>\n",
       "      <td>7.20</td>\n",
       "      <td>0.71</td>\n",
       "      <td>NaN</td>\n",
       "      <td>NaN</td>\n",
       "      <td>NaN</td>\n",
       "      <td>23.09</td>\n",
       "    </tr>\n",
       "    <tr>\n",
       "      <th>13</th>\n",
       "      <td>Wii Fit</td>\n",
       "      <td>Wii</td>\n",
       "      <td>2007</td>\n",
       "      <td>Sports</td>\n",
       "      <td>8.92</td>\n",
       "      <td>8.03</td>\n",
       "      <td>3.60</td>\n",
       "      <td>2.15</td>\n",
       "      <td>80.0</td>\n",
       "      <td>7.7</td>\n",
       "      <td>E</td>\n",
       "      <td>22.70</td>\n",
       "    </tr>\n",
       "    <tr>\n",
       "      <th>14</th>\n",
       "      <td>Kinect Adventures!</td>\n",
       "      <td>X360</td>\n",
       "      <td>2010</td>\n",
       "      <td>Misc</td>\n",
       "      <td>15.00</td>\n",
       "      <td>4.89</td>\n",
       "      <td>0.24</td>\n",
       "      <td>1.69</td>\n",
       "      <td>61.0</td>\n",
       "      <td>6.3</td>\n",
       "      <td>E</td>\n",
       "      <td>21.82</td>\n",
       "    </tr>\n",
       "    <tr>\n",
       "      <th>15</th>\n",
       "      <td>Wii Fit Plus</td>\n",
       "      <td>Wii</td>\n",
       "      <td>2009</td>\n",
       "      <td>Sports</td>\n",
       "      <td>9.01</td>\n",
       "      <td>8.49</td>\n",
       "      <td>2.53</td>\n",
       "      <td>1.77</td>\n",
       "      <td>80.0</td>\n",
       "      <td>7.4</td>\n",
       "      <td>E</td>\n",
       "      <td>21.80</td>\n",
       "    </tr>\n",
       "    <tr>\n",
       "      <th>16</th>\n",
       "      <td>Grand Theft Auto V</td>\n",
       "      <td>PS3</td>\n",
       "      <td>2013</td>\n",
       "      <td>Action</td>\n",
       "      <td>7.02</td>\n",
       "      <td>9.09</td>\n",
       "      <td>0.98</td>\n",
       "      <td>3.96</td>\n",
       "      <td>97.0</td>\n",
       "      <td>8.2</td>\n",
       "      <td>M</td>\n",
       "      <td>21.05</td>\n",
       "    </tr>\n",
       "    <tr>\n",
       "      <th>17</th>\n",
       "      <td>Grand Theft Auto: San Andreas</td>\n",
       "      <td>PS2</td>\n",
       "      <td>2004</td>\n",
       "      <td>Action</td>\n",
       "      <td>9.43</td>\n",
       "      <td>0.40</td>\n",
       "      <td>0.41</td>\n",
       "      <td>10.57</td>\n",
       "      <td>95.0</td>\n",
       "      <td>9.0</td>\n",
       "      <td>M</td>\n",
       "      <td>20.81</td>\n",
       "    </tr>\n",
       "    <tr>\n",
       "      <th>18</th>\n",
       "      <td>Super Mario World</td>\n",
       "      <td>SNES</td>\n",
       "      <td>1990</td>\n",
       "      <td>Platform</td>\n",
       "      <td>12.78</td>\n",
       "      <td>3.75</td>\n",
       "      <td>3.54</td>\n",
       "      <td>0.55</td>\n",
       "      <td>NaN</td>\n",
       "      <td>NaN</td>\n",
       "      <td>NaN</td>\n",
       "      <td>20.62</td>\n",
       "    </tr>\n",
       "    <tr>\n",
       "      <th>19</th>\n",
       "      <td>Brain Age: Train Your Brain in Minutes a Day</td>\n",
       "      <td>DS</td>\n",
       "      <td>2005</td>\n",
       "      <td>Misc</td>\n",
       "      <td>4.74</td>\n",
       "      <td>9.20</td>\n",
       "      <td>4.16</td>\n",
       "      <td>2.04</td>\n",
       "      <td>77.0</td>\n",
       "      <td>7.9</td>\n",
       "      <td>E</td>\n",
       "      <td>20.14</td>\n",
       "    </tr>\n",
       "    <tr>\n",
       "      <th>20</th>\n",
       "      <td>Pokemon Diamond/Pokemon Pearl</td>\n",
       "      <td>DS</td>\n",
       "      <td>2006</td>\n",
       "      <td>Role-Playing</td>\n",
       "      <td>6.38</td>\n",
       "      <td>4.46</td>\n",
       "      <td>6.04</td>\n",
       "      <td>1.36</td>\n",
       "      <td>NaN</td>\n",
       "      <td>NaN</td>\n",
       "      <td>NaN</td>\n",
       "      <td>18.24</td>\n",
       "    </tr>\n",
       "    <tr>\n",
       "      <th>21</th>\n",
       "      <td>Super Mario Land</td>\n",
       "      <td>GB</td>\n",
       "      <td>1989</td>\n",
       "      <td>Platform</td>\n",
       "      <td>10.83</td>\n",
       "      <td>2.71</td>\n",
       "      <td>4.18</td>\n",
       "      <td>0.42</td>\n",
       "      <td>NaN</td>\n",
       "      <td>NaN</td>\n",
       "      <td>NaN</td>\n",
       "      <td>18.14</td>\n",
       "    </tr>\n",
       "    <tr>\n",
       "      <th>22</th>\n",
       "      <td>Super Mario Bros. 3</td>\n",
       "      <td>NES</td>\n",
       "      <td>1988</td>\n",
       "      <td>Platform</td>\n",
       "      <td>9.54</td>\n",
       "      <td>3.44</td>\n",
       "      <td>3.84</td>\n",
       "      <td>0.46</td>\n",
       "      <td>NaN</td>\n",
       "      <td>NaN</td>\n",
       "      <td>NaN</td>\n",
       "      <td>17.28</td>\n",
       "    </tr>\n",
       "    <tr>\n",
       "      <th>23</th>\n",
       "      <td>Grand Theft Auto V</td>\n",
       "      <td>X360</td>\n",
       "      <td>2013</td>\n",
       "      <td>Action</td>\n",
       "      <td>9.66</td>\n",
       "      <td>5.14</td>\n",
       "      <td>0.06</td>\n",
       "      <td>1.41</td>\n",
       "      <td>97.0</td>\n",
       "      <td>8.1</td>\n",
       "      <td>M</td>\n",
       "      <td>16.27</td>\n",
       "    </tr>\n",
       "    <tr>\n",
       "      <th>24</th>\n",
       "      <td>Grand Theft Auto: Vice City</td>\n",
       "      <td>PS2</td>\n",
       "      <td>2002</td>\n",
       "      <td>Action</td>\n",
       "      <td>8.41</td>\n",
       "      <td>5.49</td>\n",
       "      <td>0.47</td>\n",
       "      <td>1.78</td>\n",
       "      <td>95.0</td>\n",
       "      <td>8.7</td>\n",
       "      <td>M</td>\n",
       "      <td>16.15</td>\n",
       "    </tr>\n",
       "    <tr>\n",
       "      <th>25</th>\n",
       "      <td>Pokemon Ruby/Pokemon Sapphire</td>\n",
       "      <td>GBA</td>\n",
       "      <td>2002</td>\n",
       "      <td>Role-Playing</td>\n",
       "      <td>6.06</td>\n",
       "      <td>3.90</td>\n",
       "      <td>5.38</td>\n",
       "      <td>0.50</td>\n",
       "      <td>NaN</td>\n",
       "      <td>NaN</td>\n",
       "      <td>NaN</td>\n",
       "      <td>15.84</td>\n",
       "    </tr>\n",
       "    <tr>\n",
       "      <th>26</th>\n",
       "      <td>Brain Age 2: More Training in Minutes a Day</td>\n",
       "      <td>DS</td>\n",
       "      <td>2005</td>\n",
       "      <td>Puzzle</td>\n",
       "      <td>3.43</td>\n",
       "      <td>5.35</td>\n",
       "      <td>5.32</td>\n",
       "      <td>1.18</td>\n",
       "      <td>77.0</td>\n",
       "      <td>7.1</td>\n",
       "      <td>E</td>\n",
       "      <td>15.28</td>\n",
       "    </tr>\n",
       "    <tr>\n",
       "      <th>27</th>\n",
       "      <td>Pokemon Black/Pokemon White</td>\n",
       "      <td>DS</td>\n",
       "      <td>2010</td>\n",
       "      <td>Role-Playing</td>\n",
       "      <td>5.51</td>\n",
       "      <td>3.17</td>\n",
       "      <td>5.65</td>\n",
       "      <td>0.80</td>\n",
       "      <td>NaN</td>\n",
       "      <td>NaN</td>\n",
       "      <td>NaN</td>\n",
       "      <td>15.13</td>\n",
       "    </tr>\n",
       "    <tr>\n",
       "      <th>28</th>\n",
       "      <td>Gran Turismo 3: A-Spec</td>\n",
       "      <td>PS2</td>\n",
       "      <td>2001</td>\n",
       "      <td>Racing</td>\n",
       "      <td>6.85</td>\n",
       "      <td>5.09</td>\n",
       "      <td>1.87</td>\n",
       "      <td>1.16</td>\n",
       "      <td>95.0</td>\n",
       "      <td>8.4</td>\n",
       "      <td>E</td>\n",
       "      <td>14.97</td>\n",
       "    </tr>\n",
       "    <tr>\n",
       "      <th>29</th>\n",
       "      <td>Call of Duty: Modern Warfare 3</td>\n",
       "      <td>X360</td>\n",
       "      <td>2011</td>\n",
       "      <td>Shooter</td>\n",
       "      <td>9.04</td>\n",
       "      <td>4.24</td>\n",
       "      <td>0.13</td>\n",
       "      <td>1.32</td>\n",
       "      <td>88.0</td>\n",
       "      <td>3.4</td>\n",
       "      <td>M</td>\n",
       "      <td>14.73</td>\n",
       "    </tr>\n",
       "  </tbody>\n",
       "</table>\n",
       "</div>"
      ],
      "text/plain": [
       "                                            name platform  year_of_release  \\\n",
       "0                                     Wii Sports      Wii             2006   \n",
       "1                              Super Mario Bros.      NES             1985   \n",
       "2                                 Mario Kart Wii      Wii             2008   \n",
       "3                              Wii Sports Resort      Wii             2009   \n",
       "4                       Pokemon Red/Pokemon Blue       GB             1996   \n",
       "5                                         Tetris       GB             1989   \n",
       "6                          New Super Mario Bros.       DS             2006   \n",
       "7                                       Wii Play      Wii             2006   \n",
       "8                      New Super Mario Bros. Wii      Wii             2009   \n",
       "9                                      Duck Hunt      NES             1984   \n",
       "10                                    Nintendogs       DS             2005   \n",
       "11                                 Mario Kart DS       DS             2005   \n",
       "12                   Pokemon Gold/Pokemon Silver       GB             1999   \n",
       "13                                       Wii Fit      Wii             2007   \n",
       "14                            Kinect Adventures!     X360             2010   \n",
       "15                                  Wii Fit Plus      Wii             2009   \n",
       "16                            Grand Theft Auto V      PS3             2013   \n",
       "17                 Grand Theft Auto: San Andreas      PS2             2004   \n",
       "18                             Super Mario World     SNES             1990   \n",
       "19  Brain Age: Train Your Brain in Minutes a Day       DS             2005   \n",
       "20                 Pokemon Diamond/Pokemon Pearl       DS             2006   \n",
       "21                              Super Mario Land       GB             1989   \n",
       "22                           Super Mario Bros. 3      NES             1988   \n",
       "23                            Grand Theft Auto V     X360             2013   \n",
       "24                   Grand Theft Auto: Vice City      PS2             2002   \n",
       "25                 Pokemon Ruby/Pokemon Sapphire      GBA             2002   \n",
       "26   Brain Age 2: More Training in Minutes a Day       DS             2005   \n",
       "27                   Pokemon Black/Pokemon White       DS             2010   \n",
       "28                        Gran Turismo 3: A-Spec      PS2             2001   \n",
       "29                Call of Duty: Modern Warfare 3     X360             2011   \n",
       "\n",
       "           genre  na_sales  eu_sales  jp_sales  other_sales  critic_score  \\\n",
       "0         Sports     41.36     28.96      3.77         8.45          76.0   \n",
       "1       Platform     29.08      3.58      6.81         0.77           NaN   \n",
       "2         Racing     15.68     12.76      3.79         3.29          82.0   \n",
       "3         Sports     15.61     10.93      3.28         2.95          80.0   \n",
       "4   Role-Playing     11.27      8.89     10.22         1.00           NaN   \n",
       "5         Puzzle     23.20      2.26      4.22         0.58           NaN   \n",
       "6       Platform     11.28      9.14      6.50         2.88          89.0   \n",
       "7           Misc     13.96      9.18      2.93         2.84          58.0   \n",
       "8       Platform     14.44      6.94      4.70         2.24          87.0   \n",
       "9        Shooter     26.93      0.63      0.28         0.47           NaN   \n",
       "10    Simulation      9.05     10.95      1.93         2.74           NaN   \n",
       "11        Racing      9.71      7.47      4.13         1.90          91.0   \n",
       "12  Role-Playing      9.00      6.18      7.20         0.71           NaN   \n",
       "13        Sports      8.92      8.03      3.60         2.15          80.0   \n",
       "14          Misc     15.00      4.89      0.24         1.69          61.0   \n",
       "15        Sports      9.01      8.49      2.53         1.77          80.0   \n",
       "16        Action      7.02      9.09      0.98         3.96          97.0   \n",
       "17        Action      9.43      0.40      0.41        10.57          95.0   \n",
       "18      Platform     12.78      3.75      3.54         0.55           NaN   \n",
       "19          Misc      4.74      9.20      4.16         2.04          77.0   \n",
       "20  Role-Playing      6.38      4.46      6.04         1.36           NaN   \n",
       "21      Platform     10.83      2.71      4.18         0.42           NaN   \n",
       "22      Platform      9.54      3.44      3.84         0.46           NaN   \n",
       "23        Action      9.66      5.14      0.06         1.41          97.0   \n",
       "24        Action      8.41      5.49      0.47         1.78          95.0   \n",
       "25  Role-Playing      6.06      3.90      5.38         0.50           NaN   \n",
       "26        Puzzle      3.43      5.35      5.32         1.18          77.0   \n",
       "27  Role-Playing      5.51      3.17      5.65         0.80           NaN   \n",
       "28        Racing      6.85      5.09      1.87         1.16          95.0   \n",
       "29       Shooter      9.04      4.24      0.13         1.32          88.0   \n",
       "\n",
       "    user_score rating  total_sales  \n",
       "0          8.0      E        82.54  \n",
       "1          NaN    NaN        40.24  \n",
       "2          8.3      E        35.52  \n",
       "3          8.0      E        32.77  \n",
       "4          NaN    NaN        31.38  \n",
       "5          NaN    NaN        30.26  \n",
       "6          8.5      E        29.80  \n",
       "7          6.6      E        28.91  \n",
       "8          8.4      E        28.32  \n",
       "9          NaN    NaN        28.31  \n",
       "10         NaN    NaN        24.67  \n",
       "11         8.6      E        23.21  \n",
       "12         NaN    NaN        23.09  \n",
       "13         7.7      E        22.70  \n",
       "14         6.3      E        21.82  \n",
       "15         7.4      E        21.80  \n",
       "16         8.2      M        21.05  \n",
       "17         9.0      M        20.81  \n",
       "18         NaN    NaN        20.62  \n",
       "19         7.9      E        20.14  \n",
       "20         NaN    NaN        18.24  \n",
       "21         NaN    NaN        18.14  \n",
       "22         NaN    NaN        17.28  \n",
       "23         8.1      M        16.27  \n",
       "24         8.7      M        16.15  \n",
       "25         NaN    NaN        15.84  \n",
       "26         7.1      E        15.28  \n",
       "27         NaN    NaN        15.13  \n",
       "28         8.4      E        14.97  \n",
       "29         3.4      M        14.73  "
      ]
     },
     "execution_count": 23,
     "metadata": {},
     "output_type": "execute_result"
    }
   ],
   "source": [
    "data['total_sales'] = data['na_sales'] + data['eu_sales'] + data['jp_sales'] + data['other_sales']\n",
    "data.head(30)"
   ]
  },
  {
   "cell_type": "markdown",
   "metadata": {},
   "source": [
    "В начале мы думали по какому принципу отсортированы данные, возможно это помогло бы нам в заполнении пропущенных значений,но на тот момент мы  этого не нашли, теперь мы видим, что дата фрейм был отсортирован по тотал сейлс "
   ]
  },
  {
   "cell_type": "markdown",
   "metadata": {},
   "source": [
    "# Шаг 3. Провести исследовательский анализ данных"
   ]
  },
  {
   "cell_type": "markdown",
   "metadata": {},
   "source": [
    "* Посмотрите, сколько игр выпускалось в разные годы. Важны ли данные за все периоды?"
   ]
  },
  {
   "cell_type": "code",
   "execution_count": 24,
   "metadata": {
    "scrolled": true
   },
   "outputs": [
    {
     "name": "stderr",
     "output_type": "stream",
     "text": [
      "/opt/conda/lib/python3.9/site-packages/seaborn/_decorators.py:36: FutureWarning: Pass the following variables as keyword args: x, y. From version 0.12, the only valid positional argument will be `data`, and passing other arguments without an explicit keyword will result in an error or misinterpretation.\n",
      "  warnings.warn(\n"
     ]
    },
    {
     "data": {
      "text/plain": [
       "Text(0.5, 1.0, 'Количество выпущенных игр за разные годы')"
      ]
     },
     "execution_count": 24,
     "metadata": {},
     "output_type": "execute_result"
    },
    {
     "data": {
      "image/png": "[encoded data removed]",
      "text/plain": [
       "<Figure size 1440x720 with 1 Axes>"
      ]
     },
     "metadata": {
      "needs_background": "light"
     },
     "output_type": "display_data"
    }
   ],
   "source": [
    "by_year = data['year_of_release'].value_counts().reset_index().sort_values(by = 'index')\n",
    "by_year['index'] = by_year['index'].apply(lambda x: str(x)[-2:])\n",
    "fig, ax = plt.subplots(figsize=(20, 10))\n",
    "sns.barplot(by_year['index'], by_year['year_of_release'],ax=ax)\n",
    "plt.title('Количество выпущенных игр за разные годы')"
   ]
  },
  {
   "cell_type": "markdown",
   "metadata": {},
   "source": [
    "Численно данных мало с 80 по 90 года, но мы все еще попробуем изучить все данные."
   ]
  },
  {
   "cell_type": "code",
   "execution_count": 25,
   "metadata": {},
   "outputs": [
    {
     "data": {
      "text/plain": [
       "Need for Speed: Most Wanted            12\n",
       "Madden NFL 07                           9\n",
       "Ratatouille                             9\n",
       "LEGO Marvel Super Heroes                9\n",
       "FIFA 14                                 9\n",
       "                                       ..\n",
       "Super Famista 3                         1\n",
       "Crimson Skies: High Road to Revenge     1\n",
       "Far Cry Instincts Predator              1\n",
       "Madagascar: Operation Penguin           1\n",
       "Project Gotham Racing                   1\n",
       "Name: name, Length: 11559, dtype: int64"
      ]
     },
     "execution_count": 25,
     "metadata": {},
     "output_type": "execute_result"
    }
   ],
   "source": [
    "data['name'].value_counts()"
   ]
  },
  {
   "cell_type": "code",
   "execution_count": 26,
   "metadata": {},
   "outputs": [],
   "source": [
    "top_10_platforms = data.groupby('platform')['total_sales'].sum().reset_index().sort_values(by='total_sales', ascending =False).iloc[0:10, 0].to_list()"
   ]
  },
  {
   "cell_type": "markdown",
   "metadata": {},
   "source": [
    "* Посмотрите, как менялись продажи по платформам. Выберите платформы с наибольшими суммарными продажами и постройте распределение по годам. За какой характерный срок появляются новые и исчезают старые платформы?"
   ]
  },
  {
   "cell_type": "code",
   "execution_count": 27,
   "metadata": {},
   "outputs": [
    {
     "data": {
      "text/plain": [
       "<matplotlib.legend.Legend at 0x7f4254f7cf40>"
      ]
     },
     "execution_count": 27,
     "metadata": {},
     "output_type": "execute_result"
    },
    {
     "data": {
      "image/png": "[encoded data removed]",
      "text/plain": [
       "<Figure size 2400x800 with 1 Axes>"
      ]
     },
     "metadata": {
      "needs_background": "light"
     },
     "output_type": "display_data"
    }
   ],
   "source": [
    "from matplotlib.pyplot import figure\n",
    "grouped_by_year_planets = data[data['platform'].isin(top_10_platforms)].groupby(['year_of_release', 'platform'], as_index = False)['total_sales'].sum()\n",
    "table2 = pd.pivot_table(grouped_by_year_planets, values='total_sales', index=['year_of_release'], columns=['platform'])\n",
    "table2 = table2.fillna(0)\n",
    "table3 = table2.cumsum()\n",
    "figure(figsize=(30, 10), dpi=80)\n",
    "for i in table3.columns:\n",
    "    plt.plot(table3[i], linewidth = 5 )\n",
    "#plt.yscale('log')\n",
    "plt.legend(table3.columns, loc = 'upper left',  prop={'size': 20})\n",
    "# plt.figure(figsize = (100, 100))"
   ]
  },
  {
   "cell_type": "markdown",
   "metadata": {},
   "source": [
    "Изучив график, нам стало ясно, что в среднем платформы живут от 7 до 9 лет, когда появлялись платформы более нового поколения, выпуск игр на на старые платформы прекращались в течении 1-2 года."
   ]
  },
  {
   "cell_type": "code",
   "execution_count": 28,
   "metadata": {},
   "outputs": [
    {
     "data": {
      "text/html": [
       "<div>\n",
       "<style scoped>\n",
       "    .dataframe tbody tr th:only-of-type {\n",
       "        vertical-align: middle;\n",
       "    }\n",
       "\n",
       "    .dataframe tbody tr th {\n",
       "        vertical-align: top;\n",
       "    }\n",
       "\n",
       "    .dataframe thead th {\n",
       "        text-align: right;\n",
       "    }\n",
       "</style>\n",
       "<table border=\"1\" class=\"dataframe\">\n",
       "  <thead>\n",
       "    <tr style=\"text-align: right;\">\n",
       "      <th></th>\n",
       "      <th>platform</th>\n",
       "      <th>year_of_release</th>\n",
       "      <th>total_sales</th>\n",
       "    </tr>\n",
       "  </thead>\n",
       "  <tbody>\n",
       "    <tr>\n",
       "      <th>134</th>\n",
       "      <td>PS2</td>\n",
       "      <td>2004</td>\n",
       "      <td>211.81</td>\n",
       "    </tr>\n",
       "    <tr>\n",
       "      <th>200</th>\n",
       "      <td>Wii</td>\n",
       "      <td>2009</td>\n",
       "      <td>206.97</td>\n",
       "    </tr>\n",
       "    <tr>\n",
       "      <th>132</th>\n",
       "      <td>PS2</td>\n",
       "      <td>2002</td>\n",
       "      <td>205.38</td>\n",
       "    </tr>\n",
       "    <tr>\n",
       "      <th>133</th>\n",
       "      <td>PS2</td>\n",
       "      <td>2003</td>\n",
       "      <td>184.31</td>\n",
       "    </tr>\n",
       "    <tr>\n",
       "      <th>199</th>\n",
       "      <td>Wii</td>\n",
       "      <td>2008</td>\n",
       "      <td>171.32</td>\n",
       "    </tr>\n",
       "    <tr>\n",
       "      <th>...</th>\n",
       "      <td>...</td>\n",
       "      <td>...</td>\n",
       "      <td>...</td>\n",
       "    </tr>\n",
       "    <tr>\n",
       "      <th>119</th>\n",
       "      <td>PCFX</td>\n",
       "      <td>1996</td>\n",
       "      <td>0.03</td>\n",
       "    </tr>\n",
       "    <tr>\n",
       "      <th>94</th>\n",
       "      <td>PC</td>\n",
       "      <td>1988</td>\n",
       "      <td>0.03</td>\n",
       "    </tr>\n",
       "    <tr>\n",
       "      <th>10</th>\n",
       "      <td>3DO</td>\n",
       "      <td>1994</td>\n",
       "      <td>0.02</td>\n",
       "    </tr>\n",
       "    <tr>\n",
       "      <th>25</th>\n",
       "      <td>DS</td>\n",
       "      <td>1985</td>\n",
       "      <td>0.02</td>\n",
       "    </tr>\n",
       "    <tr>\n",
       "      <th>23</th>\n",
       "      <td>DC</td>\n",
       "      <td>2007</td>\n",
       "      <td>0.02</td>\n",
       "    </tr>\n",
       "  </tbody>\n",
       "</table>\n",
       "<p>238 rows × 3 columns</p>\n",
       "</div>"
      ],
      "text/plain": [
       "    platform  year_of_release  total_sales\n",
       "134      PS2             2004       211.81\n",
       "200      Wii             2009       206.97\n",
       "132      PS2             2002       205.38\n",
       "133      PS2             2003       184.31\n",
       "199      Wii             2008       171.32\n",
       "..       ...              ...          ...\n",
       "119     PCFX             1996         0.03\n",
       "94        PC             1988         0.03\n",
       "10       3DO             1994         0.02\n",
       "25        DS             1985         0.02\n",
       "23        DC             2007         0.02\n",
       "\n",
       "[238 rows x 3 columns]"
      ]
     },
     "execution_count": 28,
     "metadata": {},
     "output_type": "execute_result"
    }
   ],
   "source": [
    "by_platforms = data.groupby(['platform', 'year_of_release'])['total_sales'].sum().reset_index().sort_values(by='total_sales', ascending =False)\n",
    "by_platforms\n"
   ]
  },
  {
   "cell_type": "code",
   "execution_count": 29,
   "metadata": {},
   "outputs": [
    {
     "data": {
      "text/plain": [
       "['PS2', 'X360', 'PS3', 'Wii', 'DS', 'PS', 'GBA', 'PS4', 'PSP', 'PC']"
      ]
     },
     "execution_count": 29,
     "metadata": {},
     "output_type": "execute_result"
    }
   ],
   "source": [
    "top_10_platforms"
   ]
  },
  {
   "cell_type": "code",
   "execution_count": 30,
   "metadata": {},
   "outputs": [
    {
     "data": {
      "text/plain": [
       "<AxesSubplot:xlabel='year_of_release', ylabel='total_sales'>"
      ]
     },
     "execution_count": 30,
     "metadata": {},
     "output_type": "execute_result"
    },
    {
     "data": {
      "image/png": "[encoded data removed]",
      "text/plain": [
       "<Figure size 432x288 with 1 Axes>"
      ]
     },
     "metadata": {
      "needs_background": "light"
     },
     "output_type": "display_data"
    }
   ],
   "source": [
    "sns.lineplot(data=by_platforms[by_platforms['platform']=='PS2'], x='year_of_release', y='total_sales')"
   ]
  },
  {
   "cell_type": "code",
   "execution_count": 31,
   "metadata": {},
   "outputs": [
    {
     "data": {
      "text/plain": [
       "<AxesSubplot:xlabel='year_of_release', ylabel='total_sales'>"
      ]
     },
     "execution_count": 31,
     "metadata": {},
     "output_type": "execute_result"
    },
    {
     "data": {
      "image/png": "[encoded data removed]",
      "text/plain": [
       "<Figure size 432x288 with 1 Axes>"
      ]
     },
     "metadata": {
      "needs_background": "light"
     },
     "output_type": "display_data"
    }
   ],
   "source": [
    "sns.lineplot(data=by_platforms[by_platforms['platform']=='X360'], x='year_of_release', y='total_sales')"
   ]
  },
  {
   "cell_type": "code",
   "execution_count": 32,
   "metadata": {},
   "outputs": [
    {
     "data": {
      "text/plain": [
       "<AxesSubplot:xlabel='year_of_release', ylabel='total_sales'>"
      ]
     },
     "execution_count": 32,
     "metadata": {},
     "output_type": "execute_result"
    },
    {
     "data": {
      "image/png": "[encoded data removed]",
      "text/plain": [
       "<Figure size 432x288 with 1 Axes>"
      ]
     },
     "metadata": {
      "needs_background": "light"
     },
     "output_type": "display_data"
    }
   ],
   "source": [
    "sns.lineplot(data=by_platforms[by_platforms['platform']=='PS3'], x='year_of_release', y='total_sales')"
   ]
  },
  {
   "cell_type": "code",
   "execution_count": 33,
   "metadata": {},
   "outputs": [
    {
     "data": {
      "text/plain": [
       "<AxesSubplot:xlabel='year_of_release', ylabel='total_sales'>"
      ]
     },
     "execution_count": 33,
     "metadata": {},
     "output_type": "execute_result"
    },
    {
     "data": {
      "image/png": "[encoded data removed]",
      "text/plain": [
       "<Figure size 432x288 with 1 Axes>"
      ]
     },
     "metadata": {
      "needs_background": "light"
     },
     "output_type": "display_data"
    }
   ],
   "source": [
    "sns.lineplot(data=by_platforms[by_platforms['platform']=='Wii'], x='year_of_release', y='total_sales')"
   ]
  },
  {
   "cell_type": "code",
   "execution_count": 34,
   "metadata": {},
   "outputs": [
    {
     "data": {
      "text/plain": [
       "<AxesSubplot:xlabel='year_of_release', ylabel='total_sales'>"
      ]
     },
     "execution_count": 34,
     "metadata": {},
     "output_type": "execute_result"
    },
    {
     "data": {
      "image/png": "[encoded data removed]",
      "text/plain": [
       "<Figure size 432x288 with 1 Axes>"
      ]
     },
     "metadata": {
      "needs_background": "light"
     },
     "output_type": "display_data"
    }
   ],
   "source": [
    "sns.lineplot(data=by_platforms[by_platforms['platform']=='DS'], x='year_of_release', y='total_sales')"
   ]
  },
  {
   "cell_type": "code",
   "execution_count": 35,
   "metadata": {},
   "outputs": [
    {
     "data": {
      "text/plain": [
       "<AxesSubplot:xlabel='year_of_release', ylabel='total_sales'>"
      ]
     },
     "execution_count": 35,
     "metadata": {},
     "output_type": "execute_result"
    },
    {
     "data": {
      "image/png": "[encoded data removed]",
      "text/plain": [
       "<Figure size 432x288 with 1 Axes>"
      ]
     },
     "metadata": {
      "needs_background": "light"
     },
     "output_type": "display_data"
    }
   ],
   "source": [
    "sns.lineplot(data=by_platforms[by_platforms['platform']=='PS'], x='year_of_release', y='total_sales')"
   ]
  },
  {
   "cell_type": "code",
   "execution_count": 36,
   "metadata": {},
   "outputs": [
    {
     "data": {
      "text/plain": [
       "<AxesSubplot:xlabel='year_of_release', ylabel='total_sales'>"
      ]
     },
     "execution_count": 36,
     "metadata": {},
     "output_type": "execute_result"
    },
    {
     "data": {
      "image/png": "[encoded data removed]",
      "text/plain": [
       "<Figure size 432x288 with 1 Axes>"
      ]
     },
     "metadata": {
      "needs_background": "light"
     },
     "output_type": "display_data"
    }
   ],
   "source": [
    "sns.lineplot(data=by_platforms[by_platforms['platform']=='GBA'], x='year_of_release', y='total_sales')"
   ]
  },
  {
   "cell_type": "code",
   "execution_count": 37,
   "metadata": {},
   "outputs": [
    {
     "data": {
      "text/plain": [
       "<AxesSubplot:xlabel='year_of_release', ylabel='total_sales'>"
      ]
     },
     "execution_count": 37,
     "metadata": {},
     "output_type": "execute_result"
    },
    {
     "data": {
      "image/png": "[encoded data removed]",
      "text/plain": [
       "<Figure size 432x288 with 1 Axes>"
      ]
     },
     "metadata": {
      "needs_background": "light"
     },
     "output_type": "display_data"
    }
   ],
   "source": [
    "sns.lineplot(data=by_platforms[by_platforms['platform']=='PS4'], x='year_of_release', y='total_sales')"
   ]
  },
  {
   "cell_type": "code",
   "execution_count": 38,
   "metadata": {},
   "outputs": [
    {
     "data": {
      "text/plain": [
       "<AxesSubplot:xlabel='year_of_release', ylabel='total_sales'>"
      ]
     },
     "execution_count": 38,
     "metadata": {},
     "output_type": "execute_result"
    },
    {
     "data": {
      "image/png": "[encoded data removed]",
      "text/plain": [
       "<Figure size 432x288 with 1 Axes>"
      ]
     },
     "metadata": {
      "needs_background": "light"
     },
     "output_type": "display_data"
    }
   ],
   "source": [
    "sns.lineplot(data=by_platforms[by_platforms['platform']=='PSP'], x='year_of_release', y='total_sales')"
   ]
  },
  {
   "cell_type": "code",
   "execution_count": 39,
   "metadata": {},
   "outputs": [
    {
     "data": {
      "text/plain": [
       "<AxesSubplot:xlabel='year_of_release', ylabel='total_sales'>"
      ]
     },
     "execution_count": 39,
     "metadata": {},
     "output_type": "execute_result"
    },
    {
     "data": {
      "image/png": "[encoded data removed]",
      "text/plain": [
       "<Figure size 432x288 with 1 Axes>"
      ]
     },
     "metadata": {
      "needs_background": "light"
     },
     "output_type": "display_data"
    }
   ],
   "source": [
    "sns.lineplot(data=by_platforms[by_platforms['platform']=='PC'], x='year_of_release', y='total_sales')"
   ]
  },
  {
   "cell_type": "markdown",
   "metadata": {},
   "source": [
    "Возьмите данные за соответствующий актуальный период. Актуальный период определите самостоятельно в результате исследования предыдущих вопросов. Основной фактор — эти данные помогут построить прогноз на 2017 год."
   ]
  },
  {
   "cell_type": "markdown",
   "metadata": {},
   "source": [
    "Платформы которые находятся в топе 10 на данный период времени, есть тенденция упада, предположение, что в следующем году кол-во продаж так и и будут падать для этих платформ."
   ]
  },
  {
   "cell_type": "code",
   "execution_count": 40,
   "metadata": {
    "scrolled": true
   },
   "outputs": [
    {
     "data": {
      "text/html": [
       "<div>\n",
       "<style scoped>\n",
       "    .dataframe tbody tr th:only-of-type {\n",
       "        vertical-align: middle;\n",
       "    }\n",
       "\n",
       "    .dataframe tbody tr th {\n",
       "        vertical-align: top;\n",
       "    }\n",
       "\n",
       "    .dataframe thead th {\n",
       "        text-align: right;\n",
       "    }\n",
       "</style>\n",
       "<table border=\"1\" class=\"dataframe\">\n",
       "  <thead>\n",
       "    <tr style=\"text-align: right;\">\n",
       "      <th></th>\n",
       "      <th>platform</th>\n",
       "      <th>min</th>\n",
       "      <th>max</th>\n",
       "      <th>living</th>\n",
       "    </tr>\n",
       "  </thead>\n",
       "  <tbody>\n",
       "    <tr>\n",
       "      <th>0</th>\n",
       "      <td>2600</td>\n",
       "      <td>1980</td>\n",
       "      <td>1989</td>\n",
       "      <td>9</td>\n",
       "    </tr>\n",
       "    <tr>\n",
       "      <th>1</th>\n",
       "      <td>3DO</td>\n",
       "      <td>1994</td>\n",
       "      <td>1995</td>\n",
       "      <td>1</td>\n",
       "    </tr>\n",
       "    <tr>\n",
       "      <th>2</th>\n",
       "      <td>3DS</td>\n",
       "      <td>2011</td>\n",
       "      <td>2016</td>\n",
       "      <td>5</td>\n",
       "    </tr>\n",
       "    <tr>\n",
       "      <th>3</th>\n",
       "      <td>DC</td>\n",
       "      <td>1998</td>\n",
       "      <td>2008</td>\n",
       "      <td>10</td>\n",
       "    </tr>\n",
       "    <tr>\n",
       "      <th>4</th>\n",
       "      <td>DS</td>\n",
       "      <td>1985</td>\n",
       "      <td>2013</td>\n",
       "      <td>28</td>\n",
       "    </tr>\n",
       "    <tr>\n",
       "      <th>5</th>\n",
       "      <td>GB</td>\n",
       "      <td>1988</td>\n",
       "      <td>2001</td>\n",
       "      <td>13</td>\n",
       "    </tr>\n",
       "    <tr>\n",
       "      <th>6</th>\n",
       "      <td>GBA</td>\n",
       "      <td>2000</td>\n",
       "      <td>2007</td>\n",
       "      <td>7</td>\n",
       "    </tr>\n",
       "    <tr>\n",
       "      <th>7</th>\n",
       "      <td>GC</td>\n",
       "      <td>2001</td>\n",
       "      <td>2007</td>\n",
       "      <td>6</td>\n",
       "    </tr>\n",
       "    <tr>\n",
       "      <th>8</th>\n",
       "      <td>GEN</td>\n",
       "      <td>1990</td>\n",
       "      <td>1994</td>\n",
       "      <td>4</td>\n",
       "    </tr>\n",
       "    <tr>\n",
       "      <th>9</th>\n",
       "      <td>GG</td>\n",
       "      <td>1992</td>\n",
       "      <td>1992</td>\n",
       "      <td>0</td>\n",
       "    </tr>\n",
       "    <tr>\n",
       "      <th>10</th>\n",
       "      <td>N64</td>\n",
       "      <td>1996</td>\n",
       "      <td>2002</td>\n",
       "      <td>6</td>\n",
       "    </tr>\n",
       "    <tr>\n",
       "      <th>11</th>\n",
       "      <td>NES</td>\n",
       "      <td>1983</td>\n",
       "      <td>1994</td>\n",
       "      <td>11</td>\n",
       "    </tr>\n",
       "    <tr>\n",
       "      <th>12</th>\n",
       "      <td>NG</td>\n",
       "      <td>1993</td>\n",
       "      <td>1996</td>\n",
       "      <td>3</td>\n",
       "    </tr>\n",
       "    <tr>\n",
       "      <th>13</th>\n",
       "      <td>PC</td>\n",
       "      <td>1985</td>\n",
       "      <td>2016</td>\n",
       "      <td>31</td>\n",
       "    </tr>\n",
       "    <tr>\n",
       "      <th>14</th>\n",
       "      <td>PCFX</td>\n",
       "      <td>1996</td>\n",
       "      <td>1996</td>\n",
       "      <td>0</td>\n",
       "    </tr>\n",
       "    <tr>\n",
       "      <th>15</th>\n",
       "      <td>PS</td>\n",
       "      <td>1994</td>\n",
       "      <td>2003</td>\n",
       "      <td>9</td>\n",
       "    </tr>\n",
       "    <tr>\n",
       "      <th>16</th>\n",
       "      <td>PS2</td>\n",
       "      <td>2000</td>\n",
       "      <td>2011</td>\n",
       "      <td>11</td>\n",
       "    </tr>\n",
       "    <tr>\n",
       "      <th>17</th>\n",
       "      <td>PS3</td>\n",
       "      <td>2006</td>\n",
       "      <td>2016</td>\n",
       "      <td>10</td>\n",
       "    </tr>\n",
       "    <tr>\n",
       "      <th>18</th>\n",
       "      <td>PS4</td>\n",
       "      <td>2013</td>\n",
       "      <td>2016</td>\n",
       "      <td>3</td>\n",
       "    </tr>\n",
       "    <tr>\n",
       "      <th>19</th>\n",
       "      <td>PSP</td>\n",
       "      <td>2004</td>\n",
       "      <td>2015</td>\n",
       "      <td>11</td>\n",
       "    </tr>\n",
       "    <tr>\n",
       "      <th>20</th>\n",
       "      <td>PSV</td>\n",
       "      <td>2011</td>\n",
       "      <td>2016</td>\n",
       "      <td>5</td>\n",
       "    </tr>\n",
       "    <tr>\n",
       "      <th>21</th>\n",
       "      <td>SAT</td>\n",
       "      <td>1994</td>\n",
       "      <td>1999</td>\n",
       "      <td>5</td>\n",
       "    </tr>\n",
       "    <tr>\n",
       "      <th>22</th>\n",
       "      <td>SCD</td>\n",
       "      <td>1993</td>\n",
       "      <td>1994</td>\n",
       "      <td>1</td>\n",
       "    </tr>\n",
       "    <tr>\n",
       "      <th>23</th>\n",
       "      <td>SNES</td>\n",
       "      <td>1990</td>\n",
       "      <td>1999</td>\n",
       "      <td>9</td>\n",
       "    </tr>\n",
       "    <tr>\n",
       "      <th>24</th>\n",
       "      <td>TG16</td>\n",
       "      <td>1995</td>\n",
       "      <td>1995</td>\n",
       "      <td>0</td>\n",
       "    </tr>\n",
       "    <tr>\n",
       "      <th>25</th>\n",
       "      <td>WS</td>\n",
       "      <td>1999</td>\n",
       "      <td>2001</td>\n",
       "      <td>2</td>\n",
       "    </tr>\n",
       "    <tr>\n",
       "      <th>26</th>\n",
       "      <td>Wii</td>\n",
       "      <td>2006</td>\n",
       "      <td>2016</td>\n",
       "      <td>10</td>\n",
       "    </tr>\n",
       "    <tr>\n",
       "      <th>27</th>\n",
       "      <td>WiiU</td>\n",
       "      <td>2012</td>\n",
       "      <td>2016</td>\n",
       "      <td>4</td>\n",
       "    </tr>\n",
       "    <tr>\n",
       "      <th>28</th>\n",
       "      <td>X360</td>\n",
       "      <td>2005</td>\n",
       "      <td>2016</td>\n",
       "      <td>11</td>\n",
       "    </tr>\n",
       "    <tr>\n",
       "      <th>29</th>\n",
       "      <td>XB</td>\n",
       "      <td>2000</td>\n",
       "      <td>2008</td>\n",
       "      <td>8</td>\n",
       "    </tr>\n",
       "    <tr>\n",
       "      <th>30</th>\n",
       "      <td>XOne</td>\n",
       "      <td>2013</td>\n",
       "      <td>2016</td>\n",
       "      <td>3</td>\n",
       "    </tr>\n",
       "  </tbody>\n",
       "</table>\n",
       "</div>"
      ],
      "text/plain": [
       "   platform   min   max  living\n",
       "0      2600  1980  1989       9\n",
       "1       3DO  1994  1995       1\n",
       "2       3DS  2011  2016       5\n",
       "3        DC  1998  2008      10\n",
       "4        DS  1985  2013      28\n",
       "5        GB  1988  2001      13\n",
       "6       GBA  2000  2007       7\n",
       "7        GC  2001  2007       6\n",
       "8       GEN  1990  1994       4\n",
       "9        GG  1992  1992       0\n",
       "10      N64  1996  2002       6\n",
       "11      NES  1983  1994      11\n",
       "12       NG  1993  1996       3\n",
       "13       PC  1985  2016      31\n",
       "14     PCFX  1996  1996       0\n",
       "15       PS  1994  2003       9\n",
       "16      PS2  2000  2011      11\n",
       "17      PS3  2006  2016      10\n",
       "18      PS4  2013  2016       3\n",
       "19      PSP  2004  2015      11\n",
       "20      PSV  2011  2016       5\n",
       "21      SAT  1994  1999       5\n",
       "22      SCD  1993  1994       1\n",
       "23     SNES  1990  1999       9\n",
       "24     TG16  1995  1995       0\n",
       "25       WS  1999  2001       2\n",
       "26      Wii  2006  2016      10\n",
       "27     WiiU  2012  2016       4\n",
       "28     X360  2005  2016      11\n",
       "29       XB  2000  2008       8\n",
       "30     XOne  2013  2016       3"
      ]
     },
     "execution_count": 40,
     "metadata": {},
     "output_type": "execute_result"
    }
   ],
   "source": [
    "creation = data.groupby('platform')['year_of_release'].agg(['min', 'max']).reset_index()\n",
    "creation['living']= creation['max'] - creation['min']\n",
    "creation"
   ]
  },
  {
   "cell_type": "code",
   "execution_count": null,
   "metadata": {},
   "outputs": [],
   "source": []
  },
  {
   "cell_type": "markdown",
   "metadata": {},
   "source": [
    "Если учитывать данные по графикам и таблице выше, можно сделать прогноз,  что платформы выпускаемые крупными компаниями и которые прожили относительно мало по сравнению с их предшествиниками, можно считать самыми патенциально прибыльными на 2017 год. Те платформы которые уже прожили свое и продажи которых не уклонно падают, скорее всего больше не пренесут значительно прибыли."
   ]
  },
  {
   "cell_type": "code",
   "execution_count": 41,
   "metadata": {
    "scrolled": true
   },
   "outputs": [
    {
     "data": {
      "text/plain": [
       "<AxesSubplot:xlabel='platform', ylabel='total_sales'>"
      ]
     },
     "execution_count": 41,
     "metadata": {},
     "output_type": "execute_result"
    },
    {
     "data": {
      "image/png": "[encoded data removed]",
      "text/plain": [
       "<Figure size 2400x800 with 1 Axes>"
      ]
     },
     "metadata": {
      "needs_background": "light"
     },
     "output_type": "display_data"
    }
   ],
   "source": [
    "figure(figsize=(30, 10), dpi=80)\n",
    "sns.boxplot(data= data.query('total_sales <=3'), x='platform', y = 'total_sales')"
   ]
  },
  {
   "cell_type": "markdown",
   "metadata": {},
   "source": [
    "Можно в целом сказать, что в принципе у всех платформ значения не превышаюь 3 млн. У платформы GEN, GB, NES очень большие разбросы по сравнению с остальными платформами. GEN однако имеет очень низкую медиану и разброс вызван меньшим количеством выслких значений. Медиана у большинства платформ не больше 0.5 млн. Есть исключения у таких платформ как NES, GB."
   ]
  },
  {
   "cell_type": "markdown",
   "metadata": {},
   "source": [
    "Задание\n",
    "Посмотрите, как влияют на продажи внутри одной популярной платформы отзывы пользователей и критиков. Постройте диаграмму рассеяния и посчитайте корреляцию между отзывами и продажами. Сформулируйте выводы."
   ]
  },
  {
   "cell_type": "code",
   "execution_count": 42,
   "metadata": {},
   "outputs": [
    {
     "data": {
      "text/plain": [
       "Text(0.5, 1.0, 'Пользовательские показатели ')"
      ]
     },
     "execution_count": 42,
     "metadata": {},
     "output_type": "execute_result"
    },
    {
     "data": {
      "image/png": "[encoded data removed]",
      "text/plain": [
       "<Figure size 432x288 with 1 Axes>"
      ]
     },
     "metadata": {
      "needs_background": "light"
     },
     "output_type": "display_data"
    }
   ],
   "source": [
    "sns.scatterplot(data=data[data['platform']=='PS4'], x='user_score', y='total_sales')\n",
    "plt.title('Пользовательские показатели ')"
   ]
  },
  {
   "cell_type": "code",
   "execution_count": 43,
   "metadata": {},
   "outputs": [
    {
     "data": {
      "text/plain": [
       "-0.031957110204556376"
      ]
     },
     "execution_count": 43,
     "metadata": {},
     "output_type": "execute_result"
    }
   ],
   "source": [
    "data[data['platform']=='PS4']['user_score'].corr(data[data['platform']=='PS4']['total_sales'])"
   ]
  },
  {
   "cell_type": "code",
   "execution_count": 44,
   "metadata": {
    "scrolled": true
   },
   "outputs": [
    {
     "data": {
      "text/plain": [
       "Text(0.5, 1.0, 'Показатели критиков')"
      ]
     },
     "execution_count": 44,
     "metadata": {},
     "output_type": "execute_result"
    },
    {
     "data": {
      "image/png": "[encoded data removed]",
      "text/plain": [
       "<Figure size 432x288 with 1 Axes>"
      ]
     },
     "metadata": {
      "needs_background": "light"
     },
     "output_type": "display_data"
    }
   ],
   "source": [
    "sns.scatterplot(data=data[data['platform']=='PS4'], x='critic_score', y='total_sales')\n",
    "plt.title('Показатели критиков')"
   ]
  },
  {
   "cell_type": "code",
   "execution_count": 45,
   "metadata": {
    "scrolled": true
   },
   "outputs": [
    {
     "data": {
      "text/plain": [
       "0.40656790206178095"
      ]
     },
     "execution_count": 45,
     "metadata": {},
     "output_type": "execute_result"
    }
   ],
   "source": [
    "data[data['platform']=='PS4']['critic_score'].corr(data[data['platform']=='PS4']['total_sales'])"
   ]
  },
  {
   "cell_type": "markdown",
   "metadata": {},
   "source": [
    "Вывод: Если смотреть на изменение средней то корреляцию проследить сложно, потому, что большинство точек все еще имеют очень низкие значение тотал сейлз, но что точно можно утверждать, так это то, что чем больше становиться рейтинг тем выше шанс возникновения аномально высоких значении. Скорее всего это те игры которые становятся культовыми и приносят огромную сумму, по сравнению с играми среднего уромвня."
   ]
  },
  {
   "cell_type": "code",
   "execution_count": 46,
   "metadata": {
    "scrolled": true
   },
   "outputs": [
    {
     "data": {
      "text/plain": [
       "platform\n",
       "2600      96.98\n",
       "3DO        0.10\n",
       "3DS      259.00\n",
       "DC        15.95\n",
       "DS       806.12\n",
       "GB       255.46\n",
       "GBA      317.85\n",
       "GC       198.93\n",
       "GEN       30.77\n",
       "GG         0.04\n",
       "N64      218.68\n",
       "NES      251.05\n",
       "NG         1.44\n",
       "PC       259.52\n",
       "PCFX       0.03\n",
       "PS       730.86\n",
       "PS2     1255.77\n",
       "PS3      939.65\n",
       "PS4      314.14\n",
       "PSP      294.05\n",
       "PSV       54.07\n",
       "SAT       33.59\n",
       "SCD        1.86\n",
       "SNES     200.04\n",
       "TG16       0.16\n",
       "WS         1.42\n",
       "Wii      907.51\n",
       "WiiU      82.19\n",
       "X360     971.42\n",
       "XB       257.74\n",
       "XOne     159.32\n",
       "Name: total_sales, dtype: float64"
      ]
     },
     "execution_count": 46,
     "metadata": {},
     "output_type": "execute_result"
    }
   ],
   "source": [
    "data.groupby('platform')['total_sales'].sum()"
   ]
  },
  {
   "cell_type": "code",
   "execution_count": 47,
   "metadata": {},
   "outputs": [
    {
     "data": {
      "text/plain": [
       "<AxesSubplot:xlabel='user_score', ylabel='total_sales'>"
      ]
     },
     "execution_count": 47,
     "metadata": {},
     "output_type": "execute_result"
    },
    {
     "data": {
      "image/png": "[encoded data removed]",
      "text/plain": [
       "<Figure size 432x288 with 1 Axes>"
      ]
     },
     "metadata": {
      "needs_background": "light"
     },
     "output_type": "display_data"
    }
   ],
   "source": [
    "sns.scatterplot(data=data[data['platform']=='PS2'], x='user_score', y='total_sales')"
   ]
  },
  {
   "cell_type": "code",
   "execution_count": 48,
   "metadata": {},
   "outputs": [
    {
     "data": {
      "text/plain": [
       "0.17286551112058227"
      ]
     },
     "execution_count": 48,
     "metadata": {},
     "output_type": "execute_result"
    }
   ],
   "source": [
    "data[data['platform']=='PS2']['user_score'].corr(data[data['platform']=='PS2']['total_sales'])"
   ]
  },
  {
   "cell_type": "code",
   "execution_count": 49,
   "metadata": {},
   "outputs": [
    {
     "data": {
      "text/plain": [
       "<AxesSubplot:xlabel='critic_score', ylabel='total_sales'>"
      ]
     },
     "execution_count": 49,
     "metadata": {},
     "output_type": "execute_result"
    },
    {
     "data": {
      "image/png": "[encoded data removed]",
      "text/plain": [
       "<Figure size 432x288 with 1 Axes>"
      ]
     },
     "metadata": {
      "needs_background": "light"
     },
     "output_type": "display_data"
    }
   ],
   "source": [
    "sns.scatterplot(data=data[data['platform']=='PS2'], x='critic_score', y='total_sales')"
   ]
  },
  {
   "cell_type": "code",
   "execution_count": 50,
   "metadata": {},
   "outputs": [
    {
     "data": {
      "text/plain": [
       "0.39543454945454876"
      ]
     },
     "execution_count": 50,
     "metadata": {},
     "output_type": "execute_result"
    }
   ],
   "source": [
    "data[data['platform']=='PS2']['critic_score'].corr(data[data['platform']=='PS2']['total_sales'])"
   ]
  },
  {
   "cell_type": "code",
   "execution_count": 51,
   "metadata": {},
   "outputs": [
    {
     "data": {
      "text/plain": [
       "<AxesSubplot:xlabel='user_score', ylabel='total_sales'>"
      ]
     },
     "execution_count": 51,
     "metadata": {},
     "output_type": "execute_result"
    },
    {
     "data": {
      "image/png": "[encoded data removed]",
      "text/plain": [
       "<Figure size 432x288 with 1 Axes>"
      ]
     },
     "metadata": {
      "needs_background": "light"
     },
     "output_type": "display_data"
    }
   ],
   "source": [
    "sns.scatterplot(data=data[data['platform']=='Wii'], x='user_score', y='total_sales')"
   ]
  },
  {
   "cell_type": "code",
   "execution_count": 52,
   "metadata": {},
   "outputs": [
    {
     "data": {
      "text/plain": [
       "0.11241436067003163"
      ]
     },
     "execution_count": 52,
     "metadata": {},
     "output_type": "execute_result"
    }
   ],
   "source": [
    "data[data['platform']=='Wii']['user_score'].corr(data[data['platform']=='Wii']['total_sales'])"
   ]
  },
  {
   "cell_type": "code",
   "execution_count": 53,
   "metadata": {},
   "outputs": [
    {
     "data": {
      "text/plain": [
       "<AxesSubplot:xlabel='critic_score', ylabel='total_sales'>"
      ]
     },
     "execution_count": 53,
     "metadata": {},
     "output_type": "execute_result"
    },
    {
     "data": {
      "image/png": "[encoded data removed]",
      "text/plain": [
       "<Figure size 432x288 with 1 Axes>"
      ]
     },
     "metadata": {
      "needs_background": "light"
     },
     "output_type": "display_data"
    }
   ],
   "source": [
    "sns.scatterplot(data=data[data['platform']=='Wii'], x='critic_score', y='total_sales')"
   ]
  },
  {
   "cell_type": "code",
   "execution_count": 54,
   "metadata": {},
   "outputs": [
    {
     "data": {
      "text/plain": [
       "0.17755988806089956"
      ]
     },
     "execution_count": 54,
     "metadata": {},
     "output_type": "execute_result"
    }
   ],
   "source": [
    "data[data['platform']=='Wii']['critic_score'].corr(data[data['platform']=='Wii']['total_sales'])"
   ]
  },
  {
   "cell_type": "markdown",
   "metadata": {},
   "source": [
    "Если соотнести ПС2 и ВИИ и ПС4 то она имее наибольшуу корреляцию 0.17.Скорее всего это связано с тем что игры которые имеют высокий рейтинг все еще очень часто низкое значение тотал сейлз. Выбросы очень сильно поднимают среднее значение. Иточно также они плохо влияют на корреляцию так как происходит хаотично "
   ]
  },
  {
   "cell_type": "code",
   "execution_count": 55,
   "metadata": {},
   "outputs": [
    {
     "data": {
      "text/plain": [
       "Index(['genre', 'sum', 'max', 'min', 'mean', 'count'], dtype='object')"
      ]
     },
     "execution_count": 55,
     "metadata": {},
     "output_type": "execute_result"
    }
   ],
   "source": [
    "data_genre=pd.pivot_table(data, index='genre',values='total_sales', aggfunc=['sum','max','min','mean','count']).reset_index().droplevel(level=1, axis=1)\n",
    "data_genre.columns"
   ]
  },
  {
   "cell_type": "code",
   "execution_count": 56,
   "metadata": {},
   "outputs": [
    {
     "name": "stderr",
     "output_type": "stream",
     "text": [
      "/opt/conda/lib/python3.9/site-packages/seaborn/_decorators.py:36: FutureWarning: Pass the following variables as keyword args: x, y. From version 0.12, the only valid positional argument will be `data`, and passing other arguments without an explicit keyword will result in an error or misinterpretation.\n",
      "  warnings.warn(\n"
     ]
    },
    {
     "data": {
      "text/plain": [
       "<AxesSubplot:xlabel='genre', ylabel='mean'>"
      ]
     },
     "execution_count": 56,
     "metadata": {},
     "output_type": "execute_result"
    },
    {
     "data": {
      "image/png": "[encoded data removed]",
      "text/plain": [
       "<Figure size 1600x800 with 1 Axes>"
      ]
     },
     "metadata": {
      "needs_background": "light"
     },
     "output_type": "display_data"
    }
   ],
   "source": [
    "figure(figsize=(20, 10), dpi=80)\n",
    "sns.barplot(data_genre['genre'], data_genre['mean'])"
   ]
  },
  {
   "cell_type": "markdown",
   "metadata": {},
   "source": [
    "Самые прибыльные жанры они же и многочисленные, по этим жанрам создавалось больше игр Action, Sports. Если считать по среднему то самые прибыльные становятся Shooter, Role-Playing. Если смотреть по максимальноиу значению то самая прибыльные это Sports."
   ]
  },
  {
   "cell_type": "markdown",
   "metadata": {},
   "source": [
    "# Шаг 4. Составить портрет пользователя каждого региона"
   ]
  },
  {
   "cell_type": "code",
   "execution_count": 57,
   "metadata": {},
   "outputs": [
    {
     "data": {
      "image/png": "[encoded data removed]",
      "text/plain": [
       "<Figure size 432x288 with 1 Axes>"
      ]
     },
     "metadata": {},
     "output_type": "display_data"
    },
    {
     "data": {
      "image/png": "[encoded data removed]",
      "text/plain": [
       "<Figure size 432x288 with 1 Axes>"
      ]
     },
     "metadata": {},
     "output_type": "display_data"
    },
    {
     "data": {
      "image/png": "[encoded data removed]",
      "text/plain": [
       "<Figure size 432x288 with 1 Axes>"
      ]
     },
     "metadata": {},
     "output_type": "display_data"
    }
   ],
   "source": [
    "for i in ['na_sales', 'eu_sales', 'jp_sales']:\n",
    "    data.pivot_table(index=['platform'],\n",
    "                     values= i,\n",
    "                     aggfunc='sum').sort_values(by= i, ascending=False).head(5).plot(kind='pie', autopct='%1.0f%%', subplots=True, grid=False)\n",
    "    plt.title('Топ 5 популярных платформ в '+ i[:2])\n",
    "                                                                                         \n",
    "                                            \n",
    "                                    \n",
    "                "
   ]
  },
  {
   "cell_type": "markdown",
   "metadata": {},
   "source": [
    "ПС2 входит в топ 5 во всех регионах. Большинство других платформ занимают существенную долю в двух регионах( ДС в na и jp; Х360 в на и европе и т.д.) Ни кто не имеют доли продаж более чем 30% и в целом они более менее сбалансированы. Пример: в Америке первое место делят с 24% ПС2 и Х360. "
   ]
  },
  {
   "cell_type": "code",
   "execution_count": 58,
   "metadata": {},
   "outputs": [
    {
     "data": {
      "image/png": "[encoded data removed]",
      "text/plain": [
       "<Figure size 432x288 with 1 Axes>"
      ]
     },
     "metadata": {},
     "output_type": "display_data"
    },
    {
     "data": {
      "image/png": "[encoded data removed]",
      "text/plain": [
       "<Figure size 432x288 with 1 Axes>"
      ]
     },
     "metadata": {},
     "output_type": "display_data"
    },
    {
     "data": {
      "image/png": "[encoded data removed]",
      "text/plain": [
       "<Figure size 432x288 with 1 Axes>"
      ]
     },
     "metadata": {},
     "output_type": "display_data"
    }
   ],
   "source": [
    "for i in ['na_sales', 'eu_sales', 'jp_sales']:\n",
    "    data.pivot_table(index=['genre'],\n",
    "                     values= i,\n",
    "                     aggfunc='sum').sort_values(by= i, ascending=False).head(5).plot(kind='pie', autopct='%1.0f%%', subplots=True, grid=False)\n",
    "    plt.title('Топ 5 популярных жанров в '+ i[:2])"
   ]
  },
  {
   "cell_type": "markdown",
   "metadata": {},
   "source": [
    "По жанром виден больше дисбаланс чем по платформам. Самые прибыльные жанры могут занимать 30%, что в свою очередь более чем в 2 раза больше чем 5 место. Разница по регионам по жанру намного меньше чем по платформам, сдесь все намного стабильнее, т.е. во все регионы в топ 5 жанров входят Action, Sports, Misc. Интересным замечанием является то что в японии самым популярным жанром  является Role-Playing хотя в других регионах он не входит даже в топ 5."
   ]
  },
  {
   "cell_type": "code",
   "execution_count": 59,
   "metadata": {},
   "outputs": [
    {
     "data": {
      "text/plain": [
       "<AxesSubplot:xlabel='rating', ylabel='na_sales'>"
      ]
     },
     "execution_count": 59,
     "metadata": {},
     "output_type": "execute_result"
    },
    {
     "data": {
      "image/png": "[encoded data removed]",
      "text/plain": [
       "<Figure size 432x288 with 1 Axes>"
      ]
     },
     "metadata": {
      "needs_background": "light"
     },
     "output_type": "display_data"
    }
   ],
   "source": [
    "sns.barplot(data=data, x='rating', y='na_sales')"
   ]
  },
  {
   "cell_type": "code",
   "execution_count": 60,
   "metadata": {},
   "outputs": [
    {
     "data": {
      "text/plain": [
       "<AxesSubplot:xlabel='rating', ylabel='eu_sales'>"
      ]
     },
     "execution_count": 60,
     "metadata": {},
     "output_type": "execute_result"
    },
    {
     "data": {
      "image/png": "[encoded data removed]",
      "text/plain": [
       "<Figure size 432x288 with 1 Axes>"
      ]
     },
     "metadata": {
      "needs_background": "light"
     },
     "output_type": "display_data"
    }
   ],
   "source": [
    "sns.barplot(data=data, x='rating', y='eu_sales')"
   ]
  },
  {
   "cell_type": "code",
   "execution_count": 61,
   "metadata": {},
   "outputs": [
    {
     "data": {
      "text/plain": [
       "<AxesSubplot:xlabel='rating', ylabel='jp_sales'>"
      ]
     },
     "execution_count": 61,
     "metadata": {},
     "output_type": "execute_result"
    },
    {
     "data": {
      "image/png": "[encoded data removed]",
      "text/plain": [
       "<Figure size 432x288 with 1 Axes>"
      ]
     },
     "metadata": {
      "needs_background": "light"
     },
     "output_type": "display_data"
    }
   ],
   "source": [
    "sns.barplot(data=data, x='rating', y='jp_sales')"
   ]
  },
  {
   "cell_type": "markdown",
   "metadata": {},
   "source": [
    "Ретинг игр имет огромное значение регионах, какие то определенные возвростные рейтинги дают большую среднюю прибыль, В америке самая прибыльная возростная категория К-А и АО, в европе же чуть по другому АО и М, а вот в Японии совсем по другому львиную часть рынка захватил рейтинг К-А."
   ]
  },
  {
   "cell_type": "markdown",
   "metadata": {},
   "source": [
    "# Шаг 5. Проверить гипотезы\n"
   ]
  },
  {
   "cell_type": "markdown",
   "metadata": {},
   "source": [
    "* Нулевая гипотеза - Средние пользовательские рейтинги платформ Xbox One и PC одинаковые и Средние пользовательские рейтинги жанров Action и Sports разные.\n",
    "* Альтернативная гипотеза - Средние пользовательские рейтинги платформ Xbox One и PC разные и Средние пользовательские рейтинги жанров Action и Sports одинаковые."
   ]
  },
  {
   "cell_type": "code",
   "execution_count": 62,
   "metadata": {
    "scrolled": true
   },
   "outputs": [
    {
     "name": "stdout",
     "output_type": "stream",
     "text": [
      "4.935072360183565e-06\n",
      "Отвергаем нулевую гипотезу\n"
     ]
    }
   ],
   "source": [
    "results = st.ttest_ind(\n",
    "    data[data['platform'] =='XOne']['user_score'],\n",
    "    data[data['platform'] =='PC']['user_score'],\n",
    "    equal_var = False,\n",
    "    nan_policy='omit'\n",
    ")\n",
    "\n",
    "alpha = 0.05\n",
    "\n",
    "print(results.pvalue)\n",
    "\n",
    "if results.pvalue < alpha:\n",
    "    print('Отвергаем нулевую гипотезу')\n",
    "else:\n",
    "    print('Не получилось отвергнуть нулевую гипотезу')\n"
   ]
  },
  {
   "cell_type": "code",
   "execution_count": 63,
   "metadata": {},
   "outputs": [
    {
     "name": "stdout",
     "output_type": "stream",
     "text": [
      "0.11483818791498648\n",
      "Отвергаем нулевую гипотезу\n"
     ]
    }
   ],
   "source": [
    "results = st.ttest_ind(\n",
    "    data[data['genre'] =='Action']['user_score'],\n",
    "    data[data['genre'] =='Sports']['user_score'],\n",
    "    equal_var = False,\n",
    "    nan_policy='omit'\n",
    ")\n",
    "\n",
    "alpha = 0.05\n",
    "\n",
    "print(results.pvalue)\n",
    "\n",
    "if results.pvalue < alpha:\n",
    "    print('Не получилось отвергнуть нулевую гипотезу')\n",
    "else:\n",
    "    print('Отвергаем нулевую гипотезу')"
   ]
  },
  {
   "cell_type": "markdown",
   "metadata": {},
   "source": [
    "Мы сумели опровергнуть нулевую гипотезу 'Средние пользовательские рейтинги платформ Xbox One и PC одинаковые;'.\n",
    "Гипотезу 'Средние пользовательские рейтинги жанров Action и Sports  разные' так же опровергли. Отличием эих гиротез были ключевые слова 'одинаковые' и 'разные'. Для проверки гипотез  мы применили Т-тест, который проверяет одинаковые ли средние значения столбцов. По умолчанию Т-тест проверяет утверждение 'одинаковые', поэтому мы для второй гипотезы поменяли условие опровержения гипотезы."
   ]
  },
  {
   "cell_type": "markdown",
   "metadata": {},
   "source": [
    "# Шаг 6. Общий вывод"
   ]
  },
  {
   "cell_type": "markdown",
   "metadata": {},
   "source": [
    "В данной проектной работе, источником данных нам служили продажи в интернет-магазине «Стримчик», который продаёт по всему миру компьютерные игры. В ходе проектной работы нам удалось найти определяющие успешность игры закономерности. Во первых хотеллось бы сказать что количество выпускаемых игр за последние 5 лет уменьшились в 2 раза. Далее:\n",
    "* Платформа на которой выпускается игра очень важна и является из определюящихся самой актуальной является ПC3 и Xbox One а также игры на ПК(считаю что игры на пк всегда будут актульными так как судя по графику хоть и есть спады но он продолжителен 30 лет, когда средний срок службы других платформ 7-9 лет). Так же нужно учитывать что регион так же важен, если в америке и в европе вкусы в целом схожи у обоих популярны ПС2 ПС3 XBOX, Wii, то в японии XBOX, Wii не популярен и не входит в топ 5, это очень важно.\n",
    "* Теперь перейдем к жанрам, разница по регионам по жанру намного меньше чем по платформам, сдесь все намного стабильнее, т.е. во все регионы в топ 5 жанров входят Action, Sports, Misc. Интересным замечанием является то что в японии самым популярным жанром является Role-Playing хотя в других регионах он не входит даже в топ 5. Т.е. нужно больше закупать игр в жанре Action, Sports, Misc, так как они самые прибыльные!\n",
    "* Ретинг игр имет огромное значение, в америке самая прибыльная возростная категория К-А и АО, в европе же чуть по другому АО и М, а вот в Японии совсем по другому львиную часть рынка захватил рейтинг К-А.\n",
    "Так же мы сумели опровергнуть нулевую гипотезу 'Средние пользовательские рейтинги платформ Xbox One и PC одинаковые;'. Гипотезу 'Средние пользовательские рейтинги жанров Action и Sports разные' так же опровергли.\n",
    "Данный проект отличался от других, тем что тут было много пропущенных значений поэтому нам приходилось использовать разные методы, что бы работать с ними. Активно использовали pivot_table благодаря чему исследовали определенные столбцы."
   ]
  }
 ],
 "metadata": {
  "ExecuteTimeLog": [
   {
    "duration": 392,
    "start_time": "2022-12-01T08:54:11.812Z"
   },
   {
    "duration": 407,
    "start_time": "2022-12-01T08:54:12.866Z"
   },
   {
    "duration": 486,
    "start_time": "2022-12-01T08:54:13.829Z"
   },
   {
    "duration": 195,
    "start_time": "2022-12-01T08:55:54.501Z"
   },
   {
    "duration": 81,
    "start_time": "2022-12-01T08:56:18.444Z"
   },
   {
    "duration": 56,
    "start_time": "2022-12-01T08:56:31.965Z"
   },
   {
    "duration": 66,
    "start_time": "2022-12-01T08:56:44.099Z"
   },
   {
    "duration": 16,
    "start_time": "2022-12-01T08:58:31.635Z"
   },
   {
    "duration": 5,
    "start_time": "2022-12-01T08:59:51.934Z"
   },
   {
    "duration": 3,
    "start_time": "2022-12-01T09:06:49.654Z"
   },
   {
    "duration": 3,
    "start_time": "2022-12-01T09:06:52.315Z"
   },
   {
    "duration": 14,
    "start_time": "2022-12-01T09:07:03.815Z"
   },
   {
    "duration": 4,
    "start_time": "2022-12-01T09:12:08.002Z"
   },
   {
    "duration": 28,
    "start_time": "2022-12-01T09:14:25.743Z"
   },
   {
    "duration": 27,
    "start_time": "2022-12-01T09:14:33.570Z"
   },
   {
    "duration": 3,
    "start_time": "2022-12-01T09:15:32.068Z"
   },
   {
    "duration": 99,
    "start_time": "2022-12-01T09:16:51.726Z"
   },
   {
    "duration": 8,
    "start_time": "2022-12-01T09:19:06.001Z"
   },
   {
    "duration": 3,
    "start_time": "2022-12-01T09:19:09.189Z"
   },
   {
    "duration": 3,
    "start_time": "2022-12-01T09:19:09.780Z"
   },
   {
    "duration": 336,
    "start_time": "2022-12-01T09:19:10.743Z"
   },
   {
    "duration": 506,
    "start_time": "2022-12-01T12:11:15.307Z"
   },
   {
    "duration": 3,
    "start_time": "2022-12-01T12:11:16.481Z"
   },
   {
    "duration": 4,
    "start_time": "2022-12-01T12:11:17.667Z"
   },
   {
    "duration": 743,
    "start_time": "2022-12-01T12:11:18.714Z"
   },
   {
    "duration": 221,
    "start_time": "2022-12-01T12:11:20.100Z"
   },
   {
    "duration": 16,
    "start_time": "2022-12-01T12:11:28.631Z"
   },
   {
    "duration": 6,
    "start_time": "2022-12-01T12:11:30.681Z"
   },
   {
    "duration": 40,
    "start_time": "2022-12-01T12:11:32.407Z"
   },
   {
    "duration": 3,
    "start_time": "2022-12-01T12:11:42.413Z"
   },
   {
    "duration": 16,
    "start_time": "2022-12-01T12:11:43.398Z"
   },
   {
    "duration": 16,
    "start_time": "2022-12-01T12:12:41.567Z"
   },
   {
    "duration": 17,
    "start_time": "2022-12-01T12:13:04.076Z"
   },
   {
    "duration": 7,
    "start_time": "2022-12-01T12:13:05.925Z"
   },
   {
    "duration": 3,
    "start_time": "2022-12-01T12:13:45.206Z"
   },
   {
    "duration": 8,
    "start_time": "2022-12-01T12:13:46.271Z"
   },
   {
    "duration": 8,
    "start_time": "2022-12-01T12:13:49.291Z"
   },
   {
    "duration": 107,
    "start_time": "2022-12-01T12:14:26.751Z"
   },
   {
    "duration": 9,
    "start_time": "2022-12-01T12:18:09.044Z"
   },
   {
    "duration": 8,
    "start_time": "2022-12-01T12:20:04.502Z"
   },
   {
    "duration": 8,
    "start_time": "2022-12-01T12:20:09.458Z"
   },
   {
    "duration": 7,
    "start_time": "2022-12-01T12:20:09.635Z"
   },
   {
    "duration": 8,
    "start_time": "2022-12-01T12:20:40.812Z"
   },
   {
    "duration": 20,
    "start_time": "2022-12-01T12:21:41.962Z"
   },
   {
    "duration": 17,
    "start_time": "2022-12-01T12:22:22.355Z"
   },
   {
    "duration": 15,
    "start_time": "2022-12-01T12:22:52.579Z"
   },
   {
    "duration": 7,
    "start_time": "2022-12-01T12:25:47.659Z"
   },
   {
    "duration": 7,
    "start_time": "2022-12-01T12:27:31.979Z"
   },
   {
    "duration": 7,
    "start_time": "2022-12-01T12:28:06.659Z"
   },
   {
    "duration": 10,
    "start_time": "2022-12-01T12:28:17.644Z"
   },
   {
    "duration": 7,
    "start_time": "2022-12-01T12:28:56.484Z"
   },
   {
    "duration": 7,
    "start_time": "2022-12-01T12:29:05.571Z"
   },
   {
    "duration": 7,
    "start_time": "2022-12-01T12:29:39.204Z"
   },
   {
    "duration": 17,
    "start_time": "2022-12-01T12:30:07.590Z"
   },
   {
    "duration": 6,
    "start_time": "2022-12-01T12:30:38.843Z"
   },
   {
    "duration": 7,
    "start_time": "2022-12-01T12:31:15.269Z"
   },
   {
    "duration": 8,
    "start_time": "2022-12-01T12:35:01.934Z"
   },
   {
    "duration": 8,
    "start_time": "2022-12-01T12:37:02.040Z"
   },
   {
    "duration": 2,
    "start_time": "2022-12-01T12:37:34.679Z"
   },
   {
    "duration": 4,
    "start_time": "2022-12-01T12:37:38.787Z"
   },
   {
    "duration": 5,
    "start_time": "2022-12-01T12:37:43.406Z"
   },
   {
    "duration": 10,
    "start_time": "2022-12-01T12:37:44.756Z"
   },
   {
    "duration": 5,
    "start_time": "2022-12-01T12:38:16.899Z"
   },
   {
    "duration": 10,
    "start_time": "2022-12-01T12:38:30.620Z"
   },
   {
    "duration": 6,
    "start_time": "2022-12-01T12:38:36.081Z"
   },
   {
    "duration": 7,
    "start_time": "2022-12-01T12:41:11.697Z"
   },
   {
    "duration": 10,
    "start_time": "2022-12-01T12:42:51.322Z"
   },
   {
    "duration": 8,
    "start_time": "2022-12-01T12:43:58.196Z"
   },
   {
    "duration": 8,
    "start_time": "2022-12-01T12:45:03.383Z"
   },
   {
    "duration": 6,
    "start_time": "2022-12-01T12:48:56.754Z"
   },
   {
    "duration": 26,
    "start_time": "2022-12-01T12:49:04.312Z"
   },
   {
    "duration": 27,
    "start_time": "2022-12-01T12:50:11.007Z"
   },
   {
    "duration": 7,
    "start_time": "2022-12-01T12:55:35.793Z"
   },
   {
    "duration": 12,
    "start_time": "2022-12-01T12:56:17.338Z"
   },
   {
    "duration": 14,
    "start_time": "2022-12-01T12:56:33.614Z"
   },
   {
    "duration": 10,
    "start_time": "2022-12-01T12:57:28.270Z"
   },
   {
    "duration": 11,
    "start_time": "2022-12-01T12:57:35.371Z"
   },
   {
    "duration": 12,
    "start_time": "2022-12-01T12:57:49.101Z"
   },
   {
    "duration": 366,
    "start_time": "2022-12-01T13:00:20.022Z"
   },
   {
    "duration": 12,
    "start_time": "2022-12-01T13:01:52.397Z"
   },
   {
    "duration": 350,
    "start_time": "2022-12-01T13:05:23.146Z"
   },
   {
    "duration": 137,
    "start_time": "2022-12-01T13:05:49.850Z"
   },
   {
    "duration": 128,
    "start_time": "2022-12-01T13:06:00.675Z"
   },
   {
    "duration": 137,
    "start_time": "2022-12-01T13:07:13.506Z"
   },
   {
    "duration": 14,
    "start_time": "2022-12-01T13:07:44.817Z"
   },
   {
    "duration": 489,
    "start_time": "2022-12-01T13:13:35.521Z"
   },
   {
    "duration": 399,
    "start_time": "2022-12-01T13:13:57.468Z"
   },
   {
    "duration": 11,
    "start_time": "2022-12-01T13:18:09.487Z"
   },
   {
    "duration": 11,
    "start_time": "2022-12-01T13:18:16.760Z"
   },
   {
    "duration": 5,
    "start_time": "2022-12-01T13:18:24.852Z"
   },
   {
    "duration": 8,
    "start_time": "2022-12-01T13:18:41.984Z"
   },
   {
    "duration": 896,
    "start_time": "2022-12-01T13:25:25.246Z"
   },
   {
    "duration": 583,
    "start_time": "2022-12-01T13:26:00.225Z"
   },
   {
    "duration": 911,
    "start_time": "2022-12-01T13:26:18.866Z"
   },
   {
    "duration": 12,
    "start_time": "2022-12-01T13:27:29.617Z"
   },
   {
    "duration": 12,
    "start_time": "2022-12-01T13:27:37.881Z"
   },
   {
    "duration": 14,
    "start_time": "2022-12-01T13:28:14.346Z"
   },
   {
    "duration": 452,
    "start_time": "2022-12-01T14:03:34.992Z"
   },
   {
    "duration": 531,
    "start_time": "2022-12-01T14:03:36.031Z"
   },
   {
    "duration": 601,
    "start_time": "2022-12-01T14:03:36.630Z"
   },
   {
    "duration": 2,
    "start_time": "2022-12-01T14:03:37.233Z"
   },
   {
    "duration": 136,
    "start_time": "2022-12-01T14:03:38.114Z"
   },
   {
    "duration": 17,
    "start_time": "2022-12-01T14:03:39.937Z"
   },
   {
    "duration": 6,
    "start_time": "2022-12-01T14:04:15.536Z"
   },
   {
    "duration": 2,
    "start_time": "2022-12-01T14:04:17.330Z"
   },
   {
    "duration": 947,
    "start_time": "2022-12-01T14:04:17.911Z"
   },
   {
    "duration": 32,
    "start_time": "2022-12-01T14:04:25.305Z"
   },
   {
    "duration": 5,
    "start_time": "2022-12-01T14:04:27.015Z"
   },
   {
    "duration": 3,
    "start_time": "2022-12-01T14:04:33.769Z"
   },
   {
    "duration": 16,
    "start_time": "2022-12-01T14:04:34.430Z"
   },
   {
    "duration": 5,
    "start_time": "2022-12-01T14:04:36.176Z"
   },
   {
    "duration": 3,
    "start_time": "2022-12-01T14:04:37.366Z"
   },
   {
    "duration": 9,
    "start_time": "2022-12-01T14:04:38.663Z"
   },
   {
    "duration": 5,
    "start_time": "2022-12-01T14:04:40.656Z"
   },
   {
    "duration": 8,
    "start_time": "2022-12-01T14:04:41.273Z"
   },
   {
    "duration": 15,
    "start_time": "2022-12-01T14:04:43.497Z"
   },
   {
    "duration": 11,
    "start_time": "2022-12-01T14:04:44.978Z"
   },
   {
    "duration": 36,
    "start_time": "2022-12-01T14:04:46.087Z"
   },
   {
    "duration": 430,
    "start_time": "2022-12-01T14:04:49.283Z"
   },
   {
    "duration": 12,
    "start_time": "2022-12-01T14:04:51.502Z"
   },
   {
    "duration": 9,
    "start_time": "2022-12-01T14:05:02.714Z"
   },
   {
    "duration": 1024,
    "start_time": "2022-12-01T14:05:04.778Z"
   },
   {
    "duration": 9,
    "start_time": "2022-12-01T14:09:48.010Z"
   },
   {
    "duration": 9,
    "start_time": "2022-12-01T14:10:01.288Z"
   },
   {
    "duration": 8,
    "start_time": "2022-12-01T14:10:12.679Z"
   },
   {
    "duration": 9,
    "start_time": "2022-12-01T14:10:27.569Z"
   },
   {
    "duration": 10,
    "start_time": "2022-12-01T14:10:36.272Z"
   },
   {
    "duration": 14,
    "start_time": "2022-12-01T14:12:27.349Z"
   },
   {
    "duration": 7,
    "start_time": "2022-12-01T14:12:33.232Z"
   },
   {
    "duration": 7,
    "start_time": "2022-12-01T14:12:35.769Z"
   },
   {
    "duration": 652,
    "start_time": "2022-12-01T14:12:40.044Z"
   },
   {
    "duration": 363,
    "start_time": "2022-12-01T14:13:15.386Z"
   },
   {
    "duration": 21,
    "start_time": "2022-12-01T14:30:26.311Z"
   },
   {
    "duration": 20,
    "start_time": "2022-12-01T14:32:07.472Z"
   },
   {
    "duration": 352,
    "start_time": "2022-12-01T14:32:39.616Z"
   },
   {
    "duration": 8,
    "start_time": "2022-12-01T14:37:37.813Z"
   },
   {
    "duration": 15,
    "start_time": "2022-12-01T14:37:47.191Z"
   },
   {
    "duration": 16,
    "start_time": "2022-12-01T14:38:51.623Z"
   },
   {
    "duration": 10,
    "start_time": "2022-12-01T14:41:26.330Z"
   },
   {
    "duration": 4,
    "start_time": "2022-12-01T14:41:51.132Z"
   },
   {
    "duration": 48,
    "start_time": "2022-12-01T14:42:50.572Z"
   },
   {
    "duration": 132,
    "start_time": "2022-12-01T14:43:06.726Z"
   },
   {
    "duration": 144,
    "start_time": "2022-12-01T14:45:03.072Z"
   },
   {
    "duration": 158,
    "start_time": "2022-12-01T14:45:04.872Z"
   },
   {
    "duration": 136,
    "start_time": "2022-12-01T14:45:06.502Z"
   },
   {
    "duration": 144,
    "start_time": "2022-12-01T14:45:11.721Z"
   },
   {
    "duration": 146,
    "start_time": "2022-12-01T14:45:15.404Z"
   },
   {
    "duration": 160,
    "start_time": "2022-12-01T14:45:17.906Z"
   },
   {
    "duration": 228,
    "start_time": "2022-12-01T14:45:20.838Z"
   },
   {
    "duration": 136,
    "start_time": "2022-12-01T14:45:24.495Z"
   },
   {
    "duration": 146,
    "start_time": "2022-12-01T14:45:34.745Z"
   },
   {
    "duration": 9,
    "start_time": "2022-12-01T14:55:34.805Z"
   },
   {
    "duration": 95,
    "start_time": "2022-12-01T14:57:21.425Z"
   },
   {
    "duration": 8,
    "start_time": "2022-12-01T14:57:37.067Z"
   },
   {
    "duration": 14,
    "start_time": "2022-12-01T14:58:13.482Z"
   },
   {
    "duration": 14,
    "start_time": "2022-12-01T14:58:42.953Z"
   },
   {
    "duration": 8,
    "start_time": "2022-12-01T14:59:09.533Z"
   },
   {
    "duration": 8,
    "start_time": "2022-12-01T14:59:11.189Z"
   },
   {
    "duration": 8,
    "start_time": "2022-12-01T15:00:13.509Z"
   },
   {
    "duration": 18,
    "start_time": "2022-12-01T15:00:18.764Z"
   },
   {
    "duration": 520,
    "start_time": "2022-12-03T14:34:19.151Z"
   },
   {
    "duration": 452,
    "start_time": "2022-12-03T14:34:19.672Z"
   },
   {
    "duration": 563,
    "start_time": "2022-12-03T14:34:20.126Z"
   },
   {
    "duration": 3,
    "start_time": "2022-12-03T14:34:20.691Z"
   },
   {
    "duration": 268,
    "start_time": "2022-12-03T14:34:20.697Z"
   },
   {
    "duration": 15,
    "start_time": "2022-12-03T14:34:20.967Z"
   },
   {
    "duration": 5,
    "start_time": "2022-12-03T14:34:20.984Z"
   },
   {
    "duration": 60,
    "start_time": "2022-12-03T14:34:20.991Z"
   },
   {
    "duration": 4,
    "start_time": "2022-12-03T14:34:21.053Z"
   },
   {
    "duration": 9,
    "start_time": "2022-12-03T14:34:21.058Z"
   },
   {
    "duration": 18,
    "start_time": "2022-12-03T14:34:21.069Z"
   },
   {
    "duration": 7,
    "start_time": "2022-12-03T14:34:21.089Z"
   },
   {
    "duration": 4,
    "start_time": "2022-12-03T14:34:21.098Z"
   },
   {
    "duration": 9,
    "start_time": "2022-12-03T14:34:21.139Z"
   },
   {
    "duration": 5,
    "start_time": "2022-12-03T14:34:21.149Z"
   },
   {
    "duration": 10,
    "start_time": "2022-12-03T14:34:21.156Z"
   },
   {
    "duration": 10,
    "start_time": "2022-12-03T14:34:21.168Z"
   },
   {
    "duration": 7,
    "start_time": "2022-12-03T14:34:21.180Z"
   },
   {
    "duration": 68,
    "start_time": "2022-12-03T14:34:21.189Z"
   },
   {
    "duration": 441,
    "start_time": "2022-12-03T14:34:21.259Z"
   },
   {
    "duration": 13,
    "start_time": "2022-12-03T14:34:21.702Z"
   },
   {
    "duration": 20,
    "start_time": "2022-12-03T14:34:21.717Z"
   },
   {
    "duration": 439,
    "start_time": "2022-12-03T14:34:21.739Z"
   },
   {
    "duration": 26,
    "start_time": "2022-12-03T14:34:22.181Z"
   },
   {
    "duration": 5,
    "start_time": "2022-12-03T14:34:22.210Z"
   },
   {
    "duration": 182,
    "start_time": "2022-12-03T14:34:22.217Z"
   },
   {
    "duration": 169,
    "start_time": "2022-12-03T14:34:22.401Z"
   },
   {
    "duration": 175,
    "start_time": "2022-12-03T14:34:22.572Z"
   },
   {
    "duration": 160,
    "start_time": "2022-12-03T14:34:22.749Z"
   },
   {
    "duration": 166,
    "start_time": "2022-12-03T14:34:22.910Z"
   },
   {
    "duration": 232,
    "start_time": "2022-12-03T14:34:23.078Z"
   },
   {
    "duration": 188,
    "start_time": "2022-12-03T14:34:23.312Z"
   },
   {
    "duration": 169,
    "start_time": "2022-12-03T14:34:23.502Z"
   },
   {
    "duration": 158,
    "start_time": "2022-12-03T14:34:23.673Z"
   },
   {
    "duration": 177,
    "start_time": "2022-12-03T14:34:23.837Z"
   },
   {
    "duration": 27,
    "start_time": "2022-12-03T14:34:24.016Z"
   },
   {
    "duration": 405,
    "start_time": "2022-12-04T06:34:53.976Z"
   },
   {
    "duration": 370,
    "start_time": "2022-12-04T06:34:54.383Z"
   },
   {
    "duration": 511,
    "start_time": "2022-12-04T06:34:54.755Z"
   },
   {
    "duration": 2,
    "start_time": "2022-12-04T06:34:55.268Z"
   },
   {
    "duration": 220,
    "start_time": "2022-12-04T06:34:55.273Z"
   },
   {
    "duration": 12,
    "start_time": "2022-12-04T06:34:55.495Z"
   },
   {
    "duration": 8,
    "start_time": "2022-12-04T06:34:55.509Z"
   },
   {
    "duration": 34,
    "start_time": "2022-12-04T06:34:55.519Z"
   },
   {
    "duration": 3,
    "start_time": "2022-12-04T06:34:55.555Z"
   },
   {
    "duration": 18,
    "start_time": "2022-12-04T06:34:55.560Z"
   },
   {
    "duration": 16,
    "start_time": "2022-12-04T06:34:55.580Z"
   },
   {
    "duration": 6,
    "start_time": "2022-12-04T06:34:55.598Z"
   },
   {
    "duration": 4,
    "start_time": "2022-12-04T06:34:55.606Z"
   },
   {
    "duration": 12,
    "start_time": "2022-12-04T06:34:55.613Z"
   },
   {
    "duration": 5,
    "start_time": "2022-12-04T06:34:55.626Z"
   },
   {
    "duration": 9,
    "start_time": "2022-12-04T06:34:55.633Z"
   },
   {
    "duration": 36,
    "start_time": "2022-12-04T06:34:55.644Z"
   },
   {
    "duration": 8,
    "start_time": "2022-12-04T06:34:55.681Z"
   },
   {
    "duration": 37,
    "start_time": "2022-12-04T06:34:55.690Z"
   },
   {
    "duration": 420,
    "start_time": "2022-12-04T06:34:55.729Z"
   },
   {
    "duration": 11,
    "start_time": "2022-12-04T06:34:56.151Z"
   },
   {
    "duration": 15,
    "start_time": "2022-12-04T06:34:56.163Z"
   },
   {
    "duration": 392,
    "start_time": "2022-12-04T06:34:56.180Z"
   },
   {
    "duration": 15,
    "start_time": "2022-12-04T06:34:56.574Z"
   },
   {
    "duration": 3,
    "start_time": "2022-12-04T06:34:56.591Z"
   },
   {
    "duration": 132,
    "start_time": "2022-12-04T06:34:56.596Z"
   },
   {
    "duration": 137,
    "start_time": "2022-12-04T06:34:56.730Z"
   },
   {
    "duration": 156,
    "start_time": "2022-12-04T06:34:56.870Z"
   },
   {
    "duration": 153,
    "start_time": "2022-12-04T06:34:57.027Z"
   },
   {
    "duration": 139,
    "start_time": "2022-12-04T06:34:57.181Z"
   },
   {
    "duration": 212,
    "start_time": "2022-12-04T06:34:57.322Z"
   },
   {
    "duration": 156,
    "start_time": "2022-12-04T06:34:57.536Z"
   },
   {
    "duration": 143,
    "start_time": "2022-12-04T06:34:57.693Z"
   },
   {
    "duration": 144,
    "start_time": "2022-12-04T06:34:57.838Z"
   },
   {
    "duration": 150,
    "start_time": "2022-12-04T06:34:57.984Z"
   },
   {
    "duration": 15,
    "start_time": "2022-12-04T06:34:58.136Z"
   },
   {
    "duration": 100,
    "start_time": "2022-12-04T06:36:20.520Z"
   },
   {
    "duration": 440,
    "start_time": "2022-12-04T06:36:27.990Z"
   },
   {
    "duration": 15,
    "start_time": "2022-12-04T06:37:39.345Z"
   },
   {
    "duration": 553,
    "start_time": "2022-12-04T06:39:07.127Z"
   },
   {
    "duration": 472,
    "start_time": "2022-12-04T06:39:29.775Z"
   },
   {
    "duration": 73,
    "start_time": "2022-12-04T06:40:12.467Z"
   },
   {
    "duration": 502,
    "start_time": "2022-12-04T06:40:22.767Z"
   },
   {
    "duration": 747,
    "start_time": "2022-12-04T06:41:29.354Z"
   },
   {
    "duration": 717,
    "start_time": "2022-12-04T06:41:44.851Z"
   },
   {
    "duration": 686,
    "start_time": "2022-12-04T06:41:52.752Z"
   },
   {
    "duration": 3,
    "start_time": "2022-12-04T06:58:44.491Z"
   },
   {
    "duration": 315,
    "start_time": "2022-12-04T06:58:51.754Z"
   },
   {
    "duration": 200,
    "start_time": "2022-12-04T07:00:33.941Z"
   },
   {
    "duration": 160,
    "start_time": "2022-12-04T07:01:24.522Z"
   },
   {
    "duration": 11,
    "start_time": "2022-12-04T07:02:18.813Z"
   },
   {
    "duration": 786,
    "start_time": "2022-12-04T07:02:24.614Z"
   },
   {
    "duration": 386,
    "start_time": "2022-12-04T07:06:44.590Z"
   },
   {
    "duration": 319,
    "start_time": "2022-12-04T07:07:14.020Z"
   },
   {
    "duration": 10,
    "start_time": "2022-12-04T07:08:04.907Z"
   },
   {
    "duration": 26,
    "start_time": "2022-12-04T07:08:19.557Z"
   },
   {
    "duration": 6,
    "start_time": "2022-12-04T07:11:26.361Z"
   },
   {
    "duration": 248,
    "start_time": "2022-12-04T07:12:03.232Z"
   },
   {
    "duration": 238,
    "start_time": "2022-12-04T07:12:18.794Z"
   },
   {
    "duration": 5,
    "start_time": "2022-12-04T07:12:47.976Z"
   },
   {
    "duration": 5,
    "start_time": "2022-12-04T07:24:04.574Z"
   },
   {
    "duration": 7,
    "start_time": "2022-12-04T07:24:12.201Z"
   },
   {
    "duration": 150,
    "start_time": "2022-12-04T07:24:45.917Z"
   },
   {
    "duration": 8,
    "start_time": "2022-12-04T07:25:45.038Z"
   },
   {
    "duration": 11,
    "start_time": "2022-12-04T07:26:11.108Z"
   },
   {
    "duration": 9,
    "start_time": "2022-12-04T07:26:16.768Z"
   },
   {
    "duration": 236,
    "start_time": "2022-12-04T07:26:41.487Z"
   },
   {
    "duration": 10,
    "start_time": "2022-12-04T07:27:11.061Z"
   },
   {
    "duration": 13,
    "start_time": "2022-12-04T07:27:13.312Z"
   },
   {
    "duration": 234,
    "start_time": "2022-12-04T07:27:22.280Z"
   },
   {
    "duration": 10,
    "start_time": "2022-12-04T07:27:28.656Z"
   },
   {
    "duration": 135,
    "start_time": "2022-12-04T07:28:11.000Z"
   },
   {
    "duration": 266,
    "start_time": "2022-12-04T07:28:58.591Z"
   },
   {
    "duration": 9,
    "start_time": "2022-12-04T07:29:43.751Z"
   },
   {
    "duration": 148,
    "start_time": "2022-12-04T07:30:06.040Z"
   },
   {
    "duration": 10,
    "start_time": "2022-12-04T07:39:46.394Z"
   },
   {
    "duration": 14,
    "start_time": "2022-12-04T07:39:59.290Z"
   },
   {
    "duration": 3,
    "start_time": "2022-12-04T07:46:09.644Z"
   },
   {
    "duration": 41,
    "start_time": "2022-12-04T07:46:15.588Z"
   },
   {
    "duration": 38,
    "start_time": "2022-12-04T07:46:52.886Z"
   },
   {
    "duration": 40,
    "start_time": "2022-12-04T07:47:03.764Z"
   },
   {
    "duration": 43,
    "start_time": "2022-12-04T08:04:15.042Z"
   },
   {
    "duration": 18,
    "start_time": "2022-12-04T08:10:20.121Z"
   },
   {
    "duration": 162,
    "start_time": "2022-12-04T08:10:39.544Z"
   },
   {
    "duration": 76,
    "start_time": "2022-12-04T08:11:43.943Z"
   },
   {
    "duration": 159,
    "start_time": "2022-12-04T08:11:53.553Z"
   },
   {
    "duration": 22,
    "start_time": "2022-12-04T08:13:05.780Z"
   },
   {
    "duration": 460,
    "start_time": "2022-12-04T08:14:48.129Z"
   },
   {
    "duration": 71,
    "start_time": "2022-12-04T08:15:21.591Z"
   },
   {
    "duration": 489,
    "start_time": "2022-12-04T08:15:27.130Z"
   },
   {
    "duration": 572,
    "start_time": "2022-12-04T08:17:53.571Z"
   },
   {
    "duration": 488,
    "start_time": "2022-12-04T08:18:23.017Z"
   },
   {
    "duration": 470,
    "start_time": "2022-12-04T08:19:39.150Z"
   },
   {
    "duration": 505,
    "start_time": "2022-12-04T08:19:55.612Z"
   },
   {
    "duration": 520,
    "start_time": "2022-12-04T08:30:09.360Z"
   },
   {
    "duration": 17,
    "start_time": "2022-12-04T08:39:37.321Z"
   },
   {
    "duration": 20,
    "start_time": "2022-12-04T08:39:42.777Z"
   },
   {
    "duration": 296,
    "start_time": "2022-12-04T08:40:32.174Z"
   },
   {
    "duration": 308,
    "start_time": "2022-12-04T08:41:00.856Z"
   },
   {
    "duration": 473,
    "start_time": "2022-12-04T08:41:03.105Z"
   },
   {
    "duration": 295,
    "start_time": "2022-12-04T08:47:11.264Z"
   },
   {
    "duration": 2,
    "start_time": "2022-12-04T09:00:26.564Z"
   },
   {
    "duration": 3,
    "start_time": "2022-12-04T09:00:36.830Z"
   },
   {
    "duration": 12,
    "start_time": "2022-12-04T09:06:14.916Z"
   },
   {
    "duration": 9,
    "start_time": "2022-12-04T09:06:38.732Z"
   },
   {
    "duration": 11,
    "start_time": "2022-12-04T09:07:29.396Z"
   },
   {
    "duration": 10,
    "start_time": "2022-12-04T09:07:35.483Z"
   },
   {
    "duration": 12,
    "start_time": "2022-12-04T09:10:12.466Z"
   },
   {
    "duration": 9,
    "start_time": "2022-12-04T09:16:20.523Z"
   },
   {
    "duration": 17,
    "start_time": "2022-12-04T09:16:34.038Z"
   },
   {
    "duration": 97,
    "start_time": "2022-12-04T09:18:22.077Z"
   },
   {
    "duration": 11,
    "start_time": "2022-12-04T09:18:31.131Z"
   },
   {
    "duration": 11,
    "start_time": "2022-12-04T09:18:46.797Z"
   },
   {
    "duration": 10,
    "start_time": "2022-12-04T09:27:10.220Z"
   },
   {
    "duration": 12,
    "start_time": "2022-12-04T09:27:42.758Z"
   },
   {
    "duration": 10,
    "start_time": "2022-12-04T09:35:24.361Z"
   },
   {
    "duration": 13,
    "start_time": "2022-12-04T09:45:07.982Z"
   },
   {
    "duration": 8,
    "start_time": "2022-12-04T09:46:16.555Z"
   },
   {
    "duration": 9,
    "start_time": "2022-12-04T09:46:18.832Z"
   },
   {
    "duration": 9,
    "start_time": "2022-12-04T09:46:36.278Z"
   },
   {
    "duration": 8,
    "start_time": "2022-12-04T09:46:37.665Z"
   },
   {
    "duration": 11,
    "start_time": "2022-12-04T09:46:49.097Z"
   },
   {
    "duration": 8,
    "start_time": "2022-12-04T09:47:19.731Z"
   },
   {
    "duration": 8,
    "start_time": "2022-12-04T09:47:20.733Z"
   },
   {
    "duration": 15,
    "start_time": "2022-12-04T09:47:40.996Z"
   },
   {
    "duration": 13,
    "start_time": "2022-12-04T09:47:52.103Z"
   },
   {
    "duration": 8,
    "start_time": "2022-12-04T09:47:58.920Z"
   },
   {
    "duration": 9,
    "start_time": "2022-12-04T09:48:02.899Z"
   },
   {
    "duration": 10,
    "start_time": "2022-12-04T09:48:49.819Z"
   },
   {
    "duration": 10,
    "start_time": "2022-12-04T09:51:54.893Z"
   },
   {
    "duration": 276,
    "start_time": "2022-12-04T09:56:58.180Z"
   },
   {
    "duration": 220,
    "start_time": "2022-12-04T09:56:59.394Z"
   },
   {
    "duration": 410,
    "start_time": "2022-12-04T12:06:17.698Z"
   },
   {
    "duration": 238,
    "start_time": "2022-12-04T12:06:18.110Z"
   },
   {
    "duration": 483,
    "start_time": "2022-12-04T12:06:18.350Z"
   },
   {
    "duration": 4,
    "start_time": "2022-12-04T12:06:18.834Z"
   },
   {
    "duration": 15,
    "start_time": "2022-12-04T12:06:18.840Z"
   },
   {
    "duration": 74,
    "start_time": "2022-12-04T12:06:18.857Z"
   },
   {
    "duration": 15,
    "start_time": "2022-12-04T12:06:18.932Z"
   },
   {
    "duration": 4,
    "start_time": "2022-12-04T12:06:18.948Z"
   },
   {
    "duration": 41,
    "start_time": "2022-12-04T12:06:18.954Z"
   },
   {
    "duration": 4,
    "start_time": "2022-12-04T12:06:18.997Z"
   },
   {
    "duration": 20,
    "start_time": "2022-12-04T12:06:19.003Z"
   },
   {
    "duration": 23,
    "start_time": "2022-12-04T12:06:19.025Z"
   },
   {
    "duration": 13,
    "start_time": "2022-12-04T12:06:19.050Z"
   },
   {
    "duration": 4,
    "start_time": "2022-12-04T12:06:19.066Z"
   },
   {
    "duration": 14,
    "start_time": "2022-12-04T12:06:19.072Z"
   },
   {
    "duration": 5,
    "start_time": "2022-12-04T12:06:19.088Z"
   },
   {
    "duration": 12,
    "start_time": "2022-12-04T12:06:19.094Z"
   },
   {
    "duration": 11,
    "start_time": "2022-12-04T12:06:19.121Z"
   },
   {
    "duration": 17,
    "start_time": "2022-12-04T12:06:19.133Z"
   },
   {
    "duration": 29,
    "start_time": "2022-12-04T12:06:19.152Z"
   },
   {
    "duration": 412,
    "start_time": "2022-12-04T12:06:19.182Z"
   },
   {
    "duration": 11,
    "start_time": "2022-12-04T12:06:19.596Z"
   },
   {
    "duration": 18,
    "start_time": "2022-12-04T12:06:19.609Z"
   },
   {
    "duration": 407,
    "start_time": "2022-12-04T12:06:19.629Z"
   },
   {
    "duration": 16,
    "start_time": "2022-12-04T12:06:20.038Z"
   },
   {
    "duration": 4,
    "start_time": "2022-12-04T12:06:20.055Z"
   },
   {
    "duration": 130,
    "start_time": "2022-12-04T12:06:20.061Z"
   },
   {
    "duration": 150,
    "start_time": "2022-12-04T12:06:20.192Z"
   },
   {
    "duration": 147,
    "start_time": "2022-12-04T12:06:20.344Z"
   },
   {
    "duration": 139,
    "start_time": "2022-12-04T12:06:20.493Z"
   },
   {
    "duration": 140,
    "start_time": "2022-12-04T12:06:20.634Z"
   },
   {
    "duration": 210,
    "start_time": "2022-12-04T12:06:20.776Z"
   },
   {
    "duration": 157,
    "start_time": "2022-12-04T12:06:20.988Z"
   },
   {
    "duration": 140,
    "start_time": "2022-12-04T12:06:21.147Z"
   },
   {
    "duration": 140,
    "start_time": "2022-12-04T12:06:21.289Z"
   },
   {
    "duration": 164,
    "start_time": "2022-12-04T12:06:21.430Z"
   },
   {
    "duration": 26,
    "start_time": "2022-12-04T12:06:21.596Z"
   },
   {
    "duration": 819,
    "start_time": "2022-12-04T12:06:21.623Z"
   },
   {
    "duration": 287,
    "start_time": "2022-12-04T12:06:22.444Z"
   },
   {
    "duration": 9,
    "start_time": "2022-12-04T12:06:22.733Z"
   },
   {
    "duration": 379,
    "start_time": "2022-12-04T12:06:22.746Z"
   },
   {
    "duration": 448,
    "start_time": "2022-12-04T12:06:23.127Z"
   },
   {
    "duration": 0,
    "start_time": "2022-12-04T12:06:23.577Z"
   },
   {
    "duration": 0,
    "start_time": "2022-12-04T12:06:23.578Z"
   },
   {
    "duration": 0,
    "start_time": "2022-12-04T12:06:23.579Z"
   },
   {
    "duration": 0,
    "start_time": "2022-12-04T12:06:23.581Z"
   },
   {
    "duration": 0,
    "start_time": "2022-12-04T12:06:23.582Z"
   },
   {
    "duration": 0,
    "start_time": "2022-12-04T12:06:23.584Z"
   },
   {
    "duration": 0,
    "start_time": "2022-12-04T12:06:23.585Z"
   },
   {
    "duration": 0,
    "start_time": "2022-12-04T12:06:23.586Z"
   },
   {
    "duration": 0,
    "start_time": "2022-12-04T12:06:23.587Z"
   },
   {
    "duration": 0,
    "start_time": "2022-12-04T12:06:23.589Z"
   },
   {
    "duration": 0,
    "start_time": "2022-12-04T12:06:23.621Z"
   },
   {
    "duration": 0,
    "start_time": "2022-12-04T12:06:23.622Z"
   },
   {
    "duration": 0,
    "start_time": "2022-12-04T12:06:23.623Z"
   },
   {
    "duration": 0,
    "start_time": "2022-12-04T12:06:23.624Z"
   },
   {
    "duration": 0,
    "start_time": "2022-12-04T12:06:23.625Z"
   },
   {
    "duration": 46,
    "start_time": "2022-12-04T14:50:55.596Z"
   },
   {
    "duration": 6,
    "start_time": "2022-12-04T14:55:02.555Z"
   },
   {
    "duration": 411,
    "start_time": "2022-12-04T14:55:06.506Z"
   },
   {
    "duration": 408,
    "start_time": "2022-12-04T14:55:06.919Z"
   },
   {
    "duration": 553,
    "start_time": "2022-12-04T14:55:07.329Z"
   },
   {
    "duration": 3,
    "start_time": "2022-12-04T14:55:07.883Z"
   },
   {
    "duration": 6,
    "start_time": "2022-12-04T14:55:07.888Z"
   },
   {
    "duration": 222,
    "start_time": "2022-12-04T14:55:07.895Z"
   },
   {
    "duration": 14,
    "start_time": "2022-12-04T14:55:08.119Z"
   },
   {
    "duration": 5,
    "start_time": "2022-12-04T14:55:08.135Z"
   },
   {
    "duration": 32,
    "start_time": "2022-12-04T14:55:08.142Z"
   },
   {
    "duration": 4,
    "start_time": "2022-12-04T14:55:08.175Z"
   },
   {
    "duration": 6,
    "start_time": "2022-12-04T14:55:08.181Z"
   },
   {
    "duration": 48,
    "start_time": "2022-12-04T14:55:08.189Z"
   },
   {
    "duration": 9,
    "start_time": "2022-12-04T14:55:08.239Z"
   },
   {
    "duration": 3,
    "start_time": "2022-12-04T14:55:08.252Z"
   },
   {
    "duration": 12,
    "start_time": "2022-12-04T14:55:08.257Z"
   },
   {
    "duration": 6,
    "start_time": "2022-12-04T14:55:08.271Z"
   },
   {
    "duration": 10,
    "start_time": "2022-12-04T14:55:08.279Z"
   },
   {
    "duration": 36,
    "start_time": "2022-12-04T14:55:08.292Z"
   },
   {
    "duration": 11,
    "start_time": "2022-12-04T14:55:08.329Z"
   },
   {
    "duration": 48,
    "start_time": "2022-12-04T14:55:08.342Z"
   },
   {
    "duration": 406,
    "start_time": "2022-12-04T14:55:08.392Z"
   },
   {
    "duration": 11,
    "start_time": "2022-12-04T14:55:08.800Z"
   },
   {
    "duration": 9,
    "start_time": "2022-12-04T14:55:08.822Z"
   },
   {
    "duration": 403,
    "start_time": "2022-12-04T14:55:08.833Z"
   },
   {
    "duration": 18,
    "start_time": "2022-12-04T14:55:09.237Z"
   },
   {
    "duration": 4,
    "start_time": "2022-12-04T14:55:09.257Z"
   },
   {
    "duration": 140,
    "start_time": "2022-12-04T14:55:09.263Z"
   },
   {
    "duration": 150,
    "start_time": "2022-12-04T14:55:09.405Z"
   },
   {
    "duration": 161,
    "start_time": "2022-12-04T14:55:09.557Z"
   },
   {
    "duration": 149,
    "start_time": "2022-12-04T14:55:09.722Z"
   },
   {
    "duration": 156,
    "start_time": "2022-12-04T14:55:09.873Z"
   },
   {
    "duration": 233,
    "start_time": "2022-12-04T14:55:10.030Z"
   },
   {
    "duration": 165,
    "start_time": "2022-12-04T14:55:10.264Z"
   },
   {
    "duration": 156,
    "start_time": "2022-12-04T14:55:10.431Z"
   },
   {
    "duration": 141,
    "start_time": "2022-12-04T14:55:10.589Z"
   },
   {
    "duration": 158,
    "start_time": "2022-12-04T14:55:10.732Z"
   },
   {
    "duration": 17,
    "start_time": "2022-12-04T14:55:10.892Z"
   },
   {
    "duration": 637,
    "start_time": "2022-12-04T14:55:10.923Z"
   },
   {
    "duration": 170,
    "start_time": "2022-12-04T14:55:11.561Z"
   },
   {
    "duration": 10,
    "start_time": "2022-12-04T14:55:11.732Z"
   },
   {
    "duration": 180,
    "start_time": "2022-12-04T14:55:11.746Z"
   },
   {
    "duration": 5,
    "start_time": "2022-12-04T14:55:11.927Z"
   },
   {
    "duration": 299,
    "start_time": "2022-12-04T14:55:11.934Z"
   },
   {
    "duration": 0,
    "start_time": "2022-12-04T14:55:12.235Z"
   },
   {
    "duration": 0,
    "start_time": "2022-12-04T14:55:12.236Z"
   },
   {
    "duration": 0,
    "start_time": "2022-12-04T14:55:12.238Z"
   },
   {
    "duration": 0,
    "start_time": "2022-12-04T14:55:12.239Z"
   },
   {
    "duration": 0,
    "start_time": "2022-12-04T14:55:12.240Z"
   },
   {
    "duration": 0,
    "start_time": "2022-12-04T14:55:12.241Z"
   },
   {
    "duration": 0,
    "start_time": "2022-12-04T14:55:12.242Z"
   },
   {
    "duration": 0,
    "start_time": "2022-12-04T14:55:12.243Z"
   },
   {
    "duration": 0,
    "start_time": "2022-12-04T14:55:12.244Z"
   },
   {
    "duration": 0,
    "start_time": "2022-12-04T14:55:12.245Z"
   },
   {
    "duration": 0,
    "start_time": "2022-12-04T14:55:12.246Z"
   },
   {
    "duration": 0,
    "start_time": "2022-12-04T14:55:12.247Z"
   },
   {
    "duration": 0,
    "start_time": "2022-12-04T14:55:12.248Z"
   },
   {
    "duration": 1,
    "start_time": "2022-12-04T14:55:12.249Z"
   },
   {
    "duration": 0,
    "start_time": "2022-12-04T14:55:12.251Z"
   },
   {
    "duration": 601,
    "start_time": "2022-12-04T15:08:45.269Z"
   },
   {
    "duration": 403,
    "start_time": "2022-12-04T15:09:29.509Z"
   },
   {
    "duration": 392,
    "start_time": "2022-12-04T15:09:53.093Z"
   },
   {
    "duration": 12,
    "start_time": "2022-12-04T15:11:22.102Z"
   },
   {
    "duration": 290,
    "start_time": "2022-12-04T15:20:39.682Z"
   },
   {
    "duration": 6,
    "start_time": "2022-12-04T15:21:20.569Z"
   },
   {
    "duration": 22,
    "start_time": "2022-12-04T15:27:27.231Z"
   },
   {
    "duration": 5,
    "start_time": "2022-12-04T15:28:18.896Z"
   },
   {
    "duration": 4,
    "start_time": "2022-12-04T15:28:20.656Z"
   },
   {
    "duration": 16,
    "start_time": "2022-12-04T15:28:21.898Z"
   },
   {
    "duration": 4,
    "start_time": "2022-12-04T15:29:44.484Z"
   },
   {
    "duration": 5,
    "start_time": "2022-12-04T15:29:54.786Z"
   },
   {
    "duration": 4,
    "start_time": "2022-12-04T15:30:08.537Z"
   },
   {
    "duration": 20,
    "start_time": "2022-12-04T15:30:09.617Z"
   },
   {
    "duration": 6,
    "start_time": "2022-12-04T15:30:26.600Z"
   },
   {
    "duration": 2,
    "start_time": "2022-12-04T15:30:32.997Z"
   },
   {
    "duration": 6,
    "start_time": "2022-12-04T15:30:33.001Z"
   },
   {
    "duration": 6,
    "start_time": "2022-12-04T15:30:33.008Z"
   },
   {
    "duration": 6,
    "start_time": "2022-12-04T15:30:33.015Z"
   },
   {
    "duration": 14,
    "start_time": "2022-12-04T15:30:33.025Z"
   },
   {
    "duration": 80,
    "start_time": "2022-12-04T15:30:33.042Z"
   },
   {
    "duration": 23,
    "start_time": "2022-12-04T15:30:33.124Z"
   },
   {
    "duration": 7,
    "start_time": "2022-12-04T15:30:33.149Z"
   },
   {
    "duration": 31,
    "start_time": "2022-12-04T15:30:33.158Z"
   },
   {
    "duration": 34,
    "start_time": "2022-12-04T15:30:33.191Z"
   },
   {
    "duration": 9,
    "start_time": "2022-12-04T15:30:33.227Z"
   },
   {
    "duration": 26,
    "start_time": "2022-12-04T15:30:33.240Z"
   },
   {
    "duration": 7,
    "start_time": "2022-12-04T15:30:33.268Z"
   },
   {
    "duration": 9,
    "start_time": "2022-12-04T15:30:33.276Z"
   },
   {
    "duration": 8,
    "start_time": "2022-12-04T15:30:33.287Z"
   },
   {
    "duration": 4,
    "start_time": "2022-12-04T15:30:33.296Z"
   },
   {
    "duration": 25,
    "start_time": "2022-12-04T15:30:33.302Z"
   },
   {
    "duration": 6,
    "start_time": "2022-12-04T15:30:33.329Z"
   },
   {
    "duration": 16,
    "start_time": "2022-12-04T15:30:33.337Z"
   },
   {
    "duration": 11,
    "start_time": "2022-12-04T15:30:33.355Z"
   },
   {
    "duration": 8,
    "start_time": "2022-12-04T15:30:33.368Z"
   },
   {
    "duration": 51,
    "start_time": "2022-12-04T15:30:33.377Z"
   },
   {
    "duration": 438,
    "start_time": "2022-12-04T15:30:33.431Z"
   },
   {
    "duration": 13,
    "start_time": "2022-12-04T15:30:33.870Z"
   },
   {
    "duration": 7,
    "start_time": "2022-12-04T15:30:33.884Z"
   },
   {
    "duration": 465,
    "start_time": "2022-12-04T15:30:33.892Z"
   },
   {
    "duration": 19,
    "start_time": "2022-12-04T15:30:34.359Z"
   },
   {
    "duration": 11,
    "start_time": "2022-12-04T15:30:34.380Z"
   },
   {
    "duration": 156,
    "start_time": "2022-12-04T15:30:34.393Z"
   },
   {
    "duration": 149,
    "start_time": "2022-12-04T15:30:34.551Z"
   },
   {
    "duration": 267,
    "start_time": "2022-12-04T15:30:34.702Z"
   },
   {
    "duration": 141,
    "start_time": "2022-12-04T15:30:34.971Z"
   },
   {
    "duration": 168,
    "start_time": "2022-12-04T15:30:35.124Z"
   },
   {
    "duration": 172,
    "start_time": "2022-12-04T15:30:35.293Z"
   },
   {
    "duration": 192,
    "start_time": "2022-12-04T15:30:35.466Z"
   },
   {
    "duration": 190,
    "start_time": "2022-12-04T15:30:35.660Z"
   },
   {
    "duration": 153,
    "start_time": "2022-12-04T15:30:35.853Z"
   },
   {
    "duration": 187,
    "start_time": "2022-12-04T15:30:36.008Z"
   },
   {
    "duration": 28,
    "start_time": "2022-12-04T15:30:36.197Z"
   },
   {
    "duration": 656,
    "start_time": "2022-12-04T15:30:36.228Z"
   },
   {
    "duration": 161,
    "start_time": "2022-12-04T15:30:36.886Z"
   },
   {
    "duration": 11,
    "start_time": "2022-12-04T15:30:37.050Z"
   },
   {
    "duration": 160,
    "start_time": "2022-12-04T15:30:37.063Z"
   },
   {
    "duration": 7,
    "start_time": "2022-12-04T15:30:37.226Z"
   },
   {
    "duration": 20,
    "start_time": "2022-12-04T15:30:37.236Z"
   },
   {
    "duration": 8,
    "start_time": "2022-12-04T15:30:37.258Z"
   },
   {
    "duration": 186,
    "start_time": "2022-12-04T15:30:37.267Z"
   },
   {
    "duration": 10,
    "start_time": "2022-12-04T15:30:37.455Z"
   },
   {
    "duration": 158,
    "start_time": "2022-12-04T15:30:37.466Z"
   },
   {
    "duration": 155,
    "start_time": "2022-12-04T15:30:37.627Z"
   },
   {
    "duration": 10,
    "start_time": "2022-12-04T15:30:37.783Z"
   },
   {
    "duration": 160,
    "start_time": "2022-12-04T15:30:37.795Z"
   },
   {
    "duration": 45,
    "start_time": "2022-12-04T15:30:37.957Z"
   },
   {
    "duration": 734,
    "start_time": "2022-12-04T15:30:38.004Z"
   },
   {
    "duration": 563,
    "start_time": "2022-12-04T15:30:38.740Z"
   },
   {
    "duration": 346,
    "start_time": "2022-12-04T15:30:39.304Z"
   },
   {
    "duration": 353,
    "start_time": "2022-12-04T15:30:39.652Z"
   },
   {
    "duration": 354,
    "start_time": "2022-12-04T15:30:40.007Z"
   },
   {
    "duration": 12,
    "start_time": "2022-12-04T15:30:40.363Z"
   },
   {
    "duration": 20,
    "start_time": "2022-12-04T15:30:40.376Z"
   },
   {
    "duration": 11,
    "start_time": "2022-12-04T15:34:05.745Z"
   },
   {
    "duration": 16,
    "start_time": "2022-12-04T15:34:26.525Z"
   },
   {
    "duration": 10,
    "start_time": "2022-12-04T15:38:22.691Z"
   },
   {
    "duration": 17,
    "start_time": "2022-12-04T15:38:39.529Z"
   },
   {
    "duration": 14,
    "start_time": "2022-12-04T15:38:49.963Z"
   },
   {
    "duration": 12,
    "start_time": "2022-12-04T15:38:50.968Z"
   },
   {
    "duration": 550,
    "start_time": "2022-12-04T15:38:58.179Z"
   },
   {
    "duration": 309,
    "start_time": "2022-12-04T15:38:58.737Z"
   },
   {
    "duration": 647,
    "start_time": "2022-12-04T15:38:59.049Z"
   },
   {
    "duration": 3,
    "start_time": "2022-12-04T15:38:59.698Z"
   },
   {
    "duration": 15,
    "start_time": "2022-12-04T15:38:59.704Z"
   },
   {
    "duration": 148,
    "start_time": "2022-12-04T15:38:59.721Z"
   },
   {
    "duration": 22,
    "start_time": "2022-12-04T15:38:59.871Z"
   },
   {
    "duration": 8,
    "start_time": "2022-12-04T15:38:59.896Z"
   },
   {
    "duration": 51,
    "start_time": "2022-12-04T15:38:59.906Z"
   },
   {
    "duration": 6,
    "start_time": "2022-12-04T15:38:59.959Z"
   },
   {
    "duration": 5,
    "start_time": "2022-12-04T15:38:59.967Z"
   },
   {
    "duration": 28,
    "start_time": "2022-12-04T15:38:59.974Z"
   },
   {
    "duration": 23,
    "start_time": "2022-12-04T15:39:00.022Z"
   },
   {
    "duration": 9,
    "start_time": "2022-12-04T15:39:00.051Z"
   },
   {
    "duration": 19,
    "start_time": "2022-12-04T15:39:00.062Z"
   },
   {
    "duration": 10,
    "start_time": "2022-12-04T15:39:00.083Z"
   },
   {
    "duration": 13,
    "start_time": "2022-12-04T15:39:00.096Z"
   },
   {
    "duration": 26,
    "start_time": "2022-12-04T15:39:00.111Z"
   },
   {
    "duration": 20,
    "start_time": "2022-12-04T15:39:00.143Z"
   },
   {
    "duration": 32,
    "start_time": "2022-12-04T15:39:00.165Z"
   },
   {
    "duration": 509,
    "start_time": "2022-12-04T15:39:00.199Z"
   },
   {
    "duration": 29,
    "start_time": "2022-12-04T15:39:00.710Z"
   },
   {
    "duration": 24,
    "start_time": "2022-12-04T15:39:00.741Z"
   },
   {
    "duration": 449,
    "start_time": "2022-12-04T15:39:00.767Z"
   },
   {
    "duration": 26,
    "start_time": "2022-12-04T15:39:01.218Z"
   },
   {
    "duration": 4,
    "start_time": "2022-12-04T15:39:01.247Z"
   },
   {
    "duration": 205,
    "start_time": "2022-12-04T15:39:01.252Z"
   },
   {
    "duration": 218,
    "start_time": "2022-12-04T15:39:01.459Z"
   },
   {
    "duration": 183,
    "start_time": "2022-12-04T15:39:01.679Z"
   },
   {
    "duration": 152,
    "start_time": "2022-12-04T15:39:01.864Z"
   },
   {
    "duration": 183,
    "start_time": "2022-12-04T15:39:02.018Z"
   },
   {
    "duration": 259,
    "start_time": "2022-12-04T15:39:02.202Z"
   },
   {
    "duration": 191,
    "start_time": "2022-12-04T15:39:02.462Z"
   },
   {
    "duration": 159,
    "start_time": "2022-12-04T15:39:02.656Z"
   },
   {
    "duration": 245,
    "start_time": "2022-12-04T15:39:02.823Z"
   },
   {
    "duration": 188,
    "start_time": "2022-12-04T15:39:03.070Z"
   },
   {
    "duration": 18,
    "start_time": "2022-12-04T15:39:03.260Z"
   },
   {
    "duration": 795,
    "start_time": "2022-12-04T15:39:03.280Z"
   },
   {
    "duration": 206,
    "start_time": "2022-12-04T15:39:04.077Z"
   },
   {
    "duration": 14,
    "start_time": "2022-12-04T15:39:04.286Z"
   },
   {
    "duration": 253,
    "start_time": "2022-12-04T15:39:04.305Z"
   },
   {
    "duration": 382,
    "start_time": "2022-12-04T15:39:04.561Z"
   },
   {
    "duration": 0,
    "start_time": "2022-12-04T15:39:04.946Z"
   },
   {
    "duration": 0,
    "start_time": "2022-12-04T15:39:04.947Z"
   },
   {
    "duration": 0,
    "start_time": "2022-12-04T15:39:04.951Z"
   },
   {
    "duration": 0,
    "start_time": "2022-12-04T15:39:04.953Z"
   },
   {
    "duration": 0,
    "start_time": "2022-12-04T15:39:04.955Z"
   },
   {
    "duration": 0,
    "start_time": "2022-12-04T15:39:04.957Z"
   },
   {
    "duration": 0,
    "start_time": "2022-12-04T15:39:04.959Z"
   },
   {
    "duration": 0,
    "start_time": "2022-12-04T15:39:04.961Z"
   },
   {
    "duration": 0,
    "start_time": "2022-12-04T15:39:04.962Z"
   },
   {
    "duration": 0,
    "start_time": "2022-12-04T15:39:04.964Z"
   },
   {
    "duration": 0,
    "start_time": "2022-12-04T15:39:04.965Z"
   },
   {
    "duration": 0,
    "start_time": "2022-12-04T15:39:04.966Z"
   },
   {
    "duration": 0,
    "start_time": "2022-12-04T15:39:04.967Z"
   },
   {
    "duration": 0,
    "start_time": "2022-12-04T15:39:04.969Z"
   },
   {
    "duration": 0,
    "start_time": "2022-12-04T15:39:04.971Z"
   },
   {
    "duration": 0,
    "start_time": "2022-12-04T15:39:04.972Z"
   },
   {
    "duration": 0,
    "start_time": "2022-12-04T15:39:04.974Z"
   },
   {
    "duration": 10,
    "start_time": "2022-12-04T15:47:27.641Z"
   },
   {
    "duration": 9,
    "start_time": "2022-12-04T15:47:57.703Z"
   },
   {
    "duration": 431,
    "start_time": "2022-12-04T15:48:07.977Z"
   },
   {
    "duration": 276,
    "start_time": "2022-12-04T15:48:08.410Z"
   },
   {
    "duration": 587,
    "start_time": "2022-12-04T15:48:08.687Z"
   },
   {
    "duration": 2,
    "start_time": "2022-12-04T15:48:09.276Z"
   },
   {
    "duration": 13,
    "start_time": "2022-12-04T15:48:09.280Z"
   },
   {
    "duration": 103,
    "start_time": "2022-12-04T15:48:09.295Z"
   },
   {
    "duration": 14,
    "start_time": "2022-12-04T15:48:09.400Z"
   },
   {
    "duration": 30,
    "start_time": "2022-12-04T15:48:09.416Z"
   },
   {
    "duration": 31,
    "start_time": "2022-12-04T15:48:09.449Z"
   },
   {
    "duration": 18,
    "start_time": "2022-12-04T15:48:09.482Z"
   },
   {
    "duration": 38,
    "start_time": "2022-12-04T15:48:09.501Z"
   },
   {
    "duration": 34,
    "start_time": "2022-12-04T15:48:09.542Z"
   },
   {
    "duration": 21,
    "start_time": "2022-12-04T15:48:09.577Z"
   },
   {
    "duration": 425,
    "start_time": "2022-12-04T15:48:09.600Z"
   },
   {
    "duration": 0,
    "start_time": "2022-12-04T15:48:10.029Z"
   },
   {
    "duration": 0,
    "start_time": "2022-12-04T15:48:10.030Z"
   },
   {
    "duration": 1,
    "start_time": "2022-12-04T15:48:10.031Z"
   },
   {
    "duration": 0,
    "start_time": "2022-12-04T15:48:10.033Z"
   },
   {
    "duration": 0,
    "start_time": "2022-12-04T15:48:10.034Z"
   },
   {
    "duration": 0,
    "start_time": "2022-12-04T15:48:10.035Z"
   },
   {
    "duration": 0,
    "start_time": "2022-12-04T15:48:10.036Z"
   },
   {
    "duration": 0,
    "start_time": "2022-12-04T15:48:10.038Z"
   },
   {
    "duration": 0,
    "start_time": "2022-12-04T15:48:10.039Z"
   },
   {
    "duration": 0,
    "start_time": "2022-12-04T15:48:10.040Z"
   },
   {
    "duration": 0,
    "start_time": "2022-12-04T15:48:10.041Z"
   },
   {
    "duration": 0,
    "start_time": "2022-12-04T15:48:10.042Z"
   },
   {
    "duration": 0,
    "start_time": "2022-12-04T15:48:10.044Z"
   },
   {
    "duration": 0,
    "start_time": "2022-12-04T15:48:10.045Z"
   },
   {
    "duration": 0,
    "start_time": "2022-12-04T15:48:10.045Z"
   },
   {
    "duration": 0,
    "start_time": "2022-12-04T15:48:10.047Z"
   },
   {
    "duration": 0,
    "start_time": "2022-12-04T15:48:10.052Z"
   },
   {
    "duration": 0,
    "start_time": "2022-12-04T15:48:10.054Z"
   },
   {
    "duration": 0,
    "start_time": "2022-12-04T15:48:10.056Z"
   },
   {
    "duration": 0,
    "start_time": "2022-12-04T15:48:10.058Z"
   },
   {
    "duration": 0,
    "start_time": "2022-12-04T15:48:10.060Z"
   },
   {
    "duration": 0,
    "start_time": "2022-12-04T15:48:10.062Z"
   },
   {
    "duration": 0,
    "start_time": "2022-12-04T15:48:10.064Z"
   },
   {
    "duration": 0,
    "start_time": "2022-12-04T15:48:10.065Z"
   },
   {
    "duration": 0,
    "start_time": "2022-12-04T15:48:10.067Z"
   },
   {
    "duration": 0,
    "start_time": "2022-12-04T15:48:10.068Z"
   },
   {
    "duration": 0,
    "start_time": "2022-12-04T15:48:10.123Z"
   },
   {
    "duration": 0,
    "start_time": "2022-12-04T15:48:10.125Z"
   },
   {
    "duration": 0,
    "start_time": "2022-12-04T15:48:10.127Z"
   },
   {
    "duration": 0,
    "start_time": "2022-12-04T15:48:10.128Z"
   },
   {
    "duration": 0,
    "start_time": "2022-12-04T15:48:10.130Z"
   },
   {
    "duration": 0,
    "start_time": "2022-12-04T15:48:10.131Z"
   },
   {
    "duration": 0,
    "start_time": "2022-12-04T15:48:10.134Z"
   },
   {
    "duration": 0,
    "start_time": "2022-12-04T15:48:10.138Z"
   },
   {
    "duration": 0,
    "start_time": "2022-12-04T15:48:10.140Z"
   },
   {
    "duration": 0,
    "start_time": "2022-12-04T15:48:10.144Z"
   },
   {
    "duration": 0,
    "start_time": "2022-12-04T15:48:10.146Z"
   },
   {
    "duration": 0,
    "start_time": "2022-12-04T15:48:10.147Z"
   },
   {
    "duration": 0,
    "start_time": "2022-12-04T15:48:10.148Z"
   },
   {
    "duration": 0,
    "start_time": "2022-12-04T15:48:10.149Z"
   },
   {
    "duration": 0,
    "start_time": "2022-12-04T15:48:10.151Z"
   },
   {
    "duration": 0,
    "start_time": "2022-12-04T15:48:10.151Z"
   },
   {
    "duration": 0,
    "start_time": "2022-12-04T15:48:10.152Z"
   },
   {
    "duration": 0,
    "start_time": "2022-12-04T15:48:10.154Z"
   },
   {
    "duration": 0,
    "start_time": "2022-12-04T15:48:10.155Z"
   },
   {
    "duration": 0,
    "start_time": "2022-12-04T15:48:10.156Z"
   },
   {
    "duration": 0,
    "start_time": "2022-12-04T15:48:10.157Z"
   },
   {
    "duration": 0,
    "start_time": "2022-12-04T15:48:10.158Z"
   },
   {
    "duration": 3,
    "start_time": "2022-12-04T15:48:15.726Z"
   },
   {
    "duration": 10,
    "start_time": "2022-12-04T15:48:15.731Z"
   },
   {
    "duration": 5,
    "start_time": "2022-12-04T15:48:15.743Z"
   },
   {
    "duration": 15,
    "start_time": "2022-12-04T15:48:15.750Z"
   },
   {
    "duration": 6,
    "start_time": "2022-12-04T15:48:15.767Z"
   },
   {
    "duration": 90,
    "start_time": "2022-12-04T15:48:15.775Z"
   },
   {
    "duration": 17,
    "start_time": "2022-12-04T15:48:15.868Z"
   },
   {
    "duration": 6,
    "start_time": "2022-12-04T15:48:15.887Z"
   },
   {
    "duration": 56,
    "start_time": "2022-12-04T15:48:15.896Z"
   },
   {
    "duration": 5,
    "start_time": "2022-12-04T15:48:15.954Z"
   },
   {
    "duration": 5,
    "start_time": "2022-12-04T15:48:15.960Z"
   },
   {
    "duration": 19,
    "start_time": "2022-12-04T15:48:15.967Z"
   },
   {
    "duration": 8,
    "start_time": "2022-12-04T15:48:15.988Z"
   },
   {
    "duration": 373,
    "start_time": "2022-12-04T15:48:15.997Z"
   },
   {
    "duration": 0,
    "start_time": "2022-12-04T15:48:16.372Z"
   },
   {
    "duration": 0,
    "start_time": "2022-12-04T15:48:16.374Z"
   },
   {
    "duration": 0,
    "start_time": "2022-12-04T15:48:16.377Z"
   },
   {
    "duration": 0,
    "start_time": "2022-12-04T15:48:16.378Z"
   },
   {
    "duration": 0,
    "start_time": "2022-12-04T15:48:16.379Z"
   },
   {
    "duration": 0,
    "start_time": "2022-12-04T15:48:16.381Z"
   },
   {
    "duration": 0,
    "start_time": "2022-12-04T15:48:16.382Z"
   },
   {
    "duration": 0,
    "start_time": "2022-12-04T15:48:16.383Z"
   },
   {
    "duration": 0,
    "start_time": "2022-12-04T15:48:16.384Z"
   },
   {
    "duration": 0,
    "start_time": "2022-12-04T15:48:16.385Z"
   },
   {
    "duration": 0,
    "start_time": "2022-12-04T15:48:16.386Z"
   },
   {
    "duration": 0,
    "start_time": "2022-12-04T15:48:16.387Z"
   },
   {
    "duration": 0,
    "start_time": "2022-12-04T15:48:16.388Z"
   },
   {
    "duration": 0,
    "start_time": "2022-12-04T15:48:16.389Z"
   },
   {
    "duration": 0,
    "start_time": "2022-12-04T15:48:16.390Z"
   },
   {
    "duration": 0,
    "start_time": "2022-12-04T15:48:16.392Z"
   },
   {
    "duration": 0,
    "start_time": "2022-12-04T15:48:16.392Z"
   },
   {
    "duration": 0,
    "start_time": "2022-12-04T15:48:16.394Z"
   },
   {
    "duration": 0,
    "start_time": "2022-12-04T15:48:16.395Z"
   },
   {
    "duration": 0,
    "start_time": "2022-12-04T15:48:16.396Z"
   },
   {
    "duration": 0,
    "start_time": "2022-12-04T15:48:16.397Z"
   },
   {
    "duration": 0,
    "start_time": "2022-12-04T15:48:16.398Z"
   },
   {
    "duration": 0,
    "start_time": "2022-12-04T15:48:16.399Z"
   },
   {
    "duration": 0,
    "start_time": "2022-12-04T15:48:16.400Z"
   },
   {
    "duration": 0,
    "start_time": "2022-12-04T15:48:16.401Z"
   },
   {
    "duration": 0,
    "start_time": "2022-12-04T15:48:16.402Z"
   },
   {
    "duration": 0,
    "start_time": "2022-12-04T15:48:16.403Z"
   },
   {
    "duration": 0,
    "start_time": "2022-12-04T15:48:16.404Z"
   },
   {
    "duration": 0,
    "start_time": "2022-12-04T15:48:16.405Z"
   },
   {
    "duration": 0,
    "start_time": "2022-12-04T15:48:16.406Z"
   },
   {
    "duration": 0,
    "start_time": "2022-12-04T15:48:16.407Z"
   },
   {
    "duration": 0,
    "start_time": "2022-12-04T15:48:16.408Z"
   },
   {
    "duration": 0,
    "start_time": "2022-12-04T15:48:16.408Z"
   },
   {
    "duration": 0,
    "start_time": "2022-12-04T15:48:16.410Z"
   },
   {
    "duration": 0,
    "start_time": "2022-12-04T15:48:16.411Z"
   },
   {
    "duration": 0,
    "start_time": "2022-12-04T15:48:16.427Z"
   },
   {
    "duration": 0,
    "start_time": "2022-12-04T15:48:16.429Z"
   },
   {
    "duration": 0,
    "start_time": "2022-12-04T15:48:16.430Z"
   },
   {
    "duration": 0,
    "start_time": "2022-12-04T15:48:16.432Z"
   },
   {
    "duration": 0,
    "start_time": "2022-12-04T15:48:16.434Z"
   },
   {
    "duration": 0,
    "start_time": "2022-12-04T15:48:16.435Z"
   },
   {
    "duration": 0,
    "start_time": "2022-12-04T15:48:16.437Z"
   },
   {
    "duration": 0,
    "start_time": "2022-12-04T15:48:16.438Z"
   },
   {
    "duration": 0,
    "start_time": "2022-12-04T15:48:16.440Z"
   },
   {
    "duration": 0,
    "start_time": "2022-12-04T15:48:16.442Z"
   },
   {
    "duration": 0,
    "start_time": "2022-12-04T15:48:16.444Z"
   },
   {
    "duration": 0,
    "start_time": "2022-12-04T15:48:16.445Z"
   },
   {
    "duration": 0,
    "start_time": "2022-12-04T15:48:16.449Z"
   },
   {
    "duration": 19,
    "start_time": "2022-12-04T15:49:05.394Z"
   },
   {
    "duration": 9,
    "start_time": "2022-12-04T15:49:10.122Z"
   },
   {
    "duration": 5,
    "start_time": "2022-12-04T15:49:36.178Z"
   },
   {
    "duration": 5,
    "start_time": "2022-12-04T15:49:37.667Z"
   },
   {
    "duration": 7,
    "start_time": "2022-12-04T15:49:41.395Z"
   },
   {
    "duration": 5,
    "start_time": "2022-12-04T15:49:59.948Z"
   },
   {
    "duration": 6,
    "start_time": "2022-12-04T15:50:01.044Z"
   },
   {
    "duration": 7,
    "start_time": "2022-12-04T15:50:04.285Z"
   },
   {
    "duration": 6,
    "start_time": "2022-12-04T15:50:05.103Z"
   },
   {
    "duration": 6,
    "start_time": "2022-12-04T15:50:11.266Z"
   },
   {
    "duration": 4,
    "start_time": "2022-12-04T15:50:14.487Z"
   },
   {
    "duration": 10,
    "start_time": "2022-12-04T15:50:14.493Z"
   },
   {
    "duration": 22,
    "start_time": "2022-12-04T15:50:14.505Z"
   },
   {
    "duration": 20,
    "start_time": "2022-12-04T15:50:14.529Z"
   },
   {
    "duration": 9,
    "start_time": "2022-12-04T15:50:14.551Z"
   },
   {
    "duration": 85,
    "start_time": "2022-12-04T15:50:14.561Z"
   },
   {
    "duration": 14,
    "start_time": "2022-12-04T15:50:14.648Z"
   },
   {
    "duration": 7,
    "start_time": "2022-12-04T15:50:14.663Z"
   },
   {
    "duration": 51,
    "start_time": "2022-12-04T15:50:14.672Z"
   },
   {
    "duration": 11,
    "start_time": "2022-12-04T15:50:14.726Z"
   },
   {
    "duration": 10,
    "start_time": "2022-12-04T15:50:14.740Z"
   },
   {
    "duration": 20,
    "start_time": "2022-12-04T15:50:14.752Z"
   },
   {
    "duration": 11,
    "start_time": "2022-12-04T15:50:14.774Z"
   },
   {
    "duration": 9,
    "start_time": "2022-12-04T15:50:14.788Z"
   },
   {
    "duration": 30,
    "start_time": "2022-12-04T15:50:14.799Z"
   },
   {
    "duration": 15,
    "start_time": "2022-12-04T15:50:14.833Z"
   },
   {
    "duration": 6,
    "start_time": "2022-12-04T15:50:14.851Z"
   },
   {
    "duration": 13,
    "start_time": "2022-12-04T15:50:14.859Z"
   },
   {
    "duration": 9,
    "start_time": "2022-12-04T15:50:14.874Z"
   },
   {
    "duration": 11,
    "start_time": "2022-12-04T15:50:14.885Z"
   },
   {
    "duration": 40,
    "start_time": "2022-12-04T15:50:14.898Z"
   },
   {
    "duration": 19,
    "start_time": "2022-12-04T15:50:14.941Z"
   },
   {
    "duration": 55,
    "start_time": "2022-12-04T15:50:14.962Z"
   },
   {
    "duration": 491,
    "start_time": "2022-12-04T15:50:15.024Z"
   },
   {
    "duration": 27,
    "start_time": "2022-12-04T15:50:15.517Z"
   },
   {
    "duration": 16,
    "start_time": "2022-12-04T15:50:15.546Z"
   },
   {
    "duration": 488,
    "start_time": "2022-12-04T15:50:15.564Z"
   },
   {
    "duration": 27,
    "start_time": "2022-12-04T15:50:16.054Z"
   },
   {
    "duration": 5,
    "start_time": "2022-12-04T15:50:16.084Z"
   },
   {
    "duration": 195,
    "start_time": "2022-12-04T15:50:16.092Z"
   },
   {
    "duration": 178,
    "start_time": "2022-12-04T15:50:16.289Z"
   },
   {
    "duration": 214,
    "start_time": "2022-12-04T15:50:16.469Z"
   },
   {
    "duration": 163,
    "start_time": "2022-12-04T15:50:16.685Z"
   },
   {
    "duration": 246,
    "start_time": "2022-12-04T15:50:16.850Z"
   },
   {
    "duration": 175,
    "start_time": "2022-12-04T15:50:17.098Z"
   },
   {
    "duration": 203,
    "start_time": "2022-12-04T15:50:17.275Z"
   },
   {
    "duration": 205,
    "start_time": "2022-12-04T15:50:17.481Z"
   },
   {
    "duration": 194,
    "start_time": "2022-12-04T15:50:17.688Z"
   },
   {
    "duration": 196,
    "start_time": "2022-12-04T15:50:17.886Z"
   },
   {
    "duration": 39,
    "start_time": "2022-12-04T15:50:18.085Z"
   },
   {
    "duration": 715,
    "start_time": "2022-12-04T15:50:18.132Z"
   },
   {
    "duration": 199,
    "start_time": "2022-12-04T15:50:18.850Z"
   },
   {
    "duration": 13,
    "start_time": "2022-12-04T15:50:19.052Z"
   },
   {
    "duration": 319,
    "start_time": "2022-12-04T15:50:19.068Z"
   },
   {
    "duration": 260,
    "start_time": "2022-12-04T15:50:19.388Z"
   },
   {
    "duration": 0,
    "start_time": "2022-12-04T15:50:19.651Z"
   },
   {
    "duration": 0,
    "start_time": "2022-12-04T15:50:19.653Z"
   },
   {
    "duration": 0,
    "start_time": "2022-12-04T15:50:19.655Z"
   },
   {
    "duration": 0,
    "start_time": "2022-12-04T15:50:19.657Z"
   },
   {
    "duration": 0,
    "start_time": "2022-12-04T15:50:19.659Z"
   },
   {
    "duration": 0,
    "start_time": "2022-12-04T15:50:19.660Z"
   },
   {
    "duration": 0,
    "start_time": "2022-12-04T15:50:19.662Z"
   },
   {
    "duration": 0,
    "start_time": "2022-12-04T15:50:19.664Z"
   },
   {
    "duration": 0,
    "start_time": "2022-12-04T15:50:19.666Z"
   },
   {
    "duration": 0,
    "start_time": "2022-12-04T15:50:19.667Z"
   },
   {
    "duration": 0,
    "start_time": "2022-12-04T15:50:19.669Z"
   },
   {
    "duration": 0,
    "start_time": "2022-12-04T15:50:19.671Z"
   },
   {
    "duration": 0,
    "start_time": "2022-12-04T15:50:19.672Z"
   },
   {
    "duration": 0,
    "start_time": "2022-12-04T15:50:19.674Z"
   },
   {
    "duration": 0,
    "start_time": "2022-12-04T15:50:19.675Z"
   },
   {
    "duration": 0,
    "start_time": "2022-12-04T15:50:19.677Z"
   },
   {
    "duration": 0,
    "start_time": "2022-12-04T15:50:19.678Z"
   },
   {
    "duration": 17,
    "start_time": "2022-12-04T15:51:40.051Z"
   },
   {
    "duration": 21,
    "start_time": "2022-12-04T15:51:59.391Z"
   },
   {
    "duration": 4,
    "start_time": "2022-12-04T15:52:35.547Z"
   },
   {
    "duration": 5,
    "start_time": "2022-12-04T15:52:37.124Z"
   },
   {
    "duration": 5,
    "start_time": "2022-12-04T15:52:40.923Z"
   },
   {
    "duration": 3,
    "start_time": "2022-12-04T15:52:45.404Z"
   },
   {
    "duration": 31,
    "start_time": "2022-12-04T15:52:45.409Z"
   },
   {
    "duration": 22,
    "start_time": "2022-12-04T15:52:45.442Z"
   },
   {
    "duration": 36,
    "start_time": "2022-12-04T15:52:45.466Z"
   },
   {
    "duration": 34,
    "start_time": "2022-12-04T15:52:45.503Z"
   },
   {
    "duration": 82,
    "start_time": "2022-12-04T15:52:45.538Z"
   },
   {
    "duration": 13,
    "start_time": "2022-12-04T15:52:45.622Z"
   },
   {
    "duration": 37,
    "start_time": "2022-12-04T15:52:45.637Z"
   },
   {
    "duration": 59,
    "start_time": "2022-12-04T15:52:45.676Z"
   },
   {
    "duration": 4,
    "start_time": "2022-12-04T15:52:45.739Z"
   },
   {
    "duration": 32,
    "start_time": "2022-12-04T15:52:45.745Z"
   },
   {
    "duration": 49,
    "start_time": "2022-12-04T15:52:45.779Z"
   },
   {
    "duration": 53,
    "start_time": "2022-12-04T15:52:45.829Z"
   },
   {
    "duration": 32,
    "start_time": "2022-12-04T15:52:45.884Z"
   },
   {
    "duration": 32,
    "start_time": "2022-12-04T15:52:45.917Z"
   },
   {
    "duration": 27,
    "start_time": "2022-12-04T15:52:45.951Z"
   },
   {
    "duration": 34,
    "start_time": "2022-12-04T15:52:45.979Z"
   },
   {
    "duration": 31,
    "start_time": "2022-12-04T15:52:46.015Z"
   },
   {
    "duration": 16,
    "start_time": "2022-12-04T15:52:46.047Z"
   },
   {
    "duration": 16,
    "start_time": "2022-12-04T15:52:46.065Z"
   },
   {
    "duration": 28,
    "start_time": "2022-12-04T15:52:46.083Z"
   },
   {
    "duration": 15,
    "start_time": "2022-12-04T15:52:46.113Z"
   },
   {
    "duration": 61,
    "start_time": "2022-12-04T15:52:46.129Z"
   },
   {
    "duration": 377,
    "start_time": "2022-12-04T15:52:46.192Z"
   },
   {
    "duration": 11,
    "start_time": "2022-12-04T15:52:46.571Z"
   },
   {
    "duration": 40,
    "start_time": "2022-12-04T15:52:46.583Z"
   },
   {
    "duration": 341,
    "start_time": "2022-12-04T15:52:46.625Z"
   },
   {
    "duration": 16,
    "start_time": "2022-12-04T15:52:46.970Z"
   },
   {
    "duration": 6,
    "start_time": "2022-12-04T15:52:46.988Z"
   },
   {
    "duration": 154,
    "start_time": "2022-12-04T15:52:46.995Z"
   },
   {
    "duration": 144,
    "start_time": "2022-12-04T15:52:47.150Z"
   },
   {
    "duration": 151,
    "start_time": "2022-12-04T15:52:47.296Z"
   },
   {
    "duration": 150,
    "start_time": "2022-12-04T15:52:47.449Z"
   },
   {
    "duration": 150,
    "start_time": "2022-12-04T15:52:47.600Z"
   },
   {
    "duration": 162,
    "start_time": "2022-12-04T15:52:47.751Z"
   },
   {
    "duration": 163,
    "start_time": "2022-12-04T15:52:47.922Z"
   },
   {
    "duration": 146,
    "start_time": "2022-12-04T15:52:48.087Z"
   },
   {
    "duration": 144,
    "start_time": "2022-12-04T15:52:48.235Z"
   },
   {
    "duration": 159,
    "start_time": "2022-12-04T15:52:48.381Z"
   },
   {
    "duration": 17,
    "start_time": "2022-12-04T15:52:48.541Z"
   },
   {
    "duration": 880,
    "start_time": "2022-12-04T15:52:48.559Z"
   },
   {
    "duration": 150,
    "start_time": "2022-12-04T15:52:49.441Z"
   },
   {
    "duration": 10,
    "start_time": "2022-12-04T15:52:49.592Z"
   },
   {
    "duration": 152,
    "start_time": "2022-12-04T15:52:49.604Z"
   },
   {
    "duration": 247,
    "start_time": "2022-12-04T15:52:49.758Z"
   },
   {
    "duration": 0,
    "start_time": "2022-12-04T15:52:50.006Z"
   },
   {
    "duration": 0,
    "start_time": "2022-12-04T15:52:50.008Z"
   },
   {
    "duration": 0,
    "start_time": "2022-12-04T15:52:50.009Z"
   },
   {
    "duration": 1,
    "start_time": "2022-12-04T15:52:50.009Z"
   },
   {
    "duration": 0,
    "start_time": "2022-12-04T15:52:50.011Z"
   },
   {
    "duration": 0,
    "start_time": "2022-12-04T15:52:50.012Z"
   },
   {
    "duration": 0,
    "start_time": "2022-12-04T15:52:50.013Z"
   },
   {
    "duration": 0,
    "start_time": "2022-12-04T15:52:50.014Z"
   },
   {
    "duration": 0,
    "start_time": "2022-12-04T15:52:50.015Z"
   },
   {
    "duration": 0,
    "start_time": "2022-12-04T15:52:50.016Z"
   },
   {
    "duration": 0,
    "start_time": "2022-12-04T15:52:50.017Z"
   },
   {
    "duration": 0,
    "start_time": "2022-12-04T15:52:50.018Z"
   },
   {
    "duration": 0,
    "start_time": "2022-12-04T15:52:50.020Z"
   },
   {
    "duration": 0,
    "start_time": "2022-12-04T15:52:50.021Z"
   },
   {
    "duration": 0,
    "start_time": "2022-12-04T15:52:50.023Z"
   },
   {
    "duration": 0,
    "start_time": "2022-12-04T15:52:50.024Z"
   },
   {
    "duration": 0,
    "start_time": "2022-12-04T15:52:50.025Z"
   },
   {
    "duration": 271,
    "start_time": "2022-12-04T15:53:03.945Z"
   },
   {
    "duration": 424,
    "start_time": "2022-12-04T15:53:14.894Z"
   },
   {
    "duration": 236,
    "start_time": "2022-12-04T15:53:15.321Z"
   },
   {
    "duration": 497,
    "start_time": "2022-12-04T15:53:15.559Z"
   },
   {
    "duration": 2,
    "start_time": "2022-12-04T15:53:16.059Z"
   },
   {
    "duration": 6,
    "start_time": "2022-12-04T15:53:16.062Z"
   },
   {
    "duration": 73,
    "start_time": "2022-12-04T15:53:16.069Z"
   },
   {
    "duration": 13,
    "start_time": "2022-12-04T15:53:16.143Z"
   },
   {
    "duration": 4,
    "start_time": "2022-12-04T15:53:16.158Z"
   },
   {
    "duration": 30,
    "start_time": "2022-12-04T15:53:16.164Z"
   },
   {
    "duration": 26,
    "start_time": "2022-12-04T15:53:16.197Z"
   },
   {
    "duration": 3,
    "start_time": "2022-12-04T15:53:16.225Z"
   },
   {
    "duration": 19,
    "start_time": "2022-12-04T15:53:16.229Z"
   },
   {
    "duration": 7,
    "start_time": "2022-12-04T15:53:16.250Z"
   },
   {
    "duration": 6,
    "start_time": "2022-12-04T15:53:16.259Z"
   },
   {
    "duration": 4,
    "start_time": "2022-12-04T15:53:16.267Z"
   },
   {
    "duration": 7,
    "start_time": "2022-12-04T15:53:16.272Z"
   },
   {
    "duration": 5,
    "start_time": "2022-12-04T15:53:16.280Z"
   },
   {
    "duration": 11,
    "start_time": "2022-12-04T15:53:16.286Z"
   },
   {
    "duration": 4,
    "start_time": "2022-12-04T15:53:16.322Z"
   },
   {
    "duration": 13,
    "start_time": "2022-12-04T15:53:16.328Z"
   },
   {
    "duration": 17,
    "start_time": "2022-12-04T15:53:16.343Z"
   },
   {
    "duration": 6,
    "start_time": "2022-12-04T15:53:16.362Z"
   },
   {
    "duration": 30,
    "start_time": "2022-12-04T15:53:16.370Z"
   },
   {
    "duration": 413,
    "start_time": "2022-12-04T15:53:16.401Z"
   },
   {
    "duration": 15,
    "start_time": "2022-12-04T15:53:16.816Z"
   },
   {
    "duration": 7,
    "start_time": "2022-12-04T15:53:16.832Z"
   },
   {
    "duration": 379,
    "start_time": "2022-12-04T15:53:16.841Z"
   },
   {
    "duration": 16,
    "start_time": "2022-12-04T15:53:17.223Z"
   },
   {
    "duration": 5,
    "start_time": "2022-12-04T15:53:17.240Z"
   },
   {
    "duration": 143,
    "start_time": "2022-12-04T15:53:17.246Z"
   },
   {
    "duration": 149,
    "start_time": "2022-12-04T15:53:17.391Z"
   },
   {
    "duration": 147,
    "start_time": "2022-12-04T15:53:17.541Z"
   },
   {
    "duration": 135,
    "start_time": "2022-12-04T15:53:17.690Z"
   },
   {
    "duration": 148,
    "start_time": "2022-12-04T15:53:17.827Z"
   },
   {
    "duration": 225,
    "start_time": "2022-12-04T15:53:17.977Z"
   },
   {
    "duration": 152,
    "start_time": "2022-12-04T15:53:18.204Z"
   },
   {
    "duration": 135,
    "start_time": "2022-12-04T15:53:18.357Z"
   },
   {
    "duration": 135,
    "start_time": "2022-12-04T15:53:18.494Z"
   },
   {
    "duration": 150,
    "start_time": "2022-12-04T15:53:18.630Z"
   },
   {
    "duration": 15,
    "start_time": "2022-12-04T15:53:18.782Z"
   },
   {
    "duration": 670,
    "start_time": "2022-12-04T15:53:18.799Z"
   },
   {
    "duration": 171,
    "start_time": "2022-12-04T15:53:19.471Z"
   },
   {
    "duration": 10,
    "start_time": "2022-12-04T15:53:19.644Z"
   },
   {
    "duration": 152,
    "start_time": "2022-12-04T15:53:19.655Z"
   },
   {
    "duration": 355,
    "start_time": "2022-12-04T15:53:19.809Z"
   },
   {
    "duration": 0,
    "start_time": "2022-12-04T15:53:20.166Z"
   },
   {
    "duration": 0,
    "start_time": "2022-12-04T15:53:20.167Z"
   },
   {
    "duration": 0,
    "start_time": "2022-12-04T15:53:20.169Z"
   },
   {
    "duration": 0,
    "start_time": "2022-12-04T15:53:20.170Z"
   },
   {
    "duration": 0,
    "start_time": "2022-12-04T15:53:20.172Z"
   },
   {
    "duration": 0,
    "start_time": "2022-12-04T15:53:20.173Z"
   },
   {
    "duration": 0,
    "start_time": "2022-12-04T15:53:20.174Z"
   },
   {
    "duration": 0,
    "start_time": "2022-12-04T15:53:20.176Z"
   },
   {
    "duration": 0,
    "start_time": "2022-12-04T15:53:20.177Z"
   },
   {
    "duration": 0,
    "start_time": "2022-12-04T15:53:20.179Z"
   },
   {
    "duration": 0,
    "start_time": "2022-12-04T15:53:20.180Z"
   },
   {
    "duration": 0,
    "start_time": "2022-12-04T15:53:20.181Z"
   },
   {
    "duration": 0,
    "start_time": "2022-12-04T15:53:20.183Z"
   },
   {
    "duration": 0,
    "start_time": "2022-12-04T15:53:20.184Z"
   },
   {
    "duration": 0,
    "start_time": "2022-12-04T15:53:20.185Z"
   },
   {
    "duration": 0,
    "start_time": "2022-12-04T15:53:20.186Z"
   },
   {
    "duration": 0,
    "start_time": "2022-12-04T15:53:20.187Z"
   },
   {
    "duration": 3,
    "start_time": "2022-12-04T15:54:18.532Z"
   },
   {
    "duration": 6,
    "start_time": "2022-12-04T15:54:18.537Z"
   },
   {
    "duration": 6,
    "start_time": "2022-12-04T15:54:18.545Z"
   },
   {
    "duration": 8,
    "start_time": "2022-12-04T15:54:18.552Z"
   },
   {
    "duration": 6,
    "start_time": "2022-12-04T15:54:18.562Z"
   },
   {
    "duration": 72,
    "start_time": "2022-12-04T15:54:18.570Z"
   },
   {
    "duration": 12,
    "start_time": "2022-12-04T15:54:18.644Z"
   },
   {
    "duration": 4,
    "start_time": "2022-12-04T15:54:18.658Z"
   },
   {
    "duration": 138,
    "start_time": "2022-12-04T15:54:18.664Z"
   },
   {
    "duration": 4,
    "start_time": "2022-12-04T15:54:18.803Z"
   },
   {
    "duration": 16,
    "start_time": "2022-12-04T15:54:18.809Z"
   },
   {
    "duration": 19,
    "start_time": "2022-12-04T15:54:18.826Z"
   },
   {
    "duration": 8,
    "start_time": "2022-12-04T15:54:18.847Z"
   },
   {
    "duration": 6,
    "start_time": "2022-12-04T15:54:18.856Z"
   },
   {
    "duration": 5,
    "start_time": "2022-12-04T15:54:18.863Z"
   },
   {
    "duration": 7,
    "start_time": "2022-12-04T15:54:18.870Z"
   },
   {
    "duration": 7,
    "start_time": "2022-12-04T15:54:18.878Z"
   },
   {
    "duration": 41,
    "start_time": "2022-12-04T15:54:18.887Z"
   },
   {
    "duration": 5,
    "start_time": "2022-12-04T15:54:18.929Z"
   },
   {
    "duration": 11,
    "start_time": "2022-12-04T15:54:18.935Z"
   },
   {
    "duration": 14,
    "start_time": "2022-12-04T15:54:18.948Z"
   },
   {
    "duration": 10,
    "start_time": "2022-12-04T15:54:18.964Z"
   },
   {
    "duration": 65,
    "start_time": "2022-12-04T15:54:18.975Z"
   },
   {
    "duration": 443,
    "start_time": "2022-12-04T15:54:19.042Z"
   },
   {
    "duration": 12,
    "start_time": "2022-12-04T15:54:19.487Z"
   },
   {
    "duration": 23,
    "start_time": "2022-12-04T15:54:19.501Z"
   },
   {
    "duration": 363,
    "start_time": "2022-12-04T15:54:19.526Z"
   },
   {
    "duration": 16,
    "start_time": "2022-12-04T15:54:19.891Z"
   },
   {
    "duration": 4,
    "start_time": "2022-12-04T15:54:19.923Z"
   },
   {
    "duration": 145,
    "start_time": "2022-12-04T15:54:19.929Z"
   },
   {
    "duration": 154,
    "start_time": "2022-12-04T15:54:20.075Z"
   },
   {
    "duration": 152,
    "start_time": "2022-12-04T15:54:20.231Z"
   },
   {
    "duration": 144,
    "start_time": "2022-12-04T15:54:20.384Z"
   },
   {
    "duration": 150,
    "start_time": "2022-12-04T15:54:20.529Z"
   },
   {
    "duration": 149,
    "start_time": "2022-12-04T15:54:20.680Z"
   },
   {
    "duration": 183,
    "start_time": "2022-12-04T15:54:20.831Z"
   },
   {
    "duration": 143,
    "start_time": "2022-12-04T15:54:21.016Z"
   },
   {
    "duration": 143,
    "start_time": "2022-12-04T15:54:21.160Z"
   },
   {
    "duration": 181,
    "start_time": "2022-12-04T15:54:21.305Z"
   },
   {
    "duration": 14,
    "start_time": "2022-12-04T15:54:21.488Z"
   },
   {
    "duration": 808,
    "start_time": "2022-12-04T15:54:21.504Z"
   },
   {
    "duration": 159,
    "start_time": "2022-12-04T15:54:22.314Z"
   },
   {
    "duration": 10,
    "start_time": "2022-12-04T15:54:22.474Z"
   },
   {
    "duration": 159,
    "start_time": "2022-12-04T15:54:22.485Z"
   },
   {
    "duration": 257,
    "start_time": "2022-12-04T15:54:22.646Z"
   },
   {
    "duration": 0,
    "start_time": "2022-12-04T15:54:22.905Z"
   },
   {
    "duration": 0,
    "start_time": "2022-12-04T15:54:22.907Z"
   },
   {
    "duration": 0,
    "start_time": "2022-12-04T15:54:22.908Z"
   },
   {
    "duration": 0,
    "start_time": "2022-12-04T15:54:22.910Z"
   },
   {
    "duration": 0,
    "start_time": "2022-12-04T15:54:22.911Z"
   },
   {
    "duration": 0,
    "start_time": "2022-12-04T15:54:22.912Z"
   },
   {
    "duration": 0,
    "start_time": "2022-12-04T15:54:22.913Z"
   },
   {
    "duration": 0,
    "start_time": "2022-12-04T15:54:22.914Z"
   },
   {
    "duration": 0,
    "start_time": "2022-12-04T15:54:22.916Z"
   },
   {
    "duration": 0,
    "start_time": "2022-12-04T15:54:22.917Z"
   },
   {
    "duration": 0,
    "start_time": "2022-12-04T15:54:22.918Z"
   },
   {
    "duration": 0,
    "start_time": "2022-12-04T15:54:22.919Z"
   },
   {
    "duration": 0,
    "start_time": "2022-12-04T15:54:22.920Z"
   },
   {
    "duration": 0,
    "start_time": "2022-12-04T15:54:22.921Z"
   },
   {
    "duration": 0,
    "start_time": "2022-12-04T15:54:22.923Z"
   },
   {
    "duration": 0,
    "start_time": "2022-12-04T15:54:22.924Z"
   },
   {
    "duration": 0,
    "start_time": "2022-12-04T15:54:22.925Z"
   },
   {
    "duration": 2,
    "start_time": "2022-12-04T15:54:48.691Z"
   },
   {
    "duration": 4,
    "start_time": "2022-12-04T15:54:51.610Z"
   },
   {
    "duration": 12,
    "start_time": "2022-12-04T15:54:51.616Z"
   },
   {
    "duration": 23,
    "start_time": "2022-12-04T15:54:51.630Z"
   },
   {
    "duration": 26,
    "start_time": "2022-12-04T15:54:51.656Z"
   },
   {
    "duration": 14,
    "start_time": "2022-12-04T15:54:51.685Z"
   },
   {
    "duration": 73,
    "start_time": "2022-12-04T15:54:51.701Z"
   },
   {
    "duration": 18,
    "start_time": "2022-12-04T15:54:51.776Z"
   },
   {
    "duration": 6,
    "start_time": "2022-12-04T15:54:51.796Z"
   },
   {
    "duration": 40,
    "start_time": "2022-12-04T15:54:51.804Z"
   },
   {
    "duration": 4,
    "start_time": "2022-12-04T15:54:51.845Z"
   },
   {
    "duration": 7,
    "start_time": "2022-12-04T15:54:51.851Z"
   },
   {
    "duration": 40,
    "start_time": "2022-12-04T15:54:51.860Z"
   },
   {
    "duration": 15,
    "start_time": "2022-12-04T15:54:51.903Z"
   },
   {
    "duration": 9,
    "start_time": "2022-12-04T15:54:51.920Z"
   },
   {
    "duration": 8,
    "start_time": "2022-12-04T15:54:51.931Z"
   },
   {
    "duration": 13,
    "start_time": "2022-12-04T15:54:51.941Z"
   },
   {
    "duration": 5,
    "start_time": "2022-12-04T15:54:51.956Z"
   },
   {
    "duration": 13,
    "start_time": "2022-12-04T15:54:51.962Z"
   },
   {
    "duration": 4,
    "start_time": "2022-12-04T15:54:51.977Z"
   },
   {
    "duration": 10,
    "start_time": "2022-12-04T15:54:51.983Z"
   },
   {
    "duration": 10,
    "start_time": "2022-12-04T15:54:51.995Z"
   },
   {
    "duration": 23,
    "start_time": "2022-12-04T15:54:52.006Z"
   },
   {
    "duration": 33,
    "start_time": "2022-12-04T15:54:52.030Z"
   },
   {
    "duration": 431,
    "start_time": "2022-12-04T15:54:52.064Z"
   },
   {
    "duration": 14,
    "start_time": "2022-12-04T15:54:52.497Z"
   },
   {
    "duration": 15,
    "start_time": "2022-12-04T15:54:52.512Z"
   },
   {
    "duration": 383,
    "start_time": "2022-12-04T15:54:52.529Z"
   },
   {
    "duration": 26,
    "start_time": "2022-12-04T15:54:52.914Z"
   },
   {
    "duration": 7,
    "start_time": "2022-12-04T15:54:52.942Z"
   },
   {
    "duration": 143,
    "start_time": "2022-12-04T15:54:52.951Z"
   },
   {
    "duration": 147,
    "start_time": "2022-12-04T15:54:53.095Z"
   },
   {
    "duration": 151,
    "start_time": "2022-12-04T15:54:53.244Z"
   },
   {
    "duration": 150,
    "start_time": "2022-12-04T15:54:53.397Z"
   },
   {
    "duration": 160,
    "start_time": "2022-12-04T15:54:53.548Z"
   },
   {
    "duration": 155,
    "start_time": "2022-12-04T15:54:53.710Z"
   },
   {
    "duration": 169,
    "start_time": "2022-12-04T15:54:53.867Z"
   },
   {
    "duration": 184,
    "start_time": "2022-12-04T15:54:54.040Z"
   },
   {
    "duration": 155,
    "start_time": "2022-12-04T15:54:54.226Z"
   },
   {
    "duration": 277,
    "start_time": "2022-12-04T15:54:54.383Z"
   },
   {
    "duration": 16,
    "start_time": "2022-12-04T15:54:54.662Z"
   },
   {
    "duration": 637,
    "start_time": "2022-12-04T15:54:54.680Z"
   },
   {
    "duration": 162,
    "start_time": "2022-12-04T15:54:55.318Z"
   },
   {
    "duration": 9,
    "start_time": "2022-12-04T15:54:55.482Z"
   },
   {
    "duration": 151,
    "start_time": "2022-12-04T15:54:55.493Z"
   },
   {
    "duration": 10,
    "start_time": "2022-12-04T15:54:55.645Z"
   },
   {
    "duration": 9,
    "start_time": "2022-12-04T15:54:55.656Z"
   },
   {
    "duration": 155,
    "start_time": "2022-12-04T15:54:55.667Z"
   },
   {
    "duration": 15,
    "start_time": "2022-12-04T15:54:55.824Z"
   },
   {
    "duration": 175,
    "start_time": "2022-12-04T15:54:55.841Z"
   },
   {
    "duration": 14,
    "start_time": "2022-12-04T15:54:56.022Z"
   },
   {
    "duration": 178,
    "start_time": "2022-12-04T15:54:56.038Z"
   },
   {
    "duration": 11,
    "start_time": "2022-12-04T15:54:56.221Z"
   },
   {
    "duration": 169,
    "start_time": "2022-12-04T15:54:56.234Z"
   },
   {
    "duration": 10,
    "start_time": "2022-12-04T15:54:56.405Z"
   },
   {
    "duration": 41,
    "start_time": "2022-12-04T15:54:56.422Z"
   },
   {
    "duration": 558,
    "start_time": "2022-12-04T15:54:56.464Z"
   },
   {
    "duration": 549,
    "start_time": "2022-12-04T15:54:57.023Z"
   },
   {
    "duration": 361,
    "start_time": "2022-12-04T15:54:57.574Z"
   },
   {
    "duration": 338,
    "start_time": "2022-12-04T15:54:57.937Z"
   },
   {
    "duration": 332,
    "start_time": "2022-12-04T15:54:58.277Z"
   },
   {
    "duration": 14,
    "start_time": "2022-12-04T15:54:58.611Z"
   },
   {
    "duration": 32,
    "start_time": "2022-12-04T15:54:58.627Z"
   },
   {
    "duration": 7,
    "start_time": "2022-12-05T14:30:51.933Z"
   },
   {
    "duration": 408,
    "start_time": "2022-12-05T14:30:56.606Z"
   },
   {
    "duration": 372,
    "start_time": "2022-12-05T14:30:57.016Z"
   },
   {
    "duration": 539,
    "start_time": "2022-12-05T14:30:57.390Z"
   },
   {
    "duration": 2,
    "start_time": "2022-12-05T14:30:57.931Z"
   },
   {
    "duration": 26,
    "start_time": "2022-12-05T14:30:57.936Z"
   },
   {
    "duration": 163,
    "start_time": "2022-12-05T14:30:57.963Z"
   },
   {
    "duration": 13,
    "start_time": "2022-12-05T14:30:58.128Z"
   },
   {
    "duration": 23,
    "start_time": "2022-12-05T14:30:58.143Z"
   },
   {
    "duration": 40,
    "start_time": "2022-12-05T14:30:58.168Z"
   },
   {
    "duration": 10,
    "start_time": "2022-12-05T14:30:58.210Z"
   },
   {
    "duration": 16,
    "start_time": "2022-12-05T14:30:58.222Z"
   },
   {
    "duration": 34,
    "start_time": "2022-12-05T14:30:58.239Z"
   },
   {
    "duration": 25,
    "start_time": "2022-12-05T14:30:58.274Z"
   },
   {
    "duration": 32,
    "start_time": "2022-12-05T14:30:58.302Z"
   },
   {
    "duration": 63,
    "start_time": "2022-12-05T14:30:58.336Z"
   },
   {
    "duration": 28,
    "start_time": "2022-12-05T14:30:58.401Z"
   },
   {
    "duration": 9,
    "start_time": "2022-12-05T14:30:58.431Z"
   },
   {
    "duration": 13,
    "start_time": "2022-12-05T14:30:58.442Z"
   },
   {
    "duration": 13,
    "start_time": "2022-12-05T14:30:58.457Z"
   },
   {
    "duration": 25,
    "start_time": "2022-12-05T14:30:58.471Z"
   },
   {
    "duration": 398,
    "start_time": "2022-12-05T14:30:58.498Z"
   },
   {
    "duration": 11,
    "start_time": "2022-12-05T14:30:58.898Z"
   },
   {
    "duration": 7,
    "start_time": "2022-12-05T14:30:58.910Z"
   },
   {
    "duration": 363,
    "start_time": "2022-12-05T14:30:58.918Z"
   },
   {
    "duration": 13,
    "start_time": "2022-12-05T14:30:59.283Z"
   },
   {
    "duration": 3,
    "start_time": "2022-12-05T14:30:59.298Z"
   },
   {
    "duration": 154,
    "start_time": "2022-12-05T14:30:59.302Z"
   },
   {
    "duration": 190,
    "start_time": "2022-12-05T14:30:59.458Z"
   },
   {
    "duration": 156,
    "start_time": "2022-12-05T14:30:59.649Z"
   },
   {
    "duration": 135,
    "start_time": "2022-12-05T14:30:59.807Z"
   },
   {
    "duration": 212,
    "start_time": "2022-12-05T14:30:59.944Z"
   },
   {
    "duration": 139,
    "start_time": "2022-12-05T14:31:00.157Z"
   },
   {
    "duration": 147,
    "start_time": "2022-12-05T14:31:00.298Z"
   },
   {
    "duration": 131,
    "start_time": "2022-12-05T14:31:00.447Z"
   },
   {
    "duration": 142,
    "start_time": "2022-12-05T14:31:00.580Z"
   },
   {
    "duration": 141,
    "start_time": "2022-12-05T14:31:00.724Z"
   },
   {
    "duration": 22,
    "start_time": "2022-12-05T14:31:00.866Z"
   },
   {
    "duration": 604,
    "start_time": "2022-12-05T14:31:00.890Z"
   },
   {
    "duration": 153,
    "start_time": "2022-12-05T14:31:01.495Z"
   },
   {
    "duration": 9,
    "start_time": "2022-12-05T14:31:01.650Z"
   },
   {
    "duration": 280,
    "start_time": "2022-12-05T14:31:01.676Z"
   },
   {
    "duration": 279,
    "start_time": "2022-12-05T14:31:01.958Z"
   },
   {
    "duration": 0,
    "start_time": "2022-12-05T14:31:02.239Z"
   },
   {
    "duration": 0,
    "start_time": "2022-12-05T14:31:02.240Z"
   },
   {
    "duration": 0,
    "start_time": "2022-12-05T14:31:02.241Z"
   },
   {
    "duration": 0,
    "start_time": "2022-12-05T14:31:02.243Z"
   },
   {
    "duration": 0,
    "start_time": "2022-12-05T14:31:02.244Z"
   },
   {
    "duration": 0,
    "start_time": "2022-12-05T14:31:02.245Z"
   },
   {
    "duration": 0,
    "start_time": "2022-12-05T14:31:02.246Z"
   },
   {
    "duration": 0,
    "start_time": "2022-12-05T14:31:02.248Z"
   },
   {
    "duration": 0,
    "start_time": "2022-12-05T14:31:02.249Z"
   },
   {
    "duration": 0,
    "start_time": "2022-12-05T14:31:02.251Z"
   },
   {
    "duration": 0,
    "start_time": "2022-12-05T14:31:02.252Z"
   },
   {
    "duration": 0,
    "start_time": "2022-12-05T14:31:02.254Z"
   },
   {
    "duration": 0,
    "start_time": "2022-12-05T14:31:02.255Z"
   },
   {
    "duration": 0,
    "start_time": "2022-12-05T14:31:02.256Z"
   },
   {
    "duration": 0,
    "start_time": "2022-12-05T14:31:02.258Z"
   },
   {
    "duration": 0,
    "start_time": "2022-12-05T14:31:02.259Z"
   },
   {
    "duration": 0,
    "start_time": "2022-12-05T14:31:02.260Z"
   },
   {
    "duration": 368,
    "start_time": "2022-12-05T14:31:56.609Z"
   },
   {
    "duration": 209,
    "start_time": "2022-12-05T14:31:56.979Z"
   },
   {
    "duration": 534,
    "start_time": "2022-12-05T14:31:57.190Z"
   },
   {
    "duration": 3,
    "start_time": "2022-12-05T14:31:57.726Z"
   },
   {
    "duration": 9,
    "start_time": "2022-12-05T14:31:57.730Z"
   },
   {
    "duration": 93,
    "start_time": "2022-12-05T14:31:57.741Z"
   },
   {
    "duration": 13,
    "start_time": "2022-12-05T14:31:57.836Z"
   },
   {
    "duration": 23,
    "start_time": "2022-12-05T14:31:57.851Z"
   },
   {
    "duration": 46,
    "start_time": "2022-12-05T14:31:57.876Z"
   },
   {
    "duration": 5,
    "start_time": "2022-12-05T14:31:57.923Z"
   },
   {
    "duration": 20,
    "start_time": "2022-12-05T14:31:57.930Z"
   },
   {
    "duration": 25,
    "start_time": "2022-12-05T14:31:57.952Z"
   },
   {
    "duration": 28,
    "start_time": "2022-12-05T14:31:57.979Z"
   },
   {
    "duration": 13,
    "start_time": "2022-12-05T14:31:58.010Z"
   },
   {
    "duration": 12,
    "start_time": "2022-12-05T14:31:58.025Z"
   },
   {
    "duration": 8,
    "start_time": "2022-12-05T14:31:58.039Z"
   },
   {
    "duration": 21,
    "start_time": "2022-12-05T14:31:58.048Z"
   },
   {
    "duration": 15,
    "start_time": "2022-12-05T14:31:58.070Z"
   },
   {
    "duration": 31,
    "start_time": "2022-12-05T14:31:58.086Z"
   },
   {
    "duration": 31,
    "start_time": "2022-12-05T14:31:58.119Z"
   },
   {
    "duration": 388,
    "start_time": "2022-12-05T14:31:58.152Z"
   },
   {
    "duration": 11,
    "start_time": "2022-12-05T14:31:58.542Z"
   },
   {
    "duration": 23,
    "start_time": "2022-12-05T14:31:58.554Z"
   },
   {
    "duration": 355,
    "start_time": "2022-12-05T14:31:58.578Z"
   },
   {
    "duration": 14,
    "start_time": "2022-12-05T14:31:58.935Z"
   },
   {
    "duration": 6,
    "start_time": "2022-12-05T14:31:58.950Z"
   },
   {
    "duration": 127,
    "start_time": "2022-12-05T14:31:58.957Z"
   },
   {
    "duration": 143,
    "start_time": "2022-12-05T14:31:59.086Z"
   },
   {
    "duration": 147,
    "start_time": "2022-12-05T14:31:59.230Z"
   },
   {
    "duration": 132,
    "start_time": "2022-12-05T14:31:59.378Z"
   },
   {
    "duration": 177,
    "start_time": "2022-12-05T14:31:59.512Z"
   },
   {
    "duration": 217,
    "start_time": "2022-12-05T14:31:59.691Z"
   },
   {
    "duration": 139,
    "start_time": "2022-12-05T14:31:59.910Z"
   },
   {
    "duration": 133,
    "start_time": "2022-12-05T14:32:00.051Z"
   },
   {
    "duration": 136,
    "start_time": "2022-12-05T14:32:00.186Z"
   },
   {
    "duration": 155,
    "start_time": "2022-12-05T14:32:00.324Z"
   },
   {
    "duration": 22,
    "start_time": "2022-12-05T14:32:00.481Z"
   },
   {
    "duration": 618,
    "start_time": "2022-12-05T14:32:00.505Z"
   },
   {
    "duration": 144,
    "start_time": "2022-12-05T14:32:01.125Z"
   },
   {
    "duration": 10,
    "start_time": "2022-12-05T14:32:01.276Z"
   },
   {
    "duration": 153,
    "start_time": "2022-12-05T14:32:01.290Z"
   },
   {
    "duration": 254,
    "start_time": "2022-12-05T14:32:01.445Z"
   },
   {
    "duration": 0,
    "start_time": "2022-12-05T14:32:01.701Z"
   },
   {
    "duration": 0,
    "start_time": "2022-12-05T14:32:01.702Z"
   },
   {
    "duration": 0,
    "start_time": "2022-12-05T14:32:01.704Z"
   },
   {
    "duration": 0,
    "start_time": "2022-12-05T14:32:01.705Z"
   },
   {
    "duration": 0,
    "start_time": "2022-12-05T14:32:01.706Z"
   },
   {
    "duration": 0,
    "start_time": "2022-12-05T14:32:01.708Z"
   },
   {
    "duration": 0,
    "start_time": "2022-12-05T14:32:01.709Z"
   },
   {
    "duration": 0,
    "start_time": "2022-12-05T14:32:01.711Z"
   },
   {
    "duration": 0,
    "start_time": "2022-12-05T14:32:01.712Z"
   },
   {
    "duration": 0,
    "start_time": "2022-12-05T14:32:01.713Z"
   },
   {
    "duration": 0,
    "start_time": "2022-12-05T14:32:01.715Z"
   },
   {
    "duration": 0,
    "start_time": "2022-12-05T14:32:01.716Z"
   },
   {
    "duration": 0,
    "start_time": "2022-12-05T14:32:01.717Z"
   },
   {
    "duration": 0,
    "start_time": "2022-12-05T14:32:01.719Z"
   },
   {
    "duration": 0,
    "start_time": "2022-12-05T14:32:01.720Z"
   },
   {
    "duration": 0,
    "start_time": "2022-12-05T14:32:01.721Z"
   },
   {
    "duration": 0,
    "start_time": "2022-12-05T14:32:01.723Z"
   },
   {
    "duration": 366,
    "start_time": "2022-12-05T14:32:21.070Z"
   },
   {
    "duration": 40,
    "start_time": "2022-12-05T14:38:17.042Z"
   },
   {
    "duration": 3,
    "start_time": "2022-12-05T14:39:33.243Z"
   },
   {
    "duration": 6,
    "start_time": "2022-12-05T14:39:33.947Z"
   },
   {
    "duration": 8,
    "start_time": "2022-12-05T14:39:45.455Z"
   },
   {
    "duration": 416,
    "start_time": "2022-12-05T14:39:52.737Z"
   },
   {
    "duration": 223,
    "start_time": "2022-12-05T14:39:53.155Z"
   },
   {
    "duration": 491,
    "start_time": "2022-12-05T14:39:53.380Z"
   },
   {
    "duration": 3,
    "start_time": "2022-12-05T14:39:53.873Z"
   },
   {
    "duration": 44,
    "start_time": "2022-12-05T14:39:53.878Z"
   },
   {
    "duration": 107,
    "start_time": "2022-12-05T14:39:53.923Z"
   },
   {
    "duration": 13,
    "start_time": "2022-12-05T14:39:54.031Z"
   },
   {
    "duration": 79,
    "start_time": "2022-12-05T14:39:54.046Z"
   },
   {
    "duration": 87,
    "start_time": "2022-12-05T14:39:54.127Z"
   },
   {
    "duration": 20,
    "start_time": "2022-12-05T14:39:54.215Z"
   },
   {
    "duration": 32,
    "start_time": "2022-12-05T14:39:54.237Z"
   },
   {
    "duration": 26,
    "start_time": "2022-12-05T14:39:54.270Z"
   },
   {
    "duration": 15,
    "start_time": "2022-12-05T14:39:54.298Z"
   },
   {
    "duration": 16,
    "start_time": "2022-12-05T14:39:54.315Z"
   },
   {
    "duration": 18,
    "start_time": "2022-12-05T14:39:54.333Z"
   },
   {
    "duration": 27,
    "start_time": "2022-12-05T14:39:54.353Z"
   },
   {
    "duration": 47,
    "start_time": "2022-12-05T14:39:54.382Z"
   },
   {
    "duration": 19,
    "start_time": "2022-12-05T14:39:54.431Z"
   },
   {
    "duration": 19,
    "start_time": "2022-12-05T14:39:54.451Z"
   },
   {
    "duration": 45,
    "start_time": "2022-12-05T14:39:54.472Z"
   },
   {
    "duration": 450,
    "start_time": "2022-12-05T14:39:54.519Z"
   },
   {
    "duration": 21,
    "start_time": "2022-12-05T14:39:54.971Z"
   },
   {
    "duration": 209,
    "start_time": "2022-12-05T14:39:54.999Z"
   },
   {
    "duration": 671,
    "start_time": "2022-12-05T14:39:55.210Z"
   },
   {
    "duration": 16,
    "start_time": "2022-12-05T14:39:55.883Z"
   },
   {
    "duration": 3,
    "start_time": "2022-12-05T14:39:55.901Z"
   },
   {
    "duration": 166,
    "start_time": "2022-12-05T14:39:55.905Z"
   },
   {
    "duration": 146,
    "start_time": "2022-12-05T14:39:56.076Z"
   },
   {
    "duration": 145,
    "start_time": "2022-12-05T14:39:56.225Z"
   },
   {
    "duration": 133,
    "start_time": "2022-12-05T14:39:56.377Z"
   },
   {
    "duration": 141,
    "start_time": "2022-12-05T14:39:56.512Z"
   },
   {
    "duration": 201,
    "start_time": "2022-12-05T14:39:56.655Z"
   },
   {
    "duration": 145,
    "start_time": "2022-12-05T14:39:56.857Z"
   },
   {
    "duration": 140,
    "start_time": "2022-12-05T14:39:57.003Z"
   },
   {
    "duration": 134,
    "start_time": "2022-12-05T14:39:57.144Z"
   },
   {
    "duration": 149,
    "start_time": "2022-12-05T14:39:57.279Z"
   },
   {
    "duration": 17,
    "start_time": "2022-12-05T14:39:57.430Z"
   },
   {
    "duration": 654,
    "start_time": "2022-12-05T14:39:57.448Z"
   },
   {
    "duration": 135,
    "start_time": "2022-12-05T14:39:58.103Z"
   },
   {
    "duration": 9,
    "start_time": "2022-12-05T14:39:58.240Z"
   },
   {
    "duration": 160,
    "start_time": "2022-12-05T14:39:58.252Z"
   },
   {
    "duration": 8,
    "start_time": "2022-12-05T14:39:58.413Z"
   },
   {
    "duration": 21,
    "start_time": "2022-12-05T14:39:58.423Z"
   },
   {
    "duration": 214,
    "start_time": "2022-12-05T14:39:58.446Z"
   },
   {
    "duration": 22,
    "start_time": "2022-12-05T14:39:58.661Z"
   },
   {
    "duration": 150,
    "start_time": "2022-12-05T14:39:58.685Z"
   },
   {
    "duration": 9,
    "start_time": "2022-12-05T14:39:58.837Z"
   },
   {
    "duration": 131,
    "start_time": "2022-12-05T14:39:58.847Z"
   },
   {
    "duration": 10,
    "start_time": "2022-12-05T14:39:58.980Z"
   },
   {
    "duration": 144,
    "start_time": "2022-12-05T14:39:58.992Z"
   },
   {
    "duration": 11,
    "start_time": "2022-12-05T14:39:59.137Z"
   },
   {
    "duration": 53,
    "start_time": "2022-12-05T14:39:59.150Z"
   },
   {
    "duration": 544,
    "start_time": "2022-12-05T14:39:59.205Z"
   },
   {
    "duration": 512,
    "start_time": "2022-12-05T14:39:59.751Z"
   },
   {
    "duration": 299,
    "start_time": "2022-12-05T14:40:00.265Z"
   },
   {
    "duration": 314,
    "start_time": "2022-12-05T14:40:00.566Z"
   },
   {
    "duration": 329,
    "start_time": "2022-12-05T14:40:00.882Z"
   },
   {
    "duration": 9,
    "start_time": "2022-12-05T14:40:01.212Z"
   },
   {
    "duration": 47,
    "start_time": "2022-12-05T14:40:01.223Z"
   },
   {
    "duration": 143,
    "start_time": "2022-12-05T14:44:12.421Z"
   },
   {
    "duration": 157,
    "start_time": "2022-12-05T14:44:15.031Z"
   },
   {
    "duration": 42,
    "start_time": "2022-12-05T14:51:40.978Z"
   },
   {
    "duration": 44,
    "start_time": "2022-12-05T14:51:57.791Z"
   },
   {
    "duration": 104,
    "start_time": "2022-12-05T14:52:31.040Z"
   },
   {
    "duration": 35,
    "start_time": "2022-12-05T14:54:26.389Z"
   },
   {
    "duration": 51,
    "start_time": "2022-12-05T14:56:01.693Z"
   },
   {
    "duration": 42,
    "start_time": "2022-12-05T14:56:13.010Z"
   },
   {
    "duration": 39,
    "start_time": "2022-12-05T14:56:27.848Z"
   },
   {
    "duration": 34,
    "start_time": "2022-12-05T14:56:36.928Z"
   },
   {
    "duration": 536,
    "start_time": "2022-12-05T14:57:07.489Z"
   },
   {
    "duration": 537,
    "start_time": "2022-12-05T14:57:28.526Z"
   },
   {
    "duration": 41,
    "start_time": "2022-12-05T14:57:55.233Z"
   },
   {
    "duration": 35,
    "start_time": "2022-12-05T14:58:07.457Z"
   },
   {
    "duration": 567,
    "start_time": "2022-12-05T14:58:39.267Z"
   },
   {
    "duration": 37,
    "start_time": "2022-12-05T14:58:47.041Z"
   },
   {
    "duration": 37,
    "start_time": "2022-12-05T14:58:53.114Z"
   },
   {
    "duration": 34,
    "start_time": "2022-12-05T14:58:55.253Z"
   },
   {
    "duration": 273,
    "start_time": "2022-12-05T14:59:31.972Z"
   },
   {
    "duration": 32,
    "start_time": "2022-12-05T14:59:44.533Z"
   },
   {
    "duration": 257,
    "start_time": "2022-12-05T15:00:34.239Z"
   },
   {
    "duration": 296,
    "start_time": "2022-12-05T15:01:03.302Z"
   },
   {
    "duration": 262,
    "start_time": "2022-12-05T15:01:13.857Z"
   },
   {
    "duration": 217,
    "start_time": "2022-12-05T15:01:21.300Z"
   },
   {
    "duration": 23,
    "start_time": "2022-12-05T15:31:07.905Z"
   },
   {
    "duration": 19,
    "start_time": "2022-12-05T15:31:29.538Z"
   },
   {
    "duration": 392,
    "start_time": "2022-12-05T15:46:48.180Z"
   },
   {
    "duration": 215,
    "start_time": "2022-12-05T15:46:48.574Z"
   },
   {
    "duration": 531,
    "start_time": "2022-12-05T15:46:48.791Z"
   },
   {
    "duration": 3,
    "start_time": "2022-12-05T15:46:49.324Z"
   },
   {
    "duration": 5,
    "start_time": "2022-12-05T15:46:49.329Z"
   },
   {
    "duration": 75,
    "start_time": "2022-12-05T15:46:49.335Z"
   },
   {
    "duration": 15,
    "start_time": "2022-12-05T15:46:49.411Z"
   },
   {
    "duration": 5,
    "start_time": "2022-12-05T15:46:49.428Z"
   },
   {
    "duration": 44,
    "start_time": "2022-12-05T15:46:49.435Z"
   },
   {
    "duration": 4,
    "start_time": "2022-12-05T15:46:49.480Z"
   },
   {
    "duration": 7,
    "start_time": "2022-12-05T15:46:49.485Z"
   },
   {
    "duration": 18,
    "start_time": "2022-12-05T15:46:49.493Z"
   },
   {
    "duration": 12,
    "start_time": "2022-12-05T15:46:49.512Z"
   },
   {
    "duration": 8,
    "start_time": "2022-12-05T15:46:49.528Z"
   },
   {
    "duration": 11,
    "start_time": "2022-12-05T15:46:49.537Z"
   },
   {
    "duration": 27,
    "start_time": "2022-12-05T15:46:49.549Z"
   },
   {
    "duration": 11,
    "start_time": "2022-12-05T15:46:49.578Z"
   },
   {
    "duration": 10,
    "start_time": "2022-12-05T15:46:49.590Z"
   },
   {
    "duration": 8,
    "start_time": "2022-12-05T15:46:49.601Z"
   },
   {
    "duration": 42,
    "start_time": "2022-12-05T15:46:49.610Z"
   },
   {
    "duration": 410,
    "start_time": "2022-12-05T15:46:49.653Z"
   },
   {
    "duration": 19,
    "start_time": "2022-12-05T15:46:50.064Z"
   },
   {
    "duration": 11,
    "start_time": "2022-12-05T15:46:50.086Z"
   },
   {
    "duration": 378,
    "start_time": "2022-12-05T15:46:50.099Z"
   },
   {
    "duration": 14,
    "start_time": "2022-12-05T15:46:50.479Z"
   },
   {
    "duration": 4,
    "start_time": "2022-12-05T15:46:50.494Z"
   },
   {
    "duration": 129,
    "start_time": "2022-12-05T15:46:50.499Z"
   },
   {
    "duration": 138,
    "start_time": "2022-12-05T15:46:50.629Z"
   },
   {
    "duration": 147,
    "start_time": "2022-12-05T15:46:50.769Z"
   },
   {
    "duration": 126,
    "start_time": "2022-12-05T15:46:50.918Z"
   },
   {
    "duration": 137,
    "start_time": "2022-12-05T15:46:51.045Z"
   },
   {
    "duration": 205,
    "start_time": "2022-12-05T15:46:51.184Z"
   },
   {
    "duration": 151,
    "start_time": "2022-12-05T15:46:51.391Z"
   },
   {
    "duration": 147,
    "start_time": "2022-12-05T15:46:51.544Z"
   },
   {
    "duration": 127,
    "start_time": "2022-12-05T15:46:51.692Z"
   },
   {
    "duration": 139,
    "start_time": "2022-12-05T15:46:51.820Z"
   },
   {
    "duration": 23,
    "start_time": "2022-12-05T15:46:51.961Z"
   },
   {
    "duration": 625,
    "start_time": "2022-12-05T15:46:51.986Z"
   },
   {
    "duration": 163,
    "start_time": "2022-12-05T15:46:52.613Z"
   },
   {
    "duration": 9,
    "start_time": "2022-12-05T15:46:52.778Z"
   },
   {
    "duration": 158,
    "start_time": "2022-12-05T15:46:52.791Z"
   },
   {
    "duration": 10,
    "start_time": "2022-12-05T15:46:52.950Z"
   },
   {
    "duration": 23,
    "start_time": "2022-12-05T15:46:52.962Z"
   },
   {
    "duration": 224,
    "start_time": "2022-12-05T15:46:52.987Z"
   },
   {
    "duration": 10,
    "start_time": "2022-12-05T15:46:53.213Z"
   },
   {
    "duration": 143,
    "start_time": "2022-12-05T15:46:53.224Z"
   },
   {
    "duration": 10,
    "start_time": "2022-12-05T15:46:53.375Z"
   },
   {
    "duration": 130,
    "start_time": "2022-12-05T15:46:53.387Z"
   },
   {
    "duration": 14,
    "start_time": "2022-12-05T15:46:53.519Z"
   },
   {
    "duration": 144,
    "start_time": "2022-12-05T15:46:53.535Z"
   },
   {
    "duration": 9,
    "start_time": "2022-12-05T15:46:53.681Z"
   },
   {
    "duration": 34,
    "start_time": "2022-12-05T15:46:53.692Z"
   },
   {
    "duration": 257,
    "start_time": "2022-12-05T15:46:53.728Z"
   },
   {
    "duration": 498,
    "start_time": "2022-12-05T15:46:53.987Z"
   },
   {
    "duration": 576,
    "start_time": "2022-12-05T15:46:54.487Z"
   },
   {
    "duration": 311,
    "start_time": "2022-12-05T15:46:55.065Z"
   },
   {
    "duration": 333,
    "start_time": "2022-12-05T15:46:55.377Z"
   },
   {
    "duration": 304,
    "start_time": "2022-12-05T15:46:55.712Z"
   },
   {
    "duration": 10,
    "start_time": "2022-12-05T15:46:56.017Z"
   },
   {
    "duration": 16,
    "start_time": "2022-12-05T15:46:56.029Z"
   },
   {
    "duration": 43,
    "start_time": "2023-02-14T06:11:50.088Z"
   },
   {
    "duration": 5,
    "start_time": "2023-02-14T06:14:17.415Z"
   },
   {
    "duration": 350,
    "start_time": "2023-02-14T06:14:23.006Z"
   },
   {
    "duration": 200,
    "start_time": "2023-02-14T06:14:23.357Z"
   },
   {
    "duration": 482,
    "start_time": "2023-02-14T06:14:23.558Z"
   },
   {
    "duration": 3,
    "start_time": "2023-02-14T06:14:24.041Z"
   },
   {
    "duration": 4,
    "start_time": "2023-02-14T06:14:24.047Z"
   },
   {
    "duration": 211,
    "start_time": "2023-02-14T06:14:24.052Z"
   },
   {
    "duration": 16,
    "start_time": "2023-02-14T06:14:24.265Z"
   },
   {
    "duration": 10,
    "start_time": "2023-02-14T06:14:24.282Z"
   },
   {
    "duration": 31,
    "start_time": "2023-02-14T06:14:24.294Z"
   },
   {
    "duration": 4,
    "start_time": "2023-02-14T06:14:24.327Z"
   },
   {
    "duration": 7,
    "start_time": "2023-02-14T06:14:24.347Z"
   },
   {
    "duration": 17,
    "start_time": "2023-02-14T06:14:24.356Z"
   },
   {
    "duration": 7,
    "start_time": "2023-02-14T06:14:24.374Z"
   },
   {
    "duration": 3,
    "start_time": "2023-02-14T06:14:24.383Z"
   },
   {
    "duration": 10,
    "start_time": "2023-02-14T06:14:24.387Z"
   },
   {
    "duration": 4,
    "start_time": "2023-02-14T06:14:24.398Z"
   },
   {
    "duration": 7,
    "start_time": "2023-02-14T06:14:24.404Z"
   },
   {
    "duration": 8,
    "start_time": "2023-02-14T06:14:24.412Z"
   },
   {
    "duration": 7,
    "start_time": "2023-02-14T06:14:24.448Z"
   },
   {
    "duration": 29,
    "start_time": "2023-02-14T06:14:24.456Z"
   },
   {
    "duration": 389,
    "start_time": "2023-02-14T06:14:24.486Z"
   },
   {
    "duration": 10,
    "start_time": "2023-02-14T06:14:24.877Z"
   },
   {
    "duration": 7,
    "start_time": "2023-02-14T06:14:24.888Z"
   },
   {
    "duration": 391,
    "start_time": "2023-02-14T06:14:24.896Z"
   },
   {
    "duration": 18,
    "start_time": "2023-02-14T06:14:25.289Z"
   },
   {
    "duration": 4,
    "start_time": "2023-02-14T06:14:25.309Z"
   },
   {
    "duration": 141,
    "start_time": "2023-02-14T06:14:25.315Z"
   },
   {
    "duration": 139,
    "start_time": "2023-02-14T06:14:25.458Z"
   },
   {
    "duration": 140,
    "start_time": "2023-02-14T06:14:25.599Z"
   },
   {
    "duration": 125,
    "start_time": "2023-02-14T06:14:25.741Z"
   },
   {
    "duration": 136,
    "start_time": "2023-02-14T06:14:25.868Z"
   },
   {
    "duration": 196,
    "start_time": "2023-02-14T06:14:26.006Z"
   },
   {
    "duration": 147,
    "start_time": "2023-02-14T06:14:26.203Z"
   },
   {
    "duration": 131,
    "start_time": "2023-02-14T06:14:26.351Z"
   },
   {
    "duration": 125,
    "start_time": "2023-02-14T06:14:26.484Z"
   },
   {
    "duration": 137,
    "start_time": "2023-02-14T06:14:26.611Z"
   },
   {
    "duration": 14,
    "start_time": "2023-02-14T06:14:26.749Z"
   },
   {
    "duration": 580,
    "start_time": "2023-02-14T06:14:26.764Z"
   },
   {
    "duration": 140,
    "start_time": "2023-02-14T06:14:27.348Z"
   },
   {
    "duration": 8,
    "start_time": "2023-02-14T06:14:27.489Z"
   },
   {
    "duration": 146,
    "start_time": "2023-02-14T06:14:27.502Z"
   },
   {
    "duration": 8,
    "start_time": "2023-02-14T06:14:27.650Z"
   },
   {
    "duration": 10,
    "start_time": "2023-02-14T06:14:27.660Z"
   },
   {
    "duration": 210,
    "start_time": "2023-02-14T06:14:27.672Z"
   },
   {
    "duration": 10,
    "start_time": "2023-02-14T06:14:27.884Z"
   },
   {
    "duration": 141,
    "start_time": "2023-02-14T06:14:27.896Z"
   },
   {
    "duration": 17,
    "start_time": "2023-02-14T06:14:28.038Z"
   },
   {
    "duration": 119,
    "start_time": "2023-02-14T06:14:28.056Z"
   },
   {
    "duration": 10,
    "start_time": "2023-02-14T06:14:28.176Z"
   },
   {
    "duration": 149,
    "start_time": "2023-02-14T06:14:28.188Z"
   },
   {
    "duration": 10,
    "start_time": "2023-02-14T06:14:28.348Z"
   },
   {
    "duration": 34,
    "start_time": "2023-02-14T06:14:28.360Z"
   },
   {
    "duration": 225,
    "start_time": "2023-02-14T06:14:28.396Z"
   },
   {
    "duration": 466,
    "start_time": "2023-02-14T06:14:28.623Z"
   },
   {
    "duration": 469,
    "start_time": "2023-02-14T06:14:29.090Z"
   },
   {
    "duration": 273,
    "start_time": "2023-02-14T06:14:29.561Z"
   },
   {
    "duration": 319,
    "start_time": "2023-02-14T06:14:29.836Z"
   },
   {
    "duration": 300,
    "start_time": "2023-02-14T06:14:30.157Z"
   },
   {
    "duration": 12,
    "start_time": "2023-02-14T06:14:30.460Z"
   },
   {
    "duration": 18,
    "start_time": "2023-02-14T06:14:30.476Z"
   }
  ],
  "kernelspec": {
   "display_name": "Python 3 (ipykernel)",
   "language": "python",
   "name": "python3"
  },
  "language_info": {
   "codemirror_mode": {
    "name": "ipython",
    "version": 3
   },
   "file_extension": ".py",
   "mimetype": "text/x-python",
   "name": "python",
   "nbconvert_exporter": "python",
   "pygments_lexer": "ipython3",
   "version": "3.9.5"
  },
  "toc": {
   "base_numbering": 1,
   "nav_menu": {},
   "number_sections": true,
   "sideBar": true,
   "skip_h1_title": true,
   "title_cell": "Table of Contents",
   "title_sidebar": "Contents",
   "toc_cell": false,
   "toc_position": {},
   "toc_section_display": true,
   "toc_window_display": false
  }
 },
 "nbformat": 4,
 "nbformat_minor": 2
}
